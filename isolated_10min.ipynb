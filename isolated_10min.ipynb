{
 "cells": [
  {
   "cell_type": "code",
   "execution_count": 1,
   "id": "442cb840",
   "metadata": {},
   "outputs": [],
   "source": [
    "import pandas as pd\n",
    "import pyodbc"
   ]
  },
  {
   "cell_type": "code",
   "execution_count": 2,
   "id": "b6a33c56",
   "metadata": {},
   "outputs": [],
   "source": [
    "sql_Conn = pyodbc.connect('DRIVER={SQL Server};SERVER=DS-Server;DATABASE=events_2023;Trusted_Connection=yes')"
   ]
  },
  {
   "cell_type": "code",
   "execution_count": 3,
   "id": "8a701f41",
   "metadata": {},
   "outputs": [
    {
     "name": "stdout",
     "output_type": "stream",
     "text": [
      "(13793502, 6)\n"
     ]
    }
   ],
   "source": [
    "month = 1\n",
    "year = 2023\n",
    "dummy_df = pd.read_sql_query(f'SELECT Time,Action,ConditionName, Priority, Actor,AreaName FROM events_{month}_{year}', sql_Conn)\n",
    "while month < 12:\n",
    "    month += 1\n",
    "    curr_df = pd.read_sql_query(f'SELECT Time,Action,ConditionName, Priority, Actor,AreaName FROM events_{month}_{year}', sql_Conn)\n",
    "    dummy_df = pd.concat([dummy_df, curr_df], ignore_index=True)\n",
    "    \n",
    "\n",
    "print(dummy_df.shape)"
   ]
  },
  {
   "cell_type": "code",
   "execution_count": 4,
   "id": "51c0d8e5",
   "metadata": {},
   "outputs": [
    {
     "data": {
      "text/plain": [
       "(13793502, 6)"
      ]
     },
     "execution_count": 4,
     "metadata": {},
     "output_type": "execute_result"
    }
   ],
   "source": [
    "final_df_1.shape"
   ]
  },
  {
   "cell_type": "code",
   "execution_count": 6,
   "id": "4ef939a0",
   "metadata": {},
   "outputs": [
    {
     "ename": "NameError",
     "evalue": "name 'final_df_1' is not defined",
     "output_type": "error",
     "traceback": [
      "\u001b[1;31m---------------------------------------------------------------------------\u001b[0m",
      "\u001b[1;31mNameError\u001b[0m                                 Traceback (most recent call last)",
      "\u001b[1;32m<ipython-input-6-27faa99efa8d>\u001b[0m in \u001b[0;36m<module>\u001b[1;34m\u001b[0m\n\u001b[1;32m----> 1\u001b[1;33m \u001b[0mfinal_df_1\u001b[0m\u001b[1;33m.\u001b[0m\u001b[0mto_csv\u001b[0m\u001b[1;33m(\u001b[0m\u001b[1;34m'final_df_1.csv'\u001b[0m\u001b[1;33m)\u001b[0m\u001b[1;33m\u001b[0m\u001b[1;33m\u001b[0m\u001b[0m\n\u001b[0m",
      "\u001b[1;31mNameError\u001b[0m: name 'final_df_1' is not defined"
     ]
    }
   ],
   "source": [
    "final_df_1.to_csv('final_df_1.csv')"
   ]
  },
  {
   "cell_type": "code",
   "execution_count": 7,
   "id": "7f97e36e",
   "metadata": {},
   "outputs": [],
   "source": [
    "init_df = dummy_df.copy()"
   ]
  },
  {
   "cell_type": "code",
   "execution_count": 8,
   "id": "25512aa0",
   "metadata": {},
   "outputs": [
    {
     "data": {
      "text/html": [
       "<div>\n",
       "<style scoped>\n",
       "    .dataframe tbody tr th:only-of-type {\n",
       "        vertical-align: middle;\n",
       "    }\n",
       "\n",
       "    .dataframe tbody tr th {\n",
       "        vertical-align: top;\n",
       "    }\n",
       "\n",
       "    .dataframe thead th {\n",
       "        text-align: right;\n",
       "    }\n",
       "</style>\n",
       "<table border=\"1\" class=\"dataframe\">\n",
       "  <thead>\n",
       "    <tr style=\"text-align: right;\">\n",
       "      <th></th>\n",
       "      <th>Time</th>\n",
       "      <th>Action</th>\n",
       "      <th>ConditionName</th>\n",
       "      <th>Priority</th>\n",
       "      <th>Actor</th>\n",
       "      <th>AreaName</th>\n",
       "    </tr>\n",
       "  </thead>\n",
       "  <tbody>\n",
       "    <tr>\n",
       "      <th>11861712</th>\n",
       "      <td>2023-08-27 01:00:47.207</td>\n",
       "      <td>OK</td>\n",
       "      <td>OVRDI0</td>\n",
       "      <td>0.0</td>\n",
       "      <td>None</td>\n",
       "      <td>241_2_DCS</td>\n",
       "    </tr>\n",
       "    <tr>\n",
       "      <th>3149427</th>\n",
       "      <td>2023-03-26 12:14:14.303</td>\n",
       "      <td>OK</td>\n",
       "      <td>OFFNRM</td>\n",
       "      <td>0.0</td>\n",
       "      <td>None</td>\n",
       "      <td>331_0_DCS</td>\n",
       "    </tr>\n",
       "    <tr>\n",
       "      <th>10582096</th>\n",
       "      <td>2023-07-12 16:59:58.700</td>\n",
       "      <td>None</td>\n",
       "      <td>PVLOW</td>\n",
       "      <td>0.0</td>\n",
       "      <td>None</td>\n",
       "      <td>120</td>\n",
       "    </tr>\n",
       "    <tr>\n",
       "      <th>4690430</th>\n",
       "      <td>2023-04-01 20:19:31.900</td>\n",
       "      <td>None</td>\n",
       "      <td>CHANGE</td>\n",
       "      <td>0.0</td>\n",
       "      <td>None</td>\n",
       "      <td>GAS_350</td>\n",
       "    </tr>\n",
       "    <tr>\n",
       "      <th>5842947</th>\n",
       "      <td>2023-05-19 03:47:13.800</td>\n",
       "      <td>OK</td>\n",
       "      <td>PVLL</td>\n",
       "      <td>48.0</td>\n",
       "      <td>None</td>\n",
       "      <td>241_1_ESD</td>\n",
       "    </tr>\n",
       "  </tbody>\n",
       "</table>\n",
       "</div>"
      ],
      "text/plain": [
       "                            Time Action ConditionName  Priority Actor  \\\n",
       "11861712 2023-08-27 01:00:47.207     OK        OVRDI0       0.0  None   \n",
       "3149427  2023-03-26 12:14:14.303     OK        OFFNRM       0.0  None   \n",
       "10582096 2023-07-12 16:59:58.700   None         PVLOW       0.0  None   \n",
       "4690430  2023-04-01 20:19:31.900   None        CHANGE       0.0  None   \n",
       "5842947  2023-05-19 03:47:13.800     OK          PVLL      48.0  None   \n",
       "\n",
       "           AreaName  \n",
       "11861712  241_2_DCS  \n",
       "3149427   331_0_DCS  \n",
       "10582096        120  \n",
       "4690430     GAS_350  \n",
       "5842947   241_1_ESD  "
      ]
     },
     "execution_count": 8,
     "metadata": {},
     "output_type": "execute_result"
    }
   ],
   "source": [
    "init_df.sample(5)"
   ]
  },
  {
   "cell_type": "code",
   "execution_count": 9,
   "id": "3b2813ad",
   "metadata": {},
   "outputs": [
    {
     "name": "stdout",
     "output_type": "stream",
     "text": [
      "<class 'pandas.core.frame.DataFrame'>\n",
      "RangeIndex: 13793502 entries, 0 to 13793501\n",
      "Data columns (total 6 columns):\n",
      " #   Column         Dtype         \n",
      "---  ------         -----         \n",
      " 0   Time           datetime64[ns]\n",
      " 1   Action         object        \n",
      " 2   ConditionName  object        \n",
      " 3   Priority       float64       \n",
      " 4   Actor          object        \n",
      " 5   AreaName       object        \n",
      "dtypes: datetime64[ns](1), float64(1), object(4)\n",
      "memory usage: 631.4+ MB\n"
     ]
    }
   ],
   "source": [
    "init_df.info()"
   ]
  },
  {
   "cell_type": "code",
   "execution_count": 10,
   "id": "a8ee4f2e",
   "metadata": {},
   "outputs": [],
   "source": [
    "df = init_df.copy()"
   ]
  },
  {
   "cell_type": "code",
   "execution_count": 11,
   "id": "7c6b3521",
   "metadata": {},
   "outputs": [
    {
     "data": {
      "text/html": [
       "<div>\n",
       "<style scoped>\n",
       "    .dataframe tbody tr th:only-of-type {\n",
       "        vertical-align: middle;\n",
       "    }\n",
       "\n",
       "    .dataframe tbody tr th {\n",
       "        vertical-align: top;\n",
       "    }\n",
       "\n",
       "    .dataframe thead th {\n",
       "        text-align: right;\n",
       "    }\n",
       "</style>\n",
       "<table border=\"1\" class=\"dataframe\">\n",
       "  <thead>\n",
       "    <tr style=\"text-align: right;\">\n",
       "      <th></th>\n",
       "      <th>Time</th>\n",
       "      <th>Action</th>\n",
       "      <th>ConditionName</th>\n",
       "      <th>Priority</th>\n",
       "      <th>Actor</th>\n",
       "      <th>AreaName</th>\n",
       "    </tr>\n",
       "  </thead>\n",
       "  <tbody>\n",
       "    <tr>\n",
       "      <th>0</th>\n",
       "      <td>2023-01-24 21:07:05.013</td>\n",
       "      <td>None</td>\n",
       "      <td>OFFNRM</td>\n",
       "      <td>0.0</td>\n",
       "      <td>None</td>\n",
       "      <td>130</td>\n",
       "    </tr>\n",
       "    <tr>\n",
       "      <th>1</th>\n",
       "      <td>2023-01-24 21:07:05.013</td>\n",
       "      <td>None</td>\n",
       "      <td>OFFNRM</td>\n",
       "      <td>0.0</td>\n",
       "      <td>None</td>\n",
       "      <td>130</td>\n",
       "    </tr>\n",
       "    <tr>\n",
       "      <th>2</th>\n",
       "      <td>2023-01-24 21:07:05.013</td>\n",
       "      <td>None</td>\n",
       "      <td>OFFNRM</td>\n",
       "      <td>0.0</td>\n",
       "      <td>None</td>\n",
       "      <td>130</td>\n",
       "    </tr>\n",
       "    <tr>\n",
       "      <th>3</th>\n",
       "      <td>2023-01-24 21:07:05.013</td>\n",
       "      <td>None</td>\n",
       "      <td>OFFNRM</td>\n",
       "      <td>0.0</td>\n",
       "      <td>None</td>\n",
       "      <td>130</td>\n",
       "    </tr>\n",
       "    <tr>\n",
       "      <th>4</th>\n",
       "      <td>2023-01-24 21:07:05.013</td>\n",
       "      <td>None</td>\n",
       "      <td>OFFNRM</td>\n",
       "      <td>0.0</td>\n",
       "      <td>None</td>\n",
       "      <td>130</td>\n",
       "    </tr>\n",
       "  </tbody>\n",
       "</table>\n",
       "</div>"
      ],
      "text/plain": [
       "                     Time Action ConditionName  Priority Actor AreaName\n",
       "0 2023-01-24 21:07:05.013   None        OFFNRM       0.0  None      130\n",
       "1 2023-01-24 21:07:05.013   None        OFFNRM       0.0  None      130\n",
       "2 2023-01-24 21:07:05.013   None        OFFNRM       0.0  None      130\n",
       "3 2023-01-24 21:07:05.013   None        OFFNRM       0.0  None      130\n",
       "4 2023-01-24 21:07:05.013   None        OFFNRM       0.0  None      130"
      ]
     },
     "execution_count": 11,
     "metadata": {},
     "output_type": "execute_result"
    }
   ],
   "source": [
    "df.head()"
   ]
  },
  {
   "cell_type": "markdown",
   "id": "b4341a6b",
   "metadata": {},
   "source": [
    "## Feature engineering with Time column"
   ]
  },
  {
   "cell_type": "code",
   "execution_count": 12,
   "id": "3084fc9b",
   "metadata": {},
   "outputs": [
    {
     "data": {
      "text/html": [
       "<div>\n",
       "<style scoped>\n",
       "    .dataframe tbody tr th:only-of-type {\n",
       "        vertical-align: middle;\n",
       "    }\n",
       "\n",
       "    .dataframe tbody tr th {\n",
       "        vertical-align: top;\n",
       "    }\n",
       "\n",
       "    .dataframe thead th {\n",
       "        text-align: right;\n",
       "    }\n",
       "</style>\n",
       "<table border=\"1\" class=\"dataframe\">\n",
       "  <thead>\n",
       "    <tr style=\"text-align: right;\">\n",
       "      <th></th>\n",
       "      <th>Time</th>\n",
       "      <th>Action</th>\n",
       "      <th>ConditionName</th>\n",
       "      <th>Priority</th>\n",
       "      <th>Actor</th>\n",
       "      <th>AreaName</th>\n",
       "    </tr>\n",
       "  </thead>\n",
       "  <tbody>\n",
       "    <tr>\n",
       "      <th>0</th>\n",
       "      <td>2023-01-25 02:07:05.013</td>\n",
       "      <td>None</td>\n",
       "      <td>OFFNRM</td>\n",
       "      <td>0.0</td>\n",
       "      <td>None</td>\n",
       "      <td>130</td>\n",
       "    </tr>\n",
       "    <tr>\n",
       "      <th>1</th>\n",
       "      <td>2023-01-25 02:07:05.013</td>\n",
       "      <td>None</td>\n",
       "      <td>OFFNRM</td>\n",
       "      <td>0.0</td>\n",
       "      <td>None</td>\n",
       "      <td>130</td>\n",
       "    </tr>\n",
       "    <tr>\n",
       "      <th>2</th>\n",
       "      <td>2023-01-25 02:07:05.013</td>\n",
       "      <td>None</td>\n",
       "      <td>OFFNRM</td>\n",
       "      <td>0.0</td>\n",
       "      <td>None</td>\n",
       "      <td>130</td>\n",
       "    </tr>\n",
       "    <tr>\n",
       "      <th>3</th>\n",
       "      <td>2023-01-25 02:07:05.013</td>\n",
       "      <td>None</td>\n",
       "      <td>OFFNRM</td>\n",
       "      <td>0.0</td>\n",
       "      <td>None</td>\n",
       "      <td>130</td>\n",
       "    </tr>\n",
       "    <tr>\n",
       "      <th>4</th>\n",
       "      <td>2023-01-25 02:07:05.013</td>\n",
       "      <td>None</td>\n",
       "      <td>OFFNRM</td>\n",
       "      <td>0.0</td>\n",
       "      <td>None</td>\n",
       "      <td>130</td>\n",
       "    </tr>\n",
       "  </tbody>\n",
       "</table>\n",
       "</div>"
      ],
      "text/plain": [
       "                     Time Action ConditionName  Priority Actor AreaName\n",
       "0 2023-01-25 02:07:05.013   None        OFFNRM       0.0  None      130\n",
       "1 2023-01-25 02:07:05.013   None        OFFNRM       0.0  None      130\n",
       "2 2023-01-25 02:07:05.013   None        OFFNRM       0.0  None      130\n",
       "3 2023-01-25 02:07:05.013   None        OFFNRM       0.0  None      130\n",
       "4 2023-01-25 02:07:05.013   None        OFFNRM       0.0  None      130"
      ]
     },
     "execution_count": 12,
     "metadata": {},
     "output_type": "execute_result"
    }
   ],
   "source": [
    "# Add to Time 5 hours (UTC+5)\n",
    "from datetime import timedelta\n",
    "\n",
    "df.loc[:,'Time'] = df['Time'] + timedelta(hours=5)\n",
    "df.head()"
   ]
  },
  {
   "cell_type": "markdown",
   "id": "45473877",
   "metadata": {},
   "source": [
    "## Merge Assets-Units dataframe"
   ]
  },
  {
   "cell_type": "code",
   "execution_count": 13,
   "id": "7d10a0c0",
   "metadata": {},
   "outputs": [
    {
     "data": {
      "text/html": [
       "<div>\n",
       "<style scoped>\n",
       "    .dataframe tbody tr th:only-of-type {\n",
       "        vertical-align: middle;\n",
       "    }\n",
       "\n",
       "    .dataframe tbody tr th {\n",
       "        vertical-align: top;\n",
       "    }\n",
       "\n",
       "    .dataframe thead th {\n",
       "        text-align: right;\n",
       "    }\n",
       "</style>\n",
       "<table border=\"1\" class=\"dataframe\">\n",
       "  <thead>\n",
       "    <tr style=\"text-align: right;\">\n",
       "      <th></th>\n",
       "      <th>Asset</th>\n",
       "      <th>Unit</th>\n",
       "    </tr>\n",
       "  </thead>\n",
       "  <tbody>\n",
       "    <tr>\n",
       "      <th>0</th>\n",
       "      <td>211</td>\n",
       "      <td>Unit_1</td>\n",
       "    </tr>\n",
       "    <tr>\n",
       "      <th>1</th>\n",
       "      <td>211_0_DCS</td>\n",
       "      <td>Unit_1</td>\n",
       "    </tr>\n",
       "    <tr>\n",
       "      <th>2</th>\n",
       "      <td>211_0_ESD</td>\n",
       "      <td>Unit_1</td>\n",
       "    </tr>\n",
       "    <tr>\n",
       "      <th>3</th>\n",
       "      <td>221</td>\n",
       "      <td>Unit_1</td>\n",
       "    </tr>\n",
       "    <tr>\n",
       "      <th>4</th>\n",
       "      <td>221_0_DCS</td>\n",
       "      <td>Unit_1</td>\n",
       "    </tr>\n",
       "  </tbody>\n",
       "</table>\n",
       "</div>"
      ],
      "text/plain": [
       "       Asset    Unit\n",
       "0        211  Unit_1\n",
       "1  211_0_DCS  Unit_1\n",
       "2  211_0_ESD  Unit_1\n",
       "3        221  Unit_1\n",
       "4  221_0_DCS  Unit_1"
      ]
     },
     "execution_count": 13,
     "metadata": {},
     "output_type": "execute_result"
    }
   ],
   "source": [
    "assets = pd.read_csv('Assets.csv', sep=';', encoding='cp1251')\n",
    "assets.head()"
   ]
  },
  {
   "cell_type": "code",
   "execution_count": 14,
   "id": "4a7b33c2",
   "metadata": {},
   "outputs": [
    {
     "data": {
      "text/html": [
       "<div>\n",
       "<style scoped>\n",
       "    .dataframe tbody tr th:only-of-type {\n",
       "        vertical-align: middle;\n",
       "    }\n",
       "\n",
       "    .dataframe tbody tr th {\n",
       "        vertical-align: top;\n",
       "    }\n",
       "\n",
       "    .dataframe thead th {\n",
       "        text-align: right;\n",
       "    }\n",
       "</style>\n",
       "<table border=\"1\" class=\"dataframe\">\n",
       "  <thead>\n",
       "    <tr style=\"text-align: right;\">\n",
       "      <th></th>\n",
       "      <th>Time</th>\n",
       "      <th>Action</th>\n",
       "      <th>ConditionName</th>\n",
       "      <th>Priority</th>\n",
       "      <th>Actor</th>\n",
       "      <th>AreaName</th>\n",
       "      <th>Unit</th>\n",
       "    </tr>\n",
       "  </thead>\n",
       "  <tbody>\n",
       "    <tr>\n",
       "      <th>9745249</th>\n",
       "      <td>2023-07-30 13:44:54.900</td>\n",
       "      <td>None</td>\n",
       "      <td>ALARM</td>\n",
       "      <td>32.0</td>\n",
       "      <td>None</td>\n",
       "      <td>FIRE_830</td>\n",
       "      <td>NaN</td>\n",
       "    </tr>\n",
       "    <tr>\n",
       "      <th>1175445</th>\n",
       "      <td>2023-02-04 03:27:55.400</td>\n",
       "      <td>None</td>\n",
       "      <td>CHANGE</td>\n",
       "      <td>0.0</td>\n",
       "      <td>None</td>\n",
       "      <td>485_0_DCS</td>\n",
       "      <td>Unit_4</td>\n",
       "    </tr>\n",
       "    <tr>\n",
       "      <th>12640689</th>\n",
       "      <td>2023-09-09 15:47:03.300</td>\n",
       "      <td>None</td>\n",
       "      <td>CHANGE</td>\n",
       "      <td>0.0</td>\n",
       "      <td>None</td>\n",
       "      <td>GAS_350</td>\n",
       "      <td>Unit_1</td>\n",
       "    </tr>\n",
       "    <tr>\n",
       "      <th>6943021</th>\n",
       "      <td>2023-05-26 22:58:29.800</td>\n",
       "      <td>None</td>\n",
       "      <td>ALARM</td>\n",
       "      <td>0.0</td>\n",
       "      <td>None</td>\n",
       "      <td>110</td>\n",
       "      <td>GS</td>\n",
       "    </tr>\n",
       "    <tr>\n",
       "      <th>3462817</th>\n",
       "      <td>2023-03-08 09:30:30.600</td>\n",
       "      <td>ACK</td>\n",
       "      <td>ALARM</td>\n",
       "      <td>96.0</td>\n",
       "      <td>KANDYM\\dtsoy</td>\n",
       "      <td>FIRE_110</td>\n",
       "      <td>GS</td>\n",
       "    </tr>\n",
       "  </tbody>\n",
       "</table>\n",
       "</div>"
      ],
      "text/plain": [
       "                            Time Action ConditionName  Priority         Actor  \\\n",
       "9745249  2023-07-30 13:44:54.900   None         ALARM      32.0          None   \n",
       "1175445  2023-02-04 03:27:55.400   None        CHANGE       0.0          None   \n",
       "12640689 2023-09-09 15:47:03.300   None        CHANGE       0.0          None   \n",
       "6943021  2023-05-26 22:58:29.800   None         ALARM       0.0          None   \n",
       "3462817  2023-03-08 09:30:30.600    ACK         ALARM      96.0  KANDYM\\dtsoy   \n",
       "\n",
       "           AreaName    Unit  \n",
       "9745249    FIRE_830     NaN  \n",
       "1175445   485_0_DCS  Unit_4  \n",
       "12640689    GAS_350  Unit_1  \n",
       "6943021         110      GS  \n",
       "3462817    FIRE_110      GS  "
      ]
     },
     "execution_count": 14,
     "metadata": {},
     "output_type": "execute_result"
    }
   ],
   "source": [
    "merged_df = df.merge(assets, left_on='AreaName', right_on='Asset', how='left').drop('Asset', axis=1)\n",
    "merged_df.sample(5)"
   ]
  },
  {
   "cell_type": "code",
   "execution_count": 15,
   "id": "3b207c0f",
   "metadata": {},
   "outputs": [
    {
     "name": "stdout",
     "output_type": "stream",
     "text": [
      "Without unit: 1801884\n",
      "With unit: 11996692\n"
     ]
    }
   ],
   "source": [
    "# count rows with unit and without\n",
    "print(f'Without unit: {merged_df[merged_df.Unit.isna()].shape[0]}')\n",
    "print(f'With unit: {merged_df[merged_df.Unit.notna()].shape[0]}')"
   ]
  },
  {
   "cell_type": "code",
   "execution_count": 16,
   "id": "4b165b02",
   "metadata": {},
   "outputs": [
    {
     "data": {
      "text/html": [
       "<div>\n",
       "<style scoped>\n",
       "    .dataframe tbody tr th:only-of-type {\n",
       "        vertical-align: middle;\n",
       "    }\n",
       "\n",
       "    .dataframe tbody tr th {\n",
       "        vertical-align: top;\n",
       "    }\n",
       "\n",
       "    .dataframe thead th {\n",
       "        text-align: right;\n",
       "    }\n",
       "</style>\n",
       "<table border=\"1\" class=\"dataframe\">\n",
       "  <thead>\n",
       "    <tr style=\"text-align: right;\">\n",
       "      <th></th>\n",
       "      <th>Time</th>\n",
       "      <th>Action</th>\n",
       "      <th>ConditionName</th>\n",
       "      <th>Priority</th>\n",
       "      <th>Actor</th>\n",
       "      <th>AreaName</th>\n",
       "    </tr>\n",
       "  </thead>\n",
       "  <tbody>\n",
       "    <tr>\n",
       "      <th>0</th>\n",
       "      <td>2023-01-25 02:00:00</td>\n",
       "      <td>None</td>\n",
       "      <td>OFFNRM</td>\n",
       "      <td>0.0</td>\n",
       "      <td>None</td>\n",
       "      <td>130</td>\n",
       "    </tr>\n",
       "    <tr>\n",
       "      <th>1</th>\n",
       "      <td>2023-01-25 02:00:00</td>\n",
       "      <td>None</td>\n",
       "      <td>OFFNRM</td>\n",
       "      <td>0.0</td>\n",
       "      <td>None</td>\n",
       "      <td>130</td>\n",
       "    </tr>\n",
       "    <tr>\n",
       "      <th>2</th>\n",
       "      <td>2023-01-25 02:00:00</td>\n",
       "      <td>None</td>\n",
       "      <td>OFFNRM</td>\n",
       "      <td>0.0</td>\n",
       "      <td>None</td>\n",
       "      <td>130</td>\n",
       "    </tr>\n",
       "    <tr>\n",
       "      <th>3</th>\n",
       "      <td>2023-01-25 02:00:00</td>\n",
       "      <td>None</td>\n",
       "      <td>OFFNRM</td>\n",
       "      <td>0.0</td>\n",
       "      <td>None</td>\n",
       "      <td>130</td>\n",
       "    </tr>\n",
       "    <tr>\n",
       "      <th>4</th>\n",
       "      <td>2023-01-25 02:00:00</td>\n",
       "      <td>None</td>\n",
       "      <td>OFFNRM</td>\n",
       "      <td>0.0</td>\n",
       "      <td>None</td>\n",
       "      <td>130</td>\n",
       "    </tr>\n",
       "  </tbody>\n",
       "</table>\n",
       "</div>"
      ],
      "text/plain": [
       "                 Time Action ConditionName  Priority Actor AreaName\n",
       "0 2023-01-25 02:00:00   None        OFFNRM       0.0  None      130\n",
       "1 2023-01-25 02:00:00   None        OFFNRM       0.0  None      130\n",
       "2 2023-01-25 02:00:00   None        OFFNRM       0.0  None      130\n",
       "3 2023-01-25 02:00:00   None        OFFNRM       0.0  None      130\n",
       "4 2023-01-25 02:00:00   None        OFFNRM       0.0  None      130"
      ]
     },
     "execution_count": 16,
     "metadata": {},
     "output_type": "execute_result"
    }
   ],
   "source": [
    "# Round time to halfhour, i.e. 11:15 - > 11 : 00 , 11:44 -> 11:30\n",
    "df['Time'] = df['Time'].dt.floor(freq='10T')\n",
    "df.head()"
   ]
  },
  {
   "cell_type": "markdown",
   "id": "e9915fab",
   "metadata": {},
   "source": [
    "### Divide merged_df to Units"
   ]
  },
  {
   "cell_type": "code",
   "execution_count": 17,
   "id": "187611c9",
   "metadata": {},
   "outputs": [
    {
     "data": {
      "text/plain": [
       "1191293"
      ]
     },
     "execution_count": 17,
     "metadata": {},
     "output_type": "execute_result"
    }
   ],
   "source": [
    "## unit 1 df\n",
    "unit1_df = merged_df[merged_df['Unit'] == 'Unit_1']\n",
    "unit1_df.shape[0]"
   ]
  },
  {
   "cell_type": "code",
   "execution_count": 18,
   "id": "d9d82335",
   "metadata": {},
   "outputs": [
    {
     "data": {
      "text/plain": [
       "3132386"
      ]
     },
     "execution_count": 18,
     "metadata": {},
     "output_type": "execute_result"
    }
   ],
   "source": [
    "## unit 2 df\n",
    "unit2_df = merged_df[merged_df['Unit'] == 'Unit_2']\n",
    "unit2_df.shape[0]"
   ]
  },
  {
   "cell_type": "code",
   "execution_count": 19,
   "id": "5711cae7",
   "metadata": {},
   "outputs": [
    {
     "data": {
      "text/plain": [
       "1154053"
      ]
     },
     "execution_count": 19,
     "metadata": {},
     "output_type": "execute_result"
    }
   ],
   "source": [
    "## unit 3 df\n",
    "unit3_df = merged_df[merged_df['Unit'] == 'Unit_3']\n",
    "unit3_df.shape[0]"
   ]
  },
  {
   "cell_type": "code",
   "execution_count": 20,
   "id": "d35c425a",
   "metadata": {},
   "outputs": [
    {
     "data": {
      "text/plain": [
       "2339112"
      ]
     },
     "execution_count": 20,
     "metadata": {},
     "output_type": "execute_result"
    }
   ],
   "source": [
    "## unit 4 df - TVS - HWS\n",
    "unit4_df = merged_df[merged_df['Unit'] == 'Unit_4']\n",
    "unit4_df.shape[0]"
   ]
  },
  {
   "cell_type": "code",
   "execution_count": 21,
   "id": "8956e3f9",
   "metadata": {},
   "outputs": [
    {
     "data": {
      "text/plain": [
       "4179848"
      ]
     },
     "execution_count": 21,
     "metadata": {},
     "output_type": "execute_result"
    }
   ],
   "source": [
    "## unit 5 df - Gathering System\n",
    "unit5_df = merged_df[merged_df['Unit'] == 'GS']\n",
    "unit5_df.shape[0]"
   ]
  },
  {
   "cell_type": "code",
   "execution_count": 22,
   "id": "8d8b514c",
   "metadata": {},
   "outputs": [
    {
     "data": {
      "text/plain": [
       "33565"
      ]
     },
     "execution_count": 22,
     "metadata": {},
     "output_type": "execute_result"
    }
   ],
   "source": [
    "##system alarms\n",
    "mask1 = merged_df['Actor'].isna() & merged_df['Action'].isna()\n",
    "priorities = (16., 32., 48.)\n",
    "mask2 =merged_df['Priority'].isin(priorities)\n",
    "system_signs = ['DIAG', 'WARNING', 'REPLICATION', 'MANCOMPERROR', 'COMMS']\n",
    "system_alarms = merged_df[merged_df['ConditionName'].isin(system_signs) & mask1 & mask2]\n",
    "system_alarms.shape[0]"
   ]
  },
  {
   "cell_type": "markdown",
   "id": "e60c665d",
   "metadata": {},
   "source": [
    "## Work with Unit1"
   ]
  },
  {
   "cell_type": "code",
   "execution_count": 23,
   "id": "f232afb7",
   "metadata": {},
   "outputs": [
    {
     "name": "stdout",
     "output_type": "stream",
     "text": [
      "Actions count: 567231, Alarms count: 323802\n"
     ]
    }
   ],
   "source": [
    "all_actions_1 = unit1_df[unit1_df['Actor'].notna()]\n",
    "alarms_1 = unit1_df[unit1_df['Actor'].isna() & unit1_df['Action'].isna()]\n",
    "print(f'Actions count: {all_actions_1.shape[0]}, Alarms count: {alarms_1.shape[0]}')"
   ]
  },
  {
   "cell_type": "markdown",
   "id": "d78d5cbb",
   "metadata": {},
   "source": [
    "### Divide action to acknowledges and actions (Changes)"
   ]
  },
  {
   "cell_type": "code",
   "execution_count": 24,
   "id": "ca22b554",
   "metadata": {},
   "outputs": [
    {
     "name": "stdout",
     "output_type": "stream",
     "text": [
      "Changes count: 437299, Acknowldeges count: 129141\n"
     ]
    },
    {
     "data": {
      "text/html": [
       "<div>\n",
       "<style scoped>\n",
       "    .dataframe tbody tr th:only-of-type {\n",
       "        vertical-align: middle;\n",
       "    }\n",
       "\n",
       "    .dataframe tbody tr th {\n",
       "        vertical-align: top;\n",
       "    }\n",
       "\n",
       "    .dataframe thead th {\n",
       "        text-align: right;\n",
       "    }\n",
       "</style>\n",
       "<table border=\"1\" class=\"dataframe\">\n",
       "  <thead>\n",
       "    <tr style=\"text-align: right;\">\n",
       "      <th></th>\n",
       "      <th>Time</th>\n",
       "      <th>Action</th>\n",
       "      <th>ConditionName</th>\n",
       "      <th>Priority</th>\n",
       "      <th>Actor</th>\n",
       "      <th>AreaName</th>\n",
       "      <th>Unit</th>\n",
       "    </tr>\n",
       "  </thead>\n",
       "  <tbody>\n",
       "    <tr>\n",
       "      <th>5339500</th>\n",
       "      <td>2023-05-07 19:04:54.500</td>\n",
       "      <td>None</td>\n",
       "      <td>CHANGE</td>\n",
       "      <td>96.0</td>\n",
       "      <td>Мирзокулов Нурали Шавкатович</td>\n",
       "      <td>221_0_DCS</td>\n",
       "      <td>Unit_1</td>\n",
       "    </tr>\n",
       "    <tr>\n",
       "      <th>4703450</th>\n",
       "      <td>2023-04-27 09:57:11.500</td>\n",
       "      <td>None</td>\n",
       "      <td>CHANGE</td>\n",
       "      <td>96.0</td>\n",
       "      <td>Аллаев Абдурасул Халлокович</td>\n",
       "      <td>211_0_DCS</td>\n",
       "      <td>Unit_1</td>\n",
       "    </tr>\n",
       "    <tr>\n",
       "      <th>12531958</th>\n",
       "      <td>2023-09-20 17:35:08.100</td>\n",
       "      <td>None</td>\n",
       "      <td>CHANGE</td>\n",
       "      <td>96.0</td>\n",
       "      <td>Мирзокулов Нурали Шавкатович</td>\n",
       "      <td>221_0_DCS</td>\n",
       "      <td>Unit_1</td>\n",
       "    </tr>\n",
       "    <tr>\n",
       "      <th>2176828</th>\n",
       "      <td>2023-02-22 21:36:26.200</td>\n",
       "      <td>None</td>\n",
       "      <td>CHANGE</td>\n",
       "      <td>96.0</td>\n",
       "      <td>Саттаров Абдулазиз Аскарович</td>\n",
       "      <td>221_0_DCS</td>\n",
       "      <td>Unit_1</td>\n",
       "    </tr>\n",
       "    <tr>\n",
       "      <th>2177669</th>\n",
       "      <td>2023-02-22 23:22:06.700</td>\n",
       "      <td>None</td>\n",
       "      <td>CHANGE</td>\n",
       "      <td>96.0</td>\n",
       "      <td>Саттаров Абдулазиз Аскарович</td>\n",
       "      <td>221_0_DCS</td>\n",
       "      <td>Unit_1</td>\n",
       "    </tr>\n",
       "  </tbody>\n",
       "</table>\n",
       "</div>"
      ],
      "text/plain": [
       "                            Time Action ConditionName  Priority  \\\n",
       "5339500  2023-05-07 19:04:54.500   None        CHANGE      96.0   \n",
       "4703450  2023-04-27 09:57:11.500   None        CHANGE      96.0   \n",
       "12531958 2023-09-20 17:35:08.100   None        CHANGE      96.0   \n",
       "2176828  2023-02-22 21:36:26.200   None        CHANGE      96.0   \n",
       "2177669  2023-02-22 23:22:06.700   None        CHANGE      96.0   \n",
       "\n",
       "                                 Actor   AreaName    Unit  \n",
       "5339500   Мирзокулов Нурали Шавкатович  221_0_DCS  Unit_1  \n",
       "4703450    Аллаев Абдурасул Халлокович  211_0_DCS  Unit_1  \n",
       "12531958  Мирзокулов Нурали Шавкатович  221_0_DCS  Unit_1  \n",
       "2176828   Саттаров Абдулазиз Аскарович  221_0_DCS  Unit_1  \n",
       "2177669   Саттаров Абдулазиз Аскарович  221_0_DCS  Unit_1  "
      ]
     },
     "execution_count": 24,
     "metadata": {},
     "output_type": "execute_result"
    }
   ],
   "source": [
    "acks_1 = all_actions_1[all_actions_1['Action'].fillna('No Action').str.contains('ACK')]\n",
    "changes_1 = all_actions_1[all_actions_1['ConditionName'] == 'CHANGE']\n",
    "print(f'Changes count: {changes_1.shape[0]}, Acknowldeges count: {acks_1.shape[0]}')\n",
    "all_actions_1.sample(5)"
   ]
  },
  {
   "cell_type": "markdown",
   "id": "b9dbf66c",
   "metadata": {},
   "source": [
    "### Delete not needed columns for Alarms and divide alarms"
   ]
  },
  {
   "cell_type": "code",
   "execution_count": 25,
   "id": "b7925880",
   "metadata": {},
   "outputs": [],
   "source": [
    "alarms_1 = alarms_1.drop(['Actor','Action', 'AreaName'], axis=1)"
   ]
  },
  {
   "cell_type": "code",
   "execution_count": 26,
   "id": "136d8fc4",
   "metadata": {},
   "outputs": [
    {
     "data": {
      "text/html": [
       "<div>\n",
       "<style scoped>\n",
       "    .dataframe tbody tr th:only-of-type {\n",
       "        vertical-align: middle;\n",
       "    }\n",
       "\n",
       "    .dataframe tbody tr th {\n",
       "        vertical-align: top;\n",
       "    }\n",
       "\n",
       "    .dataframe thead th {\n",
       "        text-align: right;\n",
       "    }\n",
       "</style>\n",
       "<table border=\"1\" class=\"dataframe\">\n",
       "  <thead>\n",
       "    <tr style=\"text-align: right;\">\n",
       "      <th></th>\n",
       "      <th>Time</th>\n",
       "      <th>ConditionName</th>\n",
       "      <th>Priority</th>\n",
       "      <th>Unit</th>\n",
       "    </tr>\n",
       "  </thead>\n",
       "  <tbody>\n",
       "    <tr>\n",
       "      <th>2022443</th>\n",
       "      <td>2023-02-17 03:00:27.560</td>\n",
       "      <td>PVLOW</td>\n",
       "      <td>32.0</td>\n",
       "      <td>Unit_1</td>\n",
       "    </tr>\n",
       "    <tr>\n",
       "      <th>5434671</th>\n",
       "      <td>2023-05-28 08:18:15.537</td>\n",
       "      <td>DISABL</td>\n",
       "      <td>0.0</td>\n",
       "      <td>Unit_1</td>\n",
       "    </tr>\n",
       "    <tr>\n",
       "      <th>12223751</th>\n",
       "      <td>2023-08-08 11:03:11.850</td>\n",
       "      <td>PVLOW</td>\n",
       "      <td>32.0</td>\n",
       "      <td>Unit_1</td>\n",
       "    </tr>\n",
       "    <tr>\n",
       "      <th>12793678</th>\n",
       "      <td>2023-09-23 14:00:14.653</td>\n",
       "      <td>PVHIGH</td>\n",
       "      <td>32.0</td>\n",
       "      <td>Unit_1</td>\n",
       "    </tr>\n",
       "    <tr>\n",
       "      <th>4533950</th>\n",
       "      <td>2023-04-28 04:15:07.560</td>\n",
       "      <td>BAD PV</td>\n",
       "      <td>32.0</td>\n",
       "      <td>Unit_1</td>\n",
       "    </tr>\n",
       "  </tbody>\n",
       "</table>\n",
       "</div>"
      ],
      "text/plain": [
       "                            Time ConditionName  Priority    Unit\n",
       "2022443  2023-02-17 03:00:27.560         PVLOW      32.0  Unit_1\n",
       "5434671  2023-05-28 08:18:15.537        DISABL       0.0  Unit_1\n",
       "12223751 2023-08-08 11:03:11.850         PVLOW      32.0  Unit_1\n",
       "12793678 2023-09-23 14:00:14.653        PVHIGH      32.0  Unit_1\n",
       "4533950  2023-04-28 04:15:07.560        BAD PV      32.0  Unit_1"
      ]
     },
     "execution_count": 26,
     "metadata": {},
     "output_type": "execute_result"
    }
   ],
   "source": [
    "alarms_1.sample(5)"
   ]
  },
  {
   "cell_type": "markdown",
   "id": "153f6d2b",
   "metadata": {},
   "source": [
    "### Divide alarms to priorities"
   ]
  },
  {
   "cell_type": "code",
   "execution_count": 27,
   "id": "2dc4b743",
   "metadata": {
    "scrolled": true
   },
   "outputs": [
    {
     "data": {
      "text/plain": [
       "32.0    165777\n",
       "0.0     128132\n",
       "48.0     26546\n",
       "16.0      3162\n",
       "96.0         1\n",
       "Name: Priority, dtype: int64"
      ]
     },
     "execution_count": 27,
     "metadata": {},
     "output_type": "execute_result"
    }
   ],
   "source": [
    "## check alarms by priorities\n",
    "alarms_1.Priority.value_counts()"
   ]
  },
  {
   "cell_type": "code",
   "execution_count": 28,
   "id": "8c3ef0d2",
   "metadata": {},
   "outputs": [
    {
     "name": "stdout",
     "output_type": "stream",
     "text": [
      "Alarms count: 323802,\n",
      "      Journal alarms count: 128132,\n",
      "      Low Priority alarms count: 3162,\n",
      "      High Priority alarms count: 165777,\n",
      "      Urgent Priority alarms count: 26546,\n",
      "      \n"
     ]
    }
   ],
   "source": [
    "# /** [Priority] 0 - JOURNAL, 15 - system, 16 - Low, 32 - HIGH, 48 - URGENT, 96 - OP **/\n",
    "## divide alarms to only with journal and alarms with low, high and urgent priorities and system alarms\n",
    "journal_alarms_1 = alarms_1[alarms_1['Priority'] == 0]\n",
    "low_alarms_1 = alarms_1[alarms_1['Priority'] == 16]\n",
    "high_alarms_1 = alarms_1[alarms_1['Priority'] == 32]\n",
    "urgent_alarms_1 = alarms_1[alarms_1['Priority'] == 48]\n",
    "print(f'Alarms count: {alarms_1.shape[0]},\\n\\\n",
    "      Journal alarms count: {journal_alarms_1.shape[0]},\\n\\\n",
    "      Low Priority alarms count: {low_alarms_1.shape[0]},\\n\\\n",
    "      High Priority alarms count: {high_alarms_1.shape[0]},\\n\\\n",
    "      Urgent Priority alarms count: {urgent_alarms_1.shape[0]},\\n\\\n",
    "      ')"
   ]
  },
  {
   "cell_type": "markdown",
   "id": "5aff1709",
   "metadata": {},
   "source": [
    "#### Extract BAD BP alarms"
   ]
  },
  {
   "cell_type": "code",
   "execution_count": 29,
   "id": "b8bc227b",
   "metadata": {},
   "outputs": [
    {
     "name": "stdout",
     "output_type": "stream",
     "text": [
      "BAD PV alarms count: 91664\n"
     ]
    }
   ],
   "source": [
    "badpv_alarms_1 = alarms_1[alarms_1['ConditionName'] == 'BAD PV']\n",
    "print(f'BAD PV alarms count: {badpv_alarms_1.shape[0]}')"
   ]
  },
  {
   "cell_type": "markdown",
   "id": "05bc6c8a",
   "metadata": {},
   "source": [
    "#### Check consistensy of dfs"
   ]
  },
  {
   "cell_type": "code",
   "execution_count": 30,
   "id": "3626bad2",
   "metadata": {},
   "outputs": [
    {
     "data": {
      "text/html": [
       "<div>\n",
       "<style scoped>\n",
       "    .dataframe tbody tr th:only-of-type {\n",
       "        vertical-align: middle;\n",
       "    }\n",
       "\n",
       "    .dataframe tbody tr th {\n",
       "        vertical-align: top;\n",
       "    }\n",
       "\n",
       "    .dataframe thead th {\n",
       "        text-align: right;\n",
       "    }\n",
       "</style>\n",
       "<table border=\"1\" class=\"dataframe\">\n",
       "  <thead>\n",
       "    <tr style=\"text-align: right;\">\n",
       "      <th></th>\n",
       "      <th>Time</th>\n",
       "      <th>Action</th>\n",
       "      <th>ConditionName</th>\n",
       "      <th>Priority</th>\n",
       "      <th>Actor</th>\n",
       "      <th>AreaName</th>\n",
       "      <th>Unit</th>\n",
       "    </tr>\n",
       "  </thead>\n",
       "  <tbody>\n",
       "    <tr>\n",
       "      <th>6054660</th>\n",
       "      <td>2023-05-19 11:08:39.000</td>\n",
       "      <td>None</td>\n",
       "      <td>COMMS</td>\n",
       "      <td>48.0</td>\n",
       "      <td>None</td>\n",
       "      <td>430</td>\n",
       "      <td>NaN</td>\n",
       "    </tr>\n",
       "    <tr>\n",
       "      <th>10996982</th>\n",
       "      <td>2023-08-21 14:30:36.900</td>\n",
       "      <td>None</td>\n",
       "      <td>COMMS</td>\n",
       "      <td>48.0</td>\n",
       "      <td>None</td>\n",
       "      <td>$SRV430SCS0011</td>\n",
       "      <td>NaN</td>\n",
       "    </tr>\n",
       "    <tr>\n",
       "      <th>5786367</th>\n",
       "      <td>2023-05-25 07:03:04.300</td>\n",
       "      <td>None</td>\n",
       "      <td>REPLICATION</td>\n",
       "      <td>16.0</td>\n",
       "      <td>None</td>\n",
       "      <td>$SRV430SRV0001</td>\n",
       "      <td>NaN</td>\n",
       "    </tr>\n",
       "    <tr>\n",
       "      <th>4796246</th>\n",
       "      <td>2023-04-23 09:34:51.000</td>\n",
       "      <td>None</td>\n",
       "      <td>COMMS</td>\n",
       "      <td>32.0</td>\n",
       "      <td>None</td>\n",
       "      <td>830</td>\n",
       "      <td>Unit_4</td>\n",
       "    </tr>\n",
       "    <tr>\n",
       "      <th>6140639</th>\n",
       "      <td>2023-05-31 06:38:46.500</td>\n",
       "      <td>None</td>\n",
       "      <td>COMMS</td>\n",
       "      <td>48.0</td>\n",
       "      <td>None</td>\n",
       "      <td>$SRV430SRV0001</td>\n",
       "      <td>NaN</td>\n",
       "    </tr>\n",
       "  </tbody>\n",
       "</table>\n",
       "</div>"
      ],
      "text/plain": [
       "                            Time Action ConditionName  Priority Actor  \\\n",
       "6054660  2023-05-19 11:08:39.000   None         COMMS      48.0  None   \n",
       "10996982 2023-08-21 14:30:36.900   None         COMMS      48.0  None   \n",
       "5786367  2023-05-25 07:03:04.300   None   REPLICATION      16.0  None   \n",
       "4796246  2023-04-23 09:34:51.000   None         COMMS      32.0  None   \n",
       "6140639  2023-05-31 06:38:46.500   None         COMMS      48.0  None   \n",
       "\n",
       "                AreaName    Unit  \n",
       "6054660              430     NaN  \n",
       "10996982  $SRV430SCS0011     NaN  \n",
       "5786367   $SRV430SRV0001     NaN  \n",
       "4796246              830  Unit_4  \n",
       "6140639   $SRV430SRV0001     NaN  "
      ]
     },
     "execution_count": 30,
     "metadata": {},
     "output_type": "execute_result"
    }
   ],
   "source": [
    "system_alarms.sample(5)"
   ]
  },
  {
   "cell_type": "code",
   "execution_count": 31,
   "id": "ca31cd1e",
   "metadata": {},
   "outputs": [
    {
     "data": {
      "text/html": [
       "<div>\n",
       "<style scoped>\n",
       "    .dataframe tbody tr th:only-of-type {\n",
       "        vertical-align: middle;\n",
       "    }\n",
       "\n",
       "    .dataframe tbody tr th {\n",
       "        vertical-align: top;\n",
       "    }\n",
       "\n",
       "    .dataframe thead th {\n",
       "        text-align: right;\n",
       "    }\n",
       "</style>\n",
       "<table border=\"1\" class=\"dataframe\">\n",
       "  <thead>\n",
       "    <tr style=\"text-align: right;\">\n",
       "      <th></th>\n",
       "      <th>Time</th>\n",
       "      <th>ConditionName</th>\n",
       "      <th>Priority</th>\n",
       "      <th>Unit</th>\n",
       "    </tr>\n",
       "  </thead>\n",
       "  <tbody>\n",
       "    <tr>\n",
       "      <th>5036566</th>\n",
       "      <td>2023-05-20 16:38:16.000</td>\n",
       "      <td>CHANGE</td>\n",
       "      <td>0.0</td>\n",
       "      <td>Unit_1</td>\n",
       "    </tr>\n",
       "    <tr>\n",
       "      <th>799617</th>\n",
       "      <td>2023-01-03 01:58:21.260</td>\n",
       "      <td>DISABL</td>\n",
       "      <td>0.0</td>\n",
       "      <td>Unit_1</td>\n",
       "    </tr>\n",
       "    <tr>\n",
       "      <th>9527891</th>\n",
       "      <td>2023-07-07 03:24:43.680</td>\n",
       "      <td>DISABL</td>\n",
       "      <td>0.0</td>\n",
       "      <td>Unit_1</td>\n",
       "    </tr>\n",
       "    <tr>\n",
       "      <th>12607662</th>\n",
       "      <td>2023-09-07 16:13:49.050</td>\n",
       "      <td>DISABL</td>\n",
       "      <td>0.0</td>\n",
       "      <td>Unit_1</td>\n",
       "    </tr>\n",
       "    <tr>\n",
       "      <th>12660412</th>\n",
       "      <td>2023-09-24 14:20:54.200</td>\n",
       "      <td>CHANGE</td>\n",
       "      <td>0.0</td>\n",
       "      <td>Unit_1</td>\n",
       "    </tr>\n",
       "  </tbody>\n",
       "</table>\n",
       "</div>"
      ],
      "text/plain": [
       "                            Time ConditionName  Priority    Unit\n",
       "5036566  2023-05-20 16:38:16.000        CHANGE       0.0  Unit_1\n",
       "799617   2023-01-03 01:58:21.260        DISABL       0.0  Unit_1\n",
       "9527891  2023-07-07 03:24:43.680        DISABL       0.0  Unit_1\n",
       "12607662 2023-09-07 16:13:49.050        DISABL       0.0  Unit_1\n",
       "12660412 2023-09-24 14:20:54.200        CHANGE       0.0  Unit_1"
      ]
     },
     "execution_count": 31,
     "metadata": {},
     "output_type": "execute_result"
    }
   ],
   "source": [
    "journal_alarms_1.sample(5)"
   ]
  },
  {
   "cell_type": "code",
   "execution_count": 32,
   "id": "d2d7568d",
   "metadata": {
    "scrolled": true
   },
   "outputs": [
    {
     "data": {
      "text/html": [
       "<div>\n",
       "<style scoped>\n",
       "    .dataframe tbody tr th:only-of-type {\n",
       "        vertical-align: middle;\n",
       "    }\n",
       "\n",
       "    .dataframe tbody tr th {\n",
       "        vertical-align: top;\n",
       "    }\n",
       "\n",
       "    .dataframe thead th {\n",
       "        text-align: right;\n",
       "    }\n",
       "</style>\n",
       "<table border=\"1\" class=\"dataframe\">\n",
       "  <thead>\n",
       "    <tr style=\"text-align: right;\">\n",
       "      <th></th>\n",
       "      <th>Time</th>\n",
       "      <th>ConditionName</th>\n",
       "      <th>Priority</th>\n",
       "      <th>Unit</th>\n",
       "    </tr>\n",
       "  </thead>\n",
       "  <tbody>\n",
       "    <tr>\n",
       "      <th>9632706</th>\n",
       "      <td>2023-07-29 03:03:56.400</td>\n",
       "      <td>ALARM</td>\n",
       "      <td>16.0</td>\n",
       "      <td>Unit_1</td>\n",
       "    </tr>\n",
       "    <tr>\n",
       "      <th>4920174</th>\n",
       "      <td>2023-05-31 22:06:48.900</td>\n",
       "      <td>ALARM</td>\n",
       "      <td>16.0</td>\n",
       "      <td>Unit_1</td>\n",
       "    </tr>\n",
       "    <tr>\n",
       "      <th>764612</th>\n",
       "      <td>2023-01-09 16:53:33.400</td>\n",
       "      <td>ALARM</td>\n",
       "      <td>16.0</td>\n",
       "      <td>Unit_1</td>\n",
       "    </tr>\n",
       "    <tr>\n",
       "      <th>734311</th>\n",
       "      <td>2023-01-25 19:01:50.900</td>\n",
       "      <td>ALARM</td>\n",
       "      <td>16.0</td>\n",
       "      <td>Unit_1</td>\n",
       "    </tr>\n",
       "    <tr>\n",
       "      <th>5305220</th>\n",
       "      <td>2023-05-24 09:38:30.500</td>\n",
       "      <td>ALARM</td>\n",
       "      <td>16.0</td>\n",
       "      <td>Unit_1</td>\n",
       "    </tr>\n",
       "  </tbody>\n",
       "</table>\n",
       "</div>"
      ],
      "text/plain": [
       "                           Time ConditionName  Priority    Unit\n",
       "9632706 2023-07-29 03:03:56.400         ALARM      16.0  Unit_1\n",
       "4920174 2023-05-31 22:06:48.900         ALARM      16.0  Unit_1\n",
       "764612  2023-01-09 16:53:33.400         ALARM      16.0  Unit_1\n",
       "734311  2023-01-25 19:01:50.900         ALARM      16.0  Unit_1\n",
       "5305220 2023-05-24 09:38:30.500         ALARM      16.0  Unit_1"
      ]
     },
     "execution_count": 32,
     "metadata": {},
     "output_type": "execute_result"
    }
   ],
   "source": [
    "low_alarms_1.sample(5)"
   ]
  },
  {
   "cell_type": "code",
   "execution_count": 33,
   "id": "00f43441",
   "metadata": {
    "scrolled": true
   },
   "outputs": [
    {
     "data": {
      "text/html": [
       "<div>\n",
       "<style scoped>\n",
       "    .dataframe tbody tr th:only-of-type {\n",
       "        vertical-align: middle;\n",
       "    }\n",
       "\n",
       "    .dataframe tbody tr th {\n",
       "        vertical-align: top;\n",
       "    }\n",
       "\n",
       "    .dataframe thead th {\n",
       "        text-align: right;\n",
       "    }\n",
       "</style>\n",
       "<table border=\"1\" class=\"dataframe\">\n",
       "  <thead>\n",
       "    <tr style=\"text-align: right;\">\n",
       "      <th></th>\n",
       "      <th>Time</th>\n",
       "      <th>ConditionName</th>\n",
       "      <th>Priority</th>\n",
       "      <th>Unit</th>\n",
       "    </tr>\n",
       "  </thead>\n",
       "  <tbody>\n",
       "    <tr>\n",
       "      <th>5070711</th>\n",
       "      <td>2023-05-21 00:48:21.563</td>\n",
       "      <td>PVLOW</td>\n",
       "      <td>32.0</td>\n",
       "      <td>Unit_1</td>\n",
       "    </tr>\n",
       "    <tr>\n",
       "      <th>1077597</th>\n",
       "      <td>2023-01-16 00:12:31.697</td>\n",
       "      <td>PVLOW</td>\n",
       "      <td>32.0</td>\n",
       "      <td>Unit_1</td>\n",
       "    </tr>\n",
       "    <tr>\n",
       "      <th>12804621</th>\n",
       "      <td>2023-09-16 09:20:48.223</td>\n",
       "      <td>BAD PV</td>\n",
       "      <td>32.0</td>\n",
       "      <td>Unit_1</td>\n",
       "    </tr>\n",
       "    <tr>\n",
       "      <th>12754900</th>\n",
       "      <td>2023-09-22 00:18:20.240</td>\n",
       "      <td>PVHIGH</td>\n",
       "      <td>32.0</td>\n",
       "      <td>Unit_1</td>\n",
       "    </tr>\n",
       "    <tr>\n",
       "      <th>3049508</th>\n",
       "      <td>2023-03-16 04:16:37.813</td>\n",
       "      <td>BAD PV</td>\n",
       "      <td>32.0</td>\n",
       "      <td>Unit_1</td>\n",
       "    </tr>\n",
       "  </tbody>\n",
       "</table>\n",
       "</div>"
      ],
      "text/plain": [
       "                            Time ConditionName  Priority    Unit\n",
       "5070711  2023-05-21 00:48:21.563         PVLOW      32.0  Unit_1\n",
       "1077597  2023-01-16 00:12:31.697         PVLOW      32.0  Unit_1\n",
       "12804621 2023-09-16 09:20:48.223        BAD PV      32.0  Unit_1\n",
       "12754900 2023-09-22 00:18:20.240        PVHIGH      32.0  Unit_1\n",
       "3049508  2023-03-16 04:16:37.813        BAD PV      32.0  Unit_1"
      ]
     },
     "execution_count": 33,
     "metadata": {},
     "output_type": "execute_result"
    }
   ],
   "source": [
    "high_alarms_1.sample(5)"
   ]
  },
  {
   "cell_type": "code",
   "execution_count": 34,
   "id": "bc3e5a0b",
   "metadata": {
    "scrolled": true
   },
   "outputs": [
    {
     "data": {
      "text/html": [
       "<div>\n",
       "<style scoped>\n",
       "    .dataframe tbody tr th:only-of-type {\n",
       "        vertical-align: middle;\n",
       "    }\n",
       "\n",
       "    .dataframe tbody tr th {\n",
       "        vertical-align: top;\n",
       "    }\n",
       "\n",
       "    .dataframe thead th {\n",
       "        text-align: right;\n",
       "    }\n",
       "</style>\n",
       "<table border=\"1\" class=\"dataframe\">\n",
       "  <thead>\n",
       "    <tr style=\"text-align: right;\">\n",
       "      <th></th>\n",
       "      <th>Time</th>\n",
       "      <th>ConditionName</th>\n",
       "      <th>Priority</th>\n",
       "      <th>Unit</th>\n",
       "    </tr>\n",
       "  </thead>\n",
       "  <tbody>\n",
       "    <tr>\n",
       "      <th>12569296</th>\n",
       "      <td>2023-09-05 07:04:23.400</td>\n",
       "      <td>ALARM</td>\n",
       "      <td>48.0</td>\n",
       "      <td>Unit_1</td>\n",
       "    </tr>\n",
       "    <tr>\n",
       "      <th>3033899</th>\n",
       "      <td>2023-03-15 02:16:29.900</td>\n",
       "      <td>ALARM</td>\n",
       "      <td>48.0</td>\n",
       "      <td>Unit_1</td>\n",
       "    </tr>\n",
       "    <tr>\n",
       "      <th>5488186</th>\n",
       "      <td>2023-05-28 21:48:24.000</td>\n",
       "      <td>Control Failed</td>\n",
       "      <td>48.0</td>\n",
       "      <td>Unit_1</td>\n",
       "    </tr>\n",
       "    <tr>\n",
       "      <th>3209114</th>\n",
       "      <td>2023-03-04 16:25:45.780</td>\n",
       "      <td>PVLOLO</td>\n",
       "      <td>48.0</td>\n",
       "      <td>Unit_1</td>\n",
       "    </tr>\n",
       "    <tr>\n",
       "      <th>4913252</th>\n",
       "      <td>2023-05-31 15:52:08.050</td>\n",
       "      <td>OVRDSI</td>\n",
       "      <td>48.0</td>\n",
       "      <td>Unit_1</td>\n",
       "    </tr>\n",
       "  </tbody>\n",
       "</table>\n",
       "</div>"
      ],
      "text/plain": [
       "                            Time   ConditionName  Priority    Unit\n",
       "12569296 2023-09-05 07:04:23.400           ALARM      48.0  Unit_1\n",
       "3033899  2023-03-15 02:16:29.900           ALARM      48.0  Unit_1\n",
       "5488186  2023-05-28 21:48:24.000  Control Failed      48.0  Unit_1\n",
       "3209114  2023-03-04 16:25:45.780          PVLOLO      48.0  Unit_1\n",
       "4913252  2023-05-31 15:52:08.050          OVRDSI      48.0  Unit_1"
      ]
     },
     "execution_count": 34,
     "metadata": {},
     "output_type": "execute_result"
    }
   ],
   "source": [
    "urgent_alarms_1.sample(5)"
   ]
  },
  {
   "cell_type": "code",
   "execution_count": 35,
   "id": "5828f1c4",
   "metadata": {
    "scrolled": true
   },
   "outputs": [
    {
     "data": {
      "text/html": [
       "<div>\n",
       "<style scoped>\n",
       "    .dataframe tbody tr th:only-of-type {\n",
       "        vertical-align: middle;\n",
       "    }\n",
       "\n",
       "    .dataframe tbody tr th {\n",
       "        vertical-align: top;\n",
       "    }\n",
       "\n",
       "    .dataframe thead th {\n",
       "        text-align: right;\n",
       "    }\n",
       "</style>\n",
       "<table border=\"1\" class=\"dataframe\">\n",
       "  <thead>\n",
       "    <tr style=\"text-align: right;\">\n",
       "      <th></th>\n",
       "      <th>Time</th>\n",
       "      <th>ConditionName</th>\n",
       "      <th>Priority</th>\n",
       "      <th>Unit</th>\n",
       "    </tr>\n",
       "  </thead>\n",
       "  <tbody>\n",
       "    <tr>\n",
       "      <th>4613263</th>\n",
       "      <td>2023-04-03 23:43:37.910</td>\n",
       "      <td>BAD PV</td>\n",
       "      <td>32.0</td>\n",
       "      <td>Unit_1</td>\n",
       "    </tr>\n",
       "    <tr>\n",
       "      <th>3349832</th>\n",
       "      <td>2023-03-21 22:09:28.703</td>\n",
       "      <td>BAD PV</td>\n",
       "      <td>32.0</td>\n",
       "      <td>Unit_1</td>\n",
       "    </tr>\n",
       "    <tr>\n",
       "      <th>963912</th>\n",
       "      <td>2023-01-21 06:04:12.540</td>\n",
       "      <td>BAD PV</td>\n",
       "      <td>32.0</td>\n",
       "      <td>Unit_1</td>\n",
       "    </tr>\n",
       "    <tr>\n",
       "      <th>1045912</th>\n",
       "      <td>2023-01-23 01:33:03.273</td>\n",
       "      <td>BAD PV</td>\n",
       "      <td>32.0</td>\n",
       "      <td>Unit_1</td>\n",
       "    </tr>\n",
       "    <tr>\n",
       "      <th>4547903</th>\n",
       "      <td>2023-04-21 17:16:13.853</td>\n",
       "      <td>BAD PV</td>\n",
       "      <td>32.0</td>\n",
       "      <td>Unit_1</td>\n",
       "    </tr>\n",
       "  </tbody>\n",
       "</table>\n",
       "</div>"
      ],
      "text/plain": [
       "                           Time ConditionName  Priority    Unit\n",
       "4613263 2023-04-03 23:43:37.910        BAD PV      32.0  Unit_1\n",
       "3349832 2023-03-21 22:09:28.703        BAD PV      32.0  Unit_1\n",
       "963912  2023-01-21 06:04:12.540        BAD PV      32.0  Unit_1\n",
       "1045912 2023-01-23 01:33:03.273        BAD PV      32.0  Unit_1\n",
       "4547903 2023-04-21 17:16:13.853        BAD PV      32.0  Unit_1"
      ]
     },
     "execution_count": 35,
     "metadata": {},
     "output_type": "execute_result"
    }
   ],
   "source": [
    "badpv_alarms_1.sample(5)"
   ]
  },
  {
   "cell_type": "markdown",
   "id": "03a13dc7",
   "metadata": {},
   "source": [
    "### Groupby alarm dfs by hour"
   ]
  },
  {
   "cell_type": "code",
   "execution_count": 36,
   "id": "aea2d511",
   "metadata": {},
   "outputs": [],
   "source": [
    "journal_alarms_grouped_1 = journal_alarms_1.groupby('Time')['Unit'].agg('count').reset_index().rename(columns={'Unit': 'JournalAlarmCount'})\n",
    "low_alarms_grouped_1 = low_alarms_1.groupby('Time')['Unit'].agg('count').reset_index().rename(columns={'Unit': 'LowAlarmCount'})\n",
    "high_alarms_grouped_1 = high_alarms_1.groupby('Time')['Unit'].agg('count').reset_index().rename(columns={'Unit': 'HighAlarmCount'})\n",
    "urgent_alarms_grouped_1 = urgent_alarms_1.groupby('Time')['Unit'].agg('count').reset_index().rename(columns={'Unit': 'UrgentAlarmCount'})\n",
    "badpv_alarms_grouped_1 = badpv_alarms_1.groupby('Time')['Unit'].agg('count').reset_index().rename(columns={'Unit': 'BADPVCount'})\n",
    "system_alarms_grouped = system_alarms.groupby('Time')['Unit'].agg('count').reset_index().rename(columns={'Unit': 'SystemAlarmCount'})\n",
    "alarms_grouped_1 = alarms_1.groupby('Time')['Unit'].agg('count').reset_index().rename(columns={'Unit': 'AllAlarmCount'})"
   ]
  },
  {
   "cell_type": "code",
   "execution_count": 37,
   "id": "b79887c5",
   "metadata": {
    "scrolled": true
   },
   "outputs": [
    {
     "data": {
      "text/html": [
       "<div>\n",
       "<style scoped>\n",
       "    .dataframe tbody tr th:only-of-type {\n",
       "        vertical-align: middle;\n",
       "    }\n",
       "\n",
       "    .dataframe tbody tr th {\n",
       "        vertical-align: top;\n",
       "    }\n",
       "\n",
       "    .dataframe thead th {\n",
       "        text-align: right;\n",
       "    }\n",
       "</style>\n",
       "<table border=\"1\" class=\"dataframe\">\n",
       "  <thead>\n",
       "    <tr style=\"text-align: right;\">\n",
       "      <th></th>\n",
       "      <th>Time</th>\n",
       "      <th>JournalAlarmCount</th>\n",
       "      <th>LowAlarmCount</th>\n",
       "      <th>HighAlarmCount</th>\n",
       "      <th>UrgentAlarmCount</th>\n",
       "      <th>BADPVCount</th>\n",
       "      <th>SystemAlarmCount</th>\n",
       "      <th>AllAlarmCount</th>\n",
       "    </tr>\n",
       "  </thead>\n",
       "  <tbody>\n",
       "    <tr>\n",
       "      <th>1360</th>\n",
       "      <td>2023-01-09 09:40:34.400</td>\n",
       "      <td>1</td>\n",
       "      <td>0.0</td>\n",
       "      <td>0.0</td>\n",
       "      <td>0.0</td>\n",
       "      <td>0.0</td>\n",
       "      <td>0.0</td>\n",
       "      <td>1</td>\n",
       "    </tr>\n",
       "    <tr>\n",
       "      <th>16700</th>\n",
       "      <td>2023-03-05 12:49:50.003</td>\n",
       "      <td>1</td>\n",
       "      <td>0.0</td>\n",
       "      <td>0.0</td>\n",
       "      <td>0.0</td>\n",
       "      <td>0.0</td>\n",
       "      <td>0.0</td>\n",
       "      <td>1</td>\n",
       "    </tr>\n",
       "    <tr>\n",
       "      <th>8130</th>\n",
       "      <td>2023-01-31 04:00:43.403</td>\n",
       "      <td>1</td>\n",
       "      <td>0.0</td>\n",
       "      <td>0.0</td>\n",
       "      <td>0.0</td>\n",
       "      <td>1.0</td>\n",
       "      <td>0.0</td>\n",
       "      <td>1</td>\n",
       "    </tr>\n",
       "    <tr>\n",
       "      <th>52083</th>\n",
       "      <td>2023-06-29 08:14:04.100</td>\n",
       "      <td>1</td>\n",
       "      <td>0.0</td>\n",
       "      <td>0.0</td>\n",
       "      <td>0.0</td>\n",
       "      <td>0.0</td>\n",
       "      <td>0.0</td>\n",
       "      <td>1</td>\n",
       "    </tr>\n",
       "    <tr>\n",
       "      <th>45076</th>\n",
       "      <td>2023-06-01 10:30:13.863</td>\n",
       "      <td>1</td>\n",
       "      <td>0.0</td>\n",
       "      <td>0.0</td>\n",
       "      <td>0.0</td>\n",
       "      <td>0.0</td>\n",
       "      <td>0.0</td>\n",
       "      <td>1</td>\n",
       "    </tr>\n",
       "  </tbody>\n",
       "</table>\n",
       "</div>"
      ],
      "text/plain": [
       "                         Time  JournalAlarmCount  LowAlarmCount  \\\n",
       "1360  2023-01-09 09:40:34.400                  1            0.0   \n",
       "16700 2023-03-05 12:49:50.003                  1            0.0   \n",
       "8130  2023-01-31 04:00:43.403                  1            0.0   \n",
       "52083 2023-06-29 08:14:04.100                  1            0.0   \n",
       "45076 2023-06-01 10:30:13.863                  1            0.0   \n",
       "\n",
       "       HighAlarmCount  UrgentAlarmCount  BADPVCount  SystemAlarmCount  \\\n",
       "1360              0.0               0.0         0.0               0.0   \n",
       "16700             0.0               0.0         0.0               0.0   \n",
       "8130              0.0               0.0         1.0               0.0   \n",
       "52083             0.0               0.0         0.0               0.0   \n",
       "45076             0.0               0.0         0.0               0.0   \n",
       "\n",
       "       AllAlarmCount  \n",
       "1360               1  \n",
       "16700              1  \n",
       "8130               1  \n",
       "52083              1  \n",
       "45076              1  "
      ]
     },
     "execution_count": 37,
     "metadata": {},
     "output_type": "execute_result"
    }
   ],
   "source": [
    "# create final alarm df\n",
    "dummy_df_1 = journal_alarms_grouped_1.merge(low_alarms_grouped_1, how='left', on='Time')\n",
    "dummy_df_1 = dummy_df_1.merge(high_alarms_grouped_1, how='left', on='Time')\n",
    "dummy_df_1 = dummy_df_1.merge(urgent_alarms_grouped_1, how='left', on='Time')\n",
    "dummy_df_1 = dummy_df_1.merge(badpv_alarms_grouped_1, how='left', on='Time')\n",
    "dummy_df_1 = dummy_df_1.merge(system_alarms_grouped, how='left', on='Time')\n",
    "dummy_df_1 = dummy_df_1.merge(alarms_grouped_1, how='left', on='Time')\n",
    "alarm_count_1 = dummy_df_1.fillna(0).reset_index(drop=True)\n",
    "alarm_count_1.sample(5)"
   ]
  },
  {
   "cell_type": "code",
   "execution_count": 38,
   "id": "4f5e4364",
   "metadata": {},
   "outputs": [
    {
     "data": {
      "text/html": [
       "<div>\n",
       "<style scoped>\n",
       "    .dataframe tbody tr th:only-of-type {\n",
       "        vertical-align: middle;\n",
       "    }\n",
       "\n",
       "    .dataframe tbody tr th {\n",
       "        vertical-align: top;\n",
       "    }\n",
       "\n",
       "    .dataframe thead th {\n",
       "        text-align: right;\n",
       "    }\n",
       "</style>\n",
       "<table border=\"1\" class=\"dataframe\">\n",
       "  <thead>\n",
       "    <tr style=\"text-align: right;\">\n",
       "      <th></th>\n",
       "      <th>Time</th>\n",
       "      <th>JournalAlarmCount</th>\n",
       "      <th>LowAlarmCount</th>\n",
       "      <th>HighAlarmCount</th>\n",
       "      <th>UrgentAlarmCount</th>\n",
       "      <th>BADPVCount</th>\n",
       "      <th>SystemAlarmCount</th>\n",
       "      <th>AllAlarmCount</th>\n",
       "    </tr>\n",
       "  </thead>\n",
       "  <tbody>\n",
       "    <tr>\n",
       "      <th>177</th>\n",
       "      <td>2023-01-02 14:30:04.620</td>\n",
       "      <td>1</td>\n",
       "      <td>0.0</td>\n",
       "      <td>0.0</td>\n",
       "      <td>0.0</td>\n",
       "      <td>0.0</td>\n",
       "      <td>0.0</td>\n",
       "      <td>1</td>\n",
       "    </tr>\n",
       "    <tr>\n",
       "      <th>654</th>\n",
       "      <td>2023-01-04 17:30:36.910</td>\n",
       "      <td>1</td>\n",
       "      <td>0.0</td>\n",
       "      <td>0.0</td>\n",
       "      <td>0.0</td>\n",
       "      <td>1.0</td>\n",
       "      <td>0.0</td>\n",
       "      <td>1</td>\n",
       "    </tr>\n",
       "    <tr>\n",
       "      <th>671</th>\n",
       "      <td>2023-01-04 18:30:44.490</td>\n",
       "      <td>1</td>\n",
       "      <td>0.0</td>\n",
       "      <td>0.0</td>\n",
       "      <td>0.0</td>\n",
       "      <td>0.0</td>\n",
       "      <td>0.0</td>\n",
       "      <td>1</td>\n",
       "    </tr>\n",
       "    <tr>\n",
       "      <th>809</th>\n",
       "      <td>2023-01-05 19:30:09.767</td>\n",
       "      <td>1</td>\n",
       "      <td>0.0</td>\n",
       "      <td>0.0</td>\n",
       "      <td>0.0</td>\n",
       "      <td>0.0</td>\n",
       "      <td>0.0</td>\n",
       "      <td>1</td>\n",
       "    </tr>\n",
       "    <tr>\n",
       "      <th>902</th>\n",
       "      <td>2023-01-06 12:30:34.300</td>\n",
       "      <td>1</td>\n",
       "      <td>0.0</td>\n",
       "      <td>0.0</td>\n",
       "      <td>0.0</td>\n",
       "      <td>0.0</td>\n",
       "      <td>0.0</td>\n",
       "      <td>1</td>\n",
       "    </tr>\n",
       "    <tr>\n",
       "      <th>...</th>\n",
       "      <td>...</td>\n",
       "      <td>...</td>\n",
       "      <td>...</td>\n",
       "      <td>...</td>\n",
       "      <td>...</td>\n",
       "      <td>...</td>\n",
       "      <td>...</td>\n",
       "      <td>...</td>\n",
       "    </tr>\n",
       "    <tr>\n",
       "      <th>69240</th>\n",
       "      <td>2023-09-29 19:30:58.803</td>\n",
       "      <td>1</td>\n",
       "      <td>0.0</td>\n",
       "      <td>0.0</td>\n",
       "      <td>0.0</td>\n",
       "      <td>0.0</td>\n",
       "      <td>0.0</td>\n",
       "      <td>1</td>\n",
       "    </tr>\n",
       "    <tr>\n",
       "      <th>69338</th>\n",
       "      <td>2023-09-30 07:30:04.027</td>\n",
       "      <td>1</td>\n",
       "      <td>0.0</td>\n",
       "      <td>0.0</td>\n",
       "      <td>0.0</td>\n",
       "      <td>0.0</td>\n",
       "      <td>0.0</td>\n",
       "      <td>1</td>\n",
       "    </tr>\n",
       "    <tr>\n",
       "      <th>69359</th>\n",
       "      <td>2023-09-30 13:30:29.700</td>\n",
       "      <td>1</td>\n",
       "      <td>0.0</td>\n",
       "      <td>0.0</td>\n",
       "      <td>0.0</td>\n",
       "      <td>0.0</td>\n",
       "      <td>0.0</td>\n",
       "      <td>1</td>\n",
       "    </tr>\n",
       "    <tr>\n",
       "      <th>69360</th>\n",
       "      <td>2023-09-30 13:30:32.300</td>\n",
       "      <td>1</td>\n",
       "      <td>1.0</td>\n",
       "      <td>0.0</td>\n",
       "      <td>0.0</td>\n",
       "      <td>0.0</td>\n",
       "      <td>0.0</td>\n",
       "      <td>2</td>\n",
       "    </tr>\n",
       "    <tr>\n",
       "      <th>69415</th>\n",
       "      <td>2023-09-30 16:30:24.710</td>\n",
       "      <td>1</td>\n",
       "      <td>0.0</td>\n",
       "      <td>0.0</td>\n",
       "      <td>0.0</td>\n",
       "      <td>0.0</td>\n",
       "      <td>0.0</td>\n",
       "      <td>1</td>\n",
       "    </tr>\n",
       "  </tbody>\n",
       "</table>\n",
       "<p>1273 rows × 8 columns</p>\n",
       "</div>"
      ],
      "text/plain": [
       "                         Time  JournalAlarmCount  LowAlarmCount  \\\n",
       "177   2023-01-02 14:30:04.620                  1            0.0   \n",
       "654   2023-01-04 17:30:36.910                  1            0.0   \n",
       "671   2023-01-04 18:30:44.490                  1            0.0   \n",
       "809   2023-01-05 19:30:09.767                  1            0.0   \n",
       "902   2023-01-06 12:30:34.300                  1            0.0   \n",
       "...                       ...                ...            ...   \n",
       "69240 2023-09-29 19:30:58.803                  1            0.0   \n",
       "69338 2023-09-30 07:30:04.027                  1            0.0   \n",
       "69359 2023-09-30 13:30:29.700                  1            0.0   \n",
       "69360 2023-09-30 13:30:32.300                  1            1.0   \n",
       "69415 2023-09-30 16:30:24.710                  1            0.0   \n",
       "\n",
       "       HighAlarmCount  UrgentAlarmCount  BADPVCount  SystemAlarmCount  \\\n",
       "177               0.0               0.0         0.0               0.0   \n",
       "654               0.0               0.0         1.0               0.0   \n",
       "671               0.0               0.0         0.0               0.0   \n",
       "809               0.0               0.0         0.0               0.0   \n",
       "902               0.0               0.0         0.0               0.0   \n",
       "...               ...               ...         ...               ...   \n",
       "69240             0.0               0.0         0.0               0.0   \n",
       "69338             0.0               0.0         0.0               0.0   \n",
       "69359             0.0               0.0         0.0               0.0   \n",
       "69360             0.0               0.0         0.0               0.0   \n",
       "69415             0.0               0.0         0.0               0.0   \n",
       "\n",
       "       AllAlarmCount  \n",
       "177                1  \n",
       "654                1  \n",
       "671                1  \n",
       "809                1  \n",
       "902                1  \n",
       "...              ...  \n",
       "69240              1  \n",
       "69338              1  \n",
       "69359              1  \n",
       "69360              2  \n",
       "69415              1  \n",
       "\n",
       "[1273 rows x 8 columns]"
      ]
     },
     "execution_count": 38,
     "metadata": {},
     "output_type": "execute_result"
    }
   ],
   "source": [
    "alarm_count_1[alarm_count_1.Time.dt.minute == 30]"
   ]
  },
  {
   "cell_type": "markdown",
   "id": "dc4bfc3f",
   "metadata": {},
   "source": [
    "## Group changes and acks by 10 minute"
   ]
  },
  {
   "cell_type": "code",
   "execution_count": 39,
   "id": "8e376d41",
   "metadata": {},
   "outputs": [
    {
     "data": {
      "text/html": [
       "<div>\n",
       "<style scoped>\n",
       "    .dataframe tbody tr th:only-of-type {\n",
       "        vertical-align: middle;\n",
       "    }\n",
       "\n",
       "    .dataframe tbody tr th {\n",
       "        vertical-align: top;\n",
       "    }\n",
       "\n",
       "    .dataframe thead th {\n",
       "        text-align: right;\n",
       "    }\n",
       "</style>\n",
       "<table border=\"1\" class=\"dataframe\">\n",
       "  <thead>\n",
       "    <tr style=\"text-align: right;\">\n",
       "      <th></th>\n",
       "      <th>Time</th>\n",
       "      <th>AcksCount</th>\n",
       "    </tr>\n",
       "  </thead>\n",
       "  <tbody>\n",
       "    <tr>\n",
       "      <th>0</th>\n",
       "      <td>2023-01-01 04:02:26.400</td>\n",
       "      <td>1</td>\n",
       "    </tr>\n",
       "    <tr>\n",
       "      <th>1</th>\n",
       "      <td>2023-01-01 04:04:43.500</td>\n",
       "      <td>1</td>\n",
       "    </tr>\n",
       "    <tr>\n",
       "      <th>2</th>\n",
       "      <td>2023-01-01 04:10:56.500</td>\n",
       "      <td>1</td>\n",
       "    </tr>\n",
       "    <tr>\n",
       "      <th>3</th>\n",
       "      <td>2023-01-01 04:12:09.600</td>\n",
       "      <td>1</td>\n",
       "    </tr>\n",
       "    <tr>\n",
       "      <th>4</th>\n",
       "      <td>2023-01-01 04:17:57.800</td>\n",
       "      <td>2</td>\n",
       "    </tr>\n",
       "  </tbody>\n",
       "</table>\n",
       "</div>"
      ],
      "text/plain": [
       "                     Time  AcksCount\n",
       "0 2023-01-01 04:02:26.400          1\n",
       "1 2023-01-01 04:04:43.500          1\n",
       "2 2023-01-01 04:10:56.500          1\n",
       "3 2023-01-01 04:12:09.600          1\n",
       "4 2023-01-01 04:17:57.800          2"
      ]
     },
     "execution_count": 39,
     "metadata": {},
     "output_type": "execute_result"
    }
   ],
   "source": [
    "acks_grouped_1 = acks_1.groupby('Time').size().reset_index().rename(columns={0: 'AcksCount'}).fillna(0)\n",
    "acks_grouped_1.head(5)"
   ]
  },
  {
   "cell_type": "code",
   "execution_count": 40,
   "id": "15a3ab8a",
   "metadata": {
    "scrolled": true
   },
   "outputs": [
    {
     "data": {
      "text/html": [
       "<div>\n",
       "<style scoped>\n",
       "    .dataframe tbody tr th:only-of-type {\n",
       "        vertical-align: middle;\n",
       "    }\n",
       "\n",
       "    .dataframe tbody tr th {\n",
       "        vertical-align: top;\n",
       "    }\n",
       "\n",
       "    .dataframe thead th {\n",
       "        text-align: right;\n",
       "    }\n",
       "</style>\n",
       "<table border=\"1\" class=\"dataframe\">\n",
       "  <thead>\n",
       "    <tr style=\"text-align: right;\">\n",
       "      <th></th>\n",
       "      <th>Time</th>\n",
       "      <th>ChangesCount</th>\n",
       "    </tr>\n",
       "  </thead>\n",
       "  <tbody>\n",
       "    <tr>\n",
       "      <th>0</th>\n",
       "      <td>2023-01-01 03:59:42.200</td>\n",
       "      <td>1</td>\n",
       "    </tr>\n",
       "    <tr>\n",
       "      <th>1</th>\n",
       "      <td>2023-01-01 03:59:42.400</td>\n",
       "      <td>1</td>\n",
       "    </tr>\n",
       "    <tr>\n",
       "      <th>2</th>\n",
       "      <td>2023-01-01 03:59:42.600</td>\n",
       "      <td>1</td>\n",
       "    </tr>\n",
       "    <tr>\n",
       "      <th>3</th>\n",
       "      <td>2023-01-01 03:59:42.800</td>\n",
       "      <td>1</td>\n",
       "    </tr>\n",
       "    <tr>\n",
       "      <th>4</th>\n",
       "      <td>2023-01-01 03:59:43.500</td>\n",
       "      <td>1</td>\n",
       "    </tr>\n",
       "  </tbody>\n",
       "</table>\n",
       "</div>"
      ],
      "text/plain": [
       "                     Time  ChangesCount\n",
       "0 2023-01-01 03:59:42.200             1\n",
       "1 2023-01-01 03:59:42.400             1\n",
       "2 2023-01-01 03:59:42.600             1\n",
       "3 2023-01-01 03:59:42.800             1\n",
       "4 2023-01-01 03:59:43.500             1"
      ]
     },
     "execution_count": 40,
     "metadata": {},
     "output_type": "execute_result"
    }
   ],
   "source": [
    "changes_grouped_1 = changes_1.groupby('Time').size().reset_index().rename(columns={0: 'ChangesCount'}).fillna(0)\n",
    "changes_grouped_1.head(5)"
   ]
  },
  {
   "cell_type": "markdown",
   "id": "dc1ccc2e",
   "metadata": {},
   "source": [
    "## Calculate loading = 1*acks + 1*changes"
   ]
  },
  {
   "cell_type": "code",
   "execution_count": 41,
   "id": "1e14f462",
   "metadata": {},
   "outputs": [
    {
     "data": {
      "text/html": [
       "<div>\n",
       "<style scoped>\n",
       "    .dataframe tbody tr th:only-of-type {\n",
       "        vertical-align: middle;\n",
       "    }\n",
       "\n",
       "    .dataframe tbody tr th {\n",
       "        vertical-align: top;\n",
       "    }\n",
       "\n",
       "    .dataframe thead th {\n",
       "        text-align: right;\n",
       "    }\n",
       "</style>\n",
       "<table border=\"1\" class=\"dataframe\">\n",
       "  <thead>\n",
       "    <tr style=\"text-align: right;\">\n",
       "      <th></th>\n",
       "      <th>Time</th>\n",
       "      <th>Loading</th>\n",
       "    </tr>\n",
       "  </thead>\n",
       "  <tbody>\n",
       "    <tr>\n",
       "      <th>0</th>\n",
       "      <td>2023-01-01 03:59:42.200</td>\n",
       "      <td>1.0</td>\n",
       "    </tr>\n",
       "    <tr>\n",
       "      <th>1</th>\n",
       "      <td>2023-01-01 03:59:42.400</td>\n",
       "      <td>1.0</td>\n",
       "    </tr>\n",
       "    <tr>\n",
       "      <th>2</th>\n",
       "      <td>2023-01-01 03:59:42.600</td>\n",
       "      <td>1.0</td>\n",
       "    </tr>\n",
       "    <tr>\n",
       "      <th>3</th>\n",
       "      <td>2023-01-01 03:59:42.800</td>\n",
       "      <td>1.0</td>\n",
       "    </tr>\n",
       "    <tr>\n",
       "      <th>4</th>\n",
       "      <td>2023-01-01 03:59:43.500</td>\n",
       "      <td>1.0</td>\n",
       "    </tr>\n",
       "  </tbody>\n",
       "</table>\n",
       "</div>"
      ],
      "text/plain": [
       "                     Time  Loading\n",
       "0 2023-01-01 03:59:42.200      1.0\n",
       "1 2023-01-01 03:59:42.400      1.0\n",
       "2 2023-01-01 03:59:42.600      1.0\n",
       "3 2023-01-01 03:59:42.800      1.0\n",
       "4 2023-01-01 03:59:43.500      1.0"
      ]
     },
     "execution_count": 41,
     "metadata": {},
     "output_type": "execute_result"
    }
   ],
   "source": [
    "loading_1 = changes_grouped_1.merge(acks_grouped_1, how='outer', on='Time').fillna(0)\n",
    "WEIGHT_OF_ACKS = 1\n",
    "loading_1['Loading'] = loading_1['ChangesCount'] + WEIGHT_OF_ACKS * loading_1['AcksCount']\n",
    "loading_1 = loading_1.loc[:, ['Time', 'Loading']].reset_index(drop=True).fillna(0)\n",
    "loading_1.head(5)"
   ]
  },
  {
   "cell_type": "markdown",
   "id": "f4f58387",
   "metadata": {},
   "source": [
    "## Drift loading 10 min backward "
   ]
  },
  {
   "cell_type": "code",
   "execution_count": 42,
   "id": "80efdddd",
   "metadata": {},
   "outputs": [
    {
     "data": {
      "text/html": [
       "<div>\n",
       "<style scoped>\n",
       "    .dataframe tbody tr th:only-of-type {\n",
       "        vertical-align: middle;\n",
       "    }\n",
       "\n",
       "    .dataframe tbody tr th {\n",
       "        vertical-align: top;\n",
       "    }\n",
       "\n",
       "    .dataframe thead th {\n",
       "        text-align: right;\n",
       "    }\n",
       "</style>\n",
       "<table border=\"1\" class=\"dataframe\">\n",
       "  <thead>\n",
       "    <tr style=\"text-align: right;\">\n",
       "      <th></th>\n",
       "      <th>Time</th>\n",
       "      <th>AfterhhLoading</th>\n",
       "    </tr>\n",
       "  </thead>\n",
       "  <tbody>\n",
       "    <tr>\n",
       "      <th>0</th>\n",
       "      <td>2023-01-01 03:49:42.200</td>\n",
       "      <td>1.0</td>\n",
       "    </tr>\n",
       "    <tr>\n",
       "      <th>1</th>\n",
       "      <td>2023-01-01 03:49:42.400</td>\n",
       "      <td>1.0</td>\n",
       "    </tr>\n",
       "    <tr>\n",
       "      <th>2</th>\n",
       "      <td>2023-01-01 03:49:42.600</td>\n",
       "      <td>1.0</td>\n",
       "    </tr>\n",
       "    <tr>\n",
       "      <th>3</th>\n",
       "      <td>2023-01-01 03:49:42.800</td>\n",
       "      <td>1.0</td>\n",
       "    </tr>\n",
       "    <tr>\n",
       "      <th>4</th>\n",
       "      <td>2023-01-01 03:49:43.500</td>\n",
       "      <td>1.0</td>\n",
       "    </tr>\n",
       "  </tbody>\n",
       "</table>\n",
       "</div>"
      ],
      "text/plain": [
       "                     Time  AfterhhLoading\n",
       "0 2023-01-01 03:49:42.200             1.0\n",
       "1 2023-01-01 03:49:42.400             1.0\n",
       "2 2023-01-01 03:49:42.600             1.0\n",
       "3 2023-01-01 03:49:42.800             1.0\n",
       "4 2023-01-01 03:49:43.500             1.0"
      ]
     },
     "execution_count": 42,
     "metadata": {},
     "output_type": "execute_result"
    }
   ],
   "source": [
    "from datetime import timedelta\n",
    "loading = loading_1.copy().rename(columns={'Loading': 'AfterhhLoading'})\n",
    "loading['Time'] = loading['Time'] - timedelta(minutes=10)\n",
    "loading.head(5)"
   ]
  },
  {
   "cell_type": "markdown",
   "id": "f54242fb",
   "metadata": {},
   "source": [
    "## Merge acks, changes and Loading"
   ]
  },
  {
   "cell_type": "code",
   "execution_count": 43,
   "id": "0f4a1ac7",
   "metadata": {},
   "outputs": [
    {
     "data": {
      "text/html": [
       "<div>\n",
       "<style scoped>\n",
       "    .dataframe tbody tr th:only-of-type {\n",
       "        vertical-align: middle;\n",
       "    }\n",
       "\n",
       "    .dataframe tbody tr th {\n",
       "        vertical-align: top;\n",
       "    }\n",
       "\n",
       "    .dataframe thead th {\n",
       "        text-align: right;\n",
       "    }\n",
       "</style>\n",
       "<table border=\"1\" class=\"dataframe\">\n",
       "  <thead>\n",
       "    <tr style=\"text-align: right;\">\n",
       "      <th></th>\n",
       "      <th>Time</th>\n",
       "      <th>AcksCount</th>\n",
       "      <th>ChangesCount</th>\n",
       "      <th>AfterhhLoading</th>\n",
       "    </tr>\n",
       "  </thead>\n",
       "  <tbody>\n",
       "    <tr>\n",
       "      <th>0</th>\n",
       "      <td>2023-01-01 03:49:42.200</td>\n",
       "      <td>0.0</td>\n",
       "      <td>0.0</td>\n",
       "      <td>1.0</td>\n",
       "    </tr>\n",
       "    <tr>\n",
       "      <th>1</th>\n",
       "      <td>2023-01-01 03:49:42.400</td>\n",
       "      <td>0.0</td>\n",
       "      <td>0.0</td>\n",
       "      <td>1.0</td>\n",
       "    </tr>\n",
       "    <tr>\n",
       "      <th>2</th>\n",
       "      <td>2023-01-01 03:49:42.600</td>\n",
       "      <td>0.0</td>\n",
       "      <td>0.0</td>\n",
       "      <td>1.0</td>\n",
       "    </tr>\n",
       "    <tr>\n",
       "      <th>3</th>\n",
       "      <td>2023-01-01 03:49:42.800</td>\n",
       "      <td>0.0</td>\n",
       "      <td>0.0</td>\n",
       "      <td>1.0</td>\n",
       "    </tr>\n",
       "    <tr>\n",
       "      <th>4</th>\n",
       "      <td>2023-01-01 03:49:43.500</td>\n",
       "      <td>0.0</td>\n",
       "      <td>0.0</td>\n",
       "      <td>1.0</td>\n",
       "    </tr>\n",
       "  </tbody>\n",
       "</table>\n",
       "</div>"
      ],
      "text/plain": [
       "                     Time  AcksCount  ChangesCount  AfterhhLoading\n",
       "0 2023-01-01 03:49:42.200        0.0           0.0             1.0\n",
       "1 2023-01-01 03:49:42.400        0.0           0.0             1.0\n",
       "2 2023-01-01 03:49:42.600        0.0           0.0             1.0\n",
       "3 2023-01-01 03:49:42.800        0.0           0.0             1.0\n",
       "4 2023-01-01 03:49:43.500        0.0           0.0             1.0"
      ]
     },
     "execution_count": 43,
     "metadata": {},
     "output_type": "execute_result"
    }
   ],
   "source": [
    "merged_acks_changes_1 = acks_grouped_1.merge(changes_grouped_1, how='outer', on='Time').reset_index(drop=True).fillna(0)\n",
    "merged_loading = merged_acks_changes_1.merge(loading, how='right', on='Time').sort_values(by='Time').reset_index(drop=True).fillna(0)\n",
    "merged_loading.head(5)"
   ]
  },
  {
   "cell_type": "code",
   "execution_count": 44,
   "id": "94d18d20",
   "metadata": {},
   "outputs": [
    {
     "data": {
      "text/html": [
       "<div>\n",
       "<style scoped>\n",
       "    .dataframe tbody tr th:only-of-type {\n",
       "        vertical-align: middle;\n",
       "    }\n",
       "\n",
       "    .dataframe tbody tr th {\n",
       "        vertical-align: top;\n",
       "    }\n",
       "\n",
       "    .dataframe thead th {\n",
       "        text-align: right;\n",
       "    }\n",
       "</style>\n",
       "<table border=\"1\" class=\"dataframe\">\n",
       "  <thead>\n",
       "    <tr style=\"text-align: right;\">\n",
       "      <th></th>\n",
       "      <th>Time</th>\n",
       "      <th>JournalAlarmCount</th>\n",
       "      <th>LowAlarmCount</th>\n",
       "      <th>HighAlarmCount</th>\n",
       "      <th>UrgentAlarmCount</th>\n",
       "      <th>BADPVCount</th>\n",
       "      <th>SystemAlarmCount</th>\n",
       "      <th>AllAlarmCount</th>\n",
       "    </tr>\n",
       "  </thead>\n",
       "  <tbody>\n",
       "    <tr>\n",
       "      <th>0</th>\n",
       "      <td>2023-01-01 02:39:51.343</td>\n",
       "      <td>1</td>\n",
       "      <td>0.0</td>\n",
       "      <td>0.0</td>\n",
       "      <td>0.0</td>\n",
       "      <td>0.0</td>\n",
       "      <td>0.0</td>\n",
       "      <td>1</td>\n",
       "    </tr>\n",
       "    <tr>\n",
       "      <th>1</th>\n",
       "      <td>2023-01-01 02:39:59.093</td>\n",
       "      <td>1</td>\n",
       "      <td>0.0</td>\n",
       "      <td>0.0</td>\n",
       "      <td>0.0</td>\n",
       "      <td>0.0</td>\n",
       "      <td>0.0</td>\n",
       "      <td>1</td>\n",
       "    </tr>\n",
       "    <tr>\n",
       "      <th>2</th>\n",
       "      <td>2023-01-01 02:44:17.783</td>\n",
       "      <td>1</td>\n",
       "      <td>0.0</td>\n",
       "      <td>0.0</td>\n",
       "      <td>0.0</td>\n",
       "      <td>0.0</td>\n",
       "      <td>0.0</td>\n",
       "      <td>1</td>\n",
       "    </tr>\n",
       "    <tr>\n",
       "      <th>3</th>\n",
       "      <td>2023-01-01 02:44:30.833</td>\n",
       "      <td>1</td>\n",
       "      <td>0.0</td>\n",
       "      <td>0.0</td>\n",
       "      <td>0.0</td>\n",
       "      <td>0.0</td>\n",
       "      <td>0.0</td>\n",
       "      <td>1</td>\n",
       "    </tr>\n",
       "    <tr>\n",
       "      <th>4</th>\n",
       "      <td>2023-01-01 02:47:01.183</td>\n",
       "      <td>1</td>\n",
       "      <td>0.0</td>\n",
       "      <td>0.0</td>\n",
       "      <td>0.0</td>\n",
       "      <td>0.0</td>\n",
       "      <td>0.0</td>\n",
       "      <td>1</td>\n",
       "    </tr>\n",
       "  </tbody>\n",
       "</table>\n",
       "</div>"
      ],
      "text/plain": [
       "                     Time  JournalAlarmCount  LowAlarmCount  HighAlarmCount  \\\n",
       "0 2023-01-01 02:39:51.343                  1            0.0             0.0   \n",
       "1 2023-01-01 02:39:59.093                  1            0.0             0.0   \n",
       "2 2023-01-01 02:44:17.783                  1            0.0             0.0   \n",
       "3 2023-01-01 02:44:30.833                  1            0.0             0.0   \n",
       "4 2023-01-01 02:47:01.183                  1            0.0             0.0   \n",
       "\n",
       "   UrgentAlarmCount  BADPVCount  SystemAlarmCount  AllAlarmCount  \n",
       "0               0.0         0.0               0.0              1  \n",
       "1               0.0         0.0               0.0              1  \n",
       "2               0.0         0.0               0.0              1  \n",
       "3               0.0         0.0               0.0              1  \n",
       "4               0.0         0.0               0.0              1  "
      ]
     },
     "execution_count": 44,
     "metadata": {},
     "output_type": "execute_result"
    }
   ],
   "source": [
    "alarm_count_1.head()"
   ]
  },
  {
   "cell_type": "markdown",
   "id": "91a1db7c",
   "metadata": {},
   "source": [
    "## Create final df for Unit1"
   ]
  },
  {
   "cell_type": "code",
   "execution_count": 45,
   "id": "446a20f3",
   "metadata": {},
   "outputs": [
    {
     "data": {
      "text/html": [
       "<div>\n",
       "<style scoped>\n",
       "    .dataframe tbody tr th:only-of-type {\n",
       "        vertical-align: middle;\n",
       "    }\n",
       "\n",
       "    .dataframe tbody tr th {\n",
       "        vertical-align: top;\n",
       "    }\n",
       "\n",
       "    .dataframe thead th {\n",
       "        text-align: right;\n",
       "    }\n",
       "</style>\n",
       "<table border=\"1\" class=\"dataframe\">\n",
       "  <thead>\n",
       "    <tr style=\"text-align: right;\">\n",
       "      <th></th>\n",
       "      <th>Time</th>\n",
       "      <th>JournalAlarmCount</th>\n",
       "      <th>LowAlarmCount</th>\n",
       "      <th>HighAlarmCount</th>\n",
       "      <th>UrgentAlarmCount</th>\n",
       "      <th>BADPVCount</th>\n",
       "      <th>SystemAlarmCount</th>\n",
       "      <th>AllAlarmCount</th>\n",
       "      <th>AcksCount</th>\n",
       "      <th>ChangesCount</th>\n",
       "      <th>AfterhhLoading</th>\n",
       "    </tr>\n",
       "  </thead>\n",
       "  <tbody>\n",
       "    <tr>\n",
       "      <th>0</th>\n",
       "      <td>2023-01-01 03:49:42.200</td>\n",
       "      <td>0.0</td>\n",
       "      <td>0.0</td>\n",
       "      <td>0.0</td>\n",
       "      <td>0.0</td>\n",
       "      <td>0.0</td>\n",
       "      <td>0.0</td>\n",
       "      <td>0.0</td>\n",
       "      <td>0.0</td>\n",
       "      <td>0.0</td>\n",
       "      <td>1.0</td>\n",
       "    </tr>\n",
       "    <tr>\n",
       "      <th>1</th>\n",
       "      <td>2023-01-01 03:49:42.400</td>\n",
       "      <td>0.0</td>\n",
       "      <td>0.0</td>\n",
       "      <td>0.0</td>\n",
       "      <td>0.0</td>\n",
       "      <td>0.0</td>\n",
       "      <td>0.0</td>\n",
       "      <td>0.0</td>\n",
       "      <td>0.0</td>\n",
       "      <td>0.0</td>\n",
       "      <td>1.0</td>\n",
       "    </tr>\n",
       "    <tr>\n",
       "      <th>2</th>\n",
       "      <td>2023-01-01 03:49:42.600</td>\n",
       "      <td>0.0</td>\n",
       "      <td>0.0</td>\n",
       "      <td>0.0</td>\n",
       "      <td>0.0</td>\n",
       "      <td>0.0</td>\n",
       "      <td>0.0</td>\n",
       "      <td>0.0</td>\n",
       "      <td>0.0</td>\n",
       "      <td>0.0</td>\n",
       "      <td>1.0</td>\n",
       "    </tr>\n",
       "    <tr>\n",
       "      <th>3</th>\n",
       "      <td>2023-01-01 03:49:42.800</td>\n",
       "      <td>0.0</td>\n",
       "      <td>0.0</td>\n",
       "      <td>0.0</td>\n",
       "      <td>0.0</td>\n",
       "      <td>0.0</td>\n",
       "      <td>0.0</td>\n",
       "      <td>0.0</td>\n",
       "      <td>0.0</td>\n",
       "      <td>0.0</td>\n",
       "      <td>1.0</td>\n",
       "    </tr>\n",
       "    <tr>\n",
       "      <th>4</th>\n",
       "      <td>2023-01-01 03:49:43.500</td>\n",
       "      <td>0.0</td>\n",
       "      <td>0.0</td>\n",
       "      <td>0.0</td>\n",
       "      <td>0.0</td>\n",
       "      <td>0.0</td>\n",
       "      <td>0.0</td>\n",
       "      <td>0.0</td>\n",
       "      <td>0.0</td>\n",
       "      <td>0.0</td>\n",
       "      <td>1.0</td>\n",
       "    </tr>\n",
       "  </tbody>\n",
       "</table>\n",
       "</div>"
      ],
      "text/plain": [
       "                     Time  JournalAlarmCount  LowAlarmCount  HighAlarmCount  \\\n",
       "0 2023-01-01 03:49:42.200                0.0            0.0             0.0   \n",
       "1 2023-01-01 03:49:42.400                0.0            0.0             0.0   \n",
       "2 2023-01-01 03:49:42.600                0.0            0.0             0.0   \n",
       "3 2023-01-01 03:49:42.800                0.0            0.0             0.0   \n",
       "4 2023-01-01 03:49:43.500                0.0            0.0             0.0   \n",
       "\n",
       "   UrgentAlarmCount  BADPVCount  SystemAlarmCount  AllAlarmCount  AcksCount  \\\n",
       "0               0.0         0.0               0.0            0.0        0.0   \n",
       "1               0.0         0.0               0.0            0.0        0.0   \n",
       "2               0.0         0.0               0.0            0.0        0.0   \n",
       "3               0.0         0.0               0.0            0.0        0.0   \n",
       "4               0.0         0.0               0.0            0.0        0.0   \n",
       "\n",
       "   ChangesCount  AfterhhLoading  \n",
       "0           0.0             1.0  \n",
       "1           0.0             1.0  \n",
       "2           0.0             1.0  \n",
       "3           0.0             1.0  \n",
       "4           0.0             1.0  "
      ]
     },
     "execution_count": 45,
     "metadata": {},
     "output_type": "execute_result"
    }
   ],
   "source": [
    "final_df_1 = alarm_count_1.merge(merged_loading, how='right', on='Time').fillna(0).sort_values(by='Time')\n",
    "final_df_1.head()"
   ]
  },
  {
   "cell_type": "code",
   "execution_count": 46,
   "id": "c595685b",
   "metadata": {},
   "outputs": [],
   "source": [
    "final_df_1.to_csv('final_df_1.csv')"
   ]
  },
  {
   "cell_type": "markdown",
   "id": "78e838a1",
   "metadata": {},
   "source": [
    "## Work with UnitGS"
   ]
  },
  {
   "cell_type": "code",
   "execution_count": 503,
   "id": "31ddccac",
   "metadata": {},
   "outputs": [
    {
     "name": "stdout",
     "output_type": "stream",
     "text": [
      "Actions count: 164326, Alarms count: 1672212\n"
     ]
    }
   ],
   "source": [
    "all_actions_2 = unit5_df[unit5_df['Actor'].notna()]\n",
    "alarms_2 = unit5_df[unit5_df['Actor'].isna() & unit5_df['Action'].isna()]\n",
    "print(f'Actions count: {all_actions_2.shape[0]}, Alarms count: {alarms_2.shape[0]}')"
   ]
  },
  {
   "cell_type": "markdown",
   "id": "9ba27587",
   "metadata": {},
   "source": [
    "### Divide action to acknowledges and actions (Changes)"
   ]
  },
  {
   "cell_type": "code",
   "execution_count": 504,
   "id": "370e6c02",
   "metadata": {},
   "outputs": [
    {
     "name": "stdout",
     "output_type": "stream",
     "text": [
      "Changes count: 93158, Acknowldeges count: 68752\n"
     ]
    },
    {
     "data": {
      "text/html": [
       "<div>\n",
       "<style scoped>\n",
       "    .dataframe tbody tr th:only-of-type {\n",
       "        vertical-align: middle;\n",
       "    }\n",
       "\n",
       "    .dataframe tbody tr th {\n",
       "        vertical-align: top;\n",
       "    }\n",
       "\n",
       "    .dataframe thead th {\n",
       "        text-align: right;\n",
       "    }\n",
       "</style>\n",
       "<table border=\"1\" class=\"dataframe\">\n",
       "  <thead>\n",
       "    <tr style=\"text-align: right;\">\n",
       "      <th></th>\n",
       "      <th>Time</th>\n",
       "      <th>Action</th>\n",
       "      <th>ConditionName</th>\n",
       "      <th>Priority</th>\n",
       "      <th>Actor</th>\n",
       "      <th>AreaName</th>\n",
       "      <th>Unit</th>\n",
       "    </tr>\n",
       "  </thead>\n",
       "  <tbody>\n",
       "    <tr>\n",
       "      <th>11259440</th>\n",
       "      <td>2023-08-06 08:30:00</td>\n",
       "      <td>None</td>\n",
       "      <td>CHANGE</td>\n",
       "      <td>96.0</td>\n",
       "      <td>KANDYM\\tkhafizov</td>\n",
       "      <td>GAS_120</td>\n",
       "      <td>GS</td>\n",
       "    </tr>\n",
       "    <tr>\n",
       "      <th>3572729</th>\n",
       "      <td>2023-03-15 20:00:00</td>\n",
       "      <td>None</td>\n",
       "      <td>CHANGE</td>\n",
       "      <td>96.0</td>\n",
       "      <td>KANDYM\\dtsoy</td>\n",
       "      <td>120</td>\n",
       "      <td>GS</td>\n",
       "    </tr>\n",
       "    <tr>\n",
       "      <th>2363617</th>\n",
       "      <td>2023-02-19 13:30:00</td>\n",
       "      <td>None</td>\n",
       "      <td>CHANGE</td>\n",
       "      <td>96.0</td>\n",
       "      <td>KANDYM\\tkhafizov</td>\n",
       "      <td>GAS_130</td>\n",
       "      <td>GS</td>\n",
       "    </tr>\n",
       "    <tr>\n",
       "      <th>11178500</th>\n",
       "      <td>2023-08-28 11:00:00</td>\n",
       "      <td>ACK</td>\n",
       "      <td>ALARM</td>\n",
       "      <td>96.0</td>\n",
       "      <td>KANDYM\\ATashniyazov</td>\n",
       "      <td>GAS_624</td>\n",
       "      <td>GS</td>\n",
       "    </tr>\n",
       "    <tr>\n",
       "      <th>3989332</th>\n",
       "      <td>2023-04-29 09:30:00</td>\n",
       "      <td>ACK PNT</td>\n",
       "      <td>ALARM</td>\n",
       "      <td>96.0</td>\n",
       "      <td>KANDYM\\TKabilov</td>\n",
       "      <td>FIRE_110</td>\n",
       "      <td>GS</td>\n",
       "    </tr>\n",
       "  </tbody>\n",
       "</table>\n",
       "</div>"
      ],
      "text/plain": [
       "                        Time   Action ConditionName  Priority  \\\n",
       "11259440 2023-08-06 08:30:00     None        CHANGE      96.0   \n",
       "3572729  2023-03-15 20:00:00     None        CHANGE      96.0   \n",
       "2363617  2023-02-19 13:30:00     None        CHANGE      96.0   \n",
       "11178500 2023-08-28 11:00:00      ACK         ALARM      96.0   \n",
       "3989332  2023-04-29 09:30:00  ACK PNT         ALARM      96.0   \n",
       "\n",
       "                        Actor  AreaName Unit  \n",
       "11259440     KANDYM\\tkhafizov   GAS_120   GS  \n",
       "3572729          KANDYM\\dtsoy       120   GS  \n",
       "2363617      KANDYM\\tkhafizov   GAS_130   GS  \n",
       "11178500  KANDYM\\ATashniyazov   GAS_624   GS  \n",
       "3989332       KANDYM\\TKabilov  FIRE_110   GS  "
      ]
     },
     "execution_count": 504,
     "metadata": {},
     "output_type": "execute_result"
    }
   ],
   "source": [
    "acks_2 = all_actions_2[all_actions_2['Action'].fillna('No Action').str.contains('ACK')]\n",
    "changes_2 = all_actions_2[all_actions_2['ConditionName'] == 'CHANGE']\n",
    "print(f'Changes count: {changes_2.shape[0]}, Acknowldeges count: {acks_2.shape[0]}')\n",
    "all_actions_2.sample(5)"
   ]
  },
  {
   "cell_type": "markdown",
   "id": "dab9ab97",
   "metadata": {},
   "source": [
    "### Delete not needed columns for Alarms and divide alarms"
   ]
  },
  {
   "cell_type": "code",
   "execution_count": 505,
   "id": "ee791e75",
   "metadata": {},
   "outputs": [],
   "source": [
    "alarms_2 = alarms_2.drop(['Actor','Action', 'AreaName'], axis=1)"
   ]
  },
  {
   "cell_type": "code",
   "execution_count": 506,
   "id": "3436b1ae",
   "metadata": {},
   "outputs": [
    {
     "data": {
      "text/html": [
       "<div>\n",
       "<style scoped>\n",
       "    .dataframe tbody tr th:only-of-type {\n",
       "        vertical-align: middle;\n",
       "    }\n",
       "\n",
       "    .dataframe tbody tr th {\n",
       "        vertical-align: top;\n",
       "    }\n",
       "\n",
       "    .dataframe thead th {\n",
       "        text-align: right;\n",
       "    }\n",
       "</style>\n",
       "<table border=\"1\" class=\"dataframe\">\n",
       "  <thead>\n",
       "    <tr style=\"text-align: right;\">\n",
       "      <th></th>\n",
       "      <th>Time</th>\n",
       "      <th>ConditionName</th>\n",
       "      <th>Priority</th>\n",
       "      <th>Unit</th>\n",
       "    </tr>\n",
       "  </thead>\n",
       "  <tbody>\n",
       "    <tr>\n",
       "      <th>7320885</th>\n",
       "      <td>2023-05-04 09:00:00</td>\n",
       "      <td>PVLOW</td>\n",
       "      <td>0.0</td>\n",
       "      <td>GS</td>\n",
       "    </tr>\n",
       "    <tr>\n",
       "      <th>6861262</th>\n",
       "      <td>2023-05-04 17:30:00</td>\n",
       "      <td>PVLOW</td>\n",
       "      <td>0.0</td>\n",
       "      <td>GS</td>\n",
       "    </tr>\n",
       "    <tr>\n",
       "      <th>13185539</th>\n",
       "      <td>2023-09-06 02:30:00</td>\n",
       "      <td>PVHIGH</td>\n",
       "      <td>0.0</td>\n",
       "      <td>GS</td>\n",
       "    </tr>\n",
       "    <tr>\n",
       "      <th>6909603</th>\n",
       "      <td>2023-05-15 08:00:00</td>\n",
       "      <td>PVHIGH</td>\n",
       "      <td>0.0</td>\n",
       "      <td>GS</td>\n",
       "    </tr>\n",
       "    <tr>\n",
       "      <th>11346404</th>\n",
       "      <td>2023-08-08 13:30:00</td>\n",
       "      <td>PVLOW</td>\n",
       "      <td>0.0</td>\n",
       "      <td>GS</td>\n",
       "    </tr>\n",
       "  </tbody>\n",
       "</table>\n",
       "</div>"
      ],
      "text/plain": [
       "                        Time ConditionName  Priority Unit\n",
       "7320885  2023-05-04 09:00:00         PVLOW       0.0   GS\n",
       "6861262  2023-05-04 17:30:00         PVLOW       0.0   GS\n",
       "13185539 2023-09-06 02:30:00        PVHIGH       0.0   GS\n",
       "6909603  2023-05-15 08:00:00        PVHIGH       0.0   GS\n",
       "11346404 2023-08-08 13:30:00         PVLOW       0.0   GS"
      ]
     },
     "execution_count": 506,
     "metadata": {},
     "output_type": "execute_result"
    }
   ],
   "source": [
    "alarms_2.sample(5)"
   ]
  },
  {
   "cell_type": "markdown",
   "id": "ccabe582",
   "metadata": {},
   "source": [
    "### Divide alarms to priorities"
   ]
  },
  {
   "cell_type": "code",
   "execution_count": 507,
   "id": "d50177c1",
   "metadata": {
    "scrolled": true
   },
   "outputs": [
    {
     "data": {
      "text/plain": [
       "0.0      1572164\n",
       "32.0       48503\n",
       "48.0       34785\n",
       "16.0        8105\n",
       "128.0       7399\n",
       "47.0         693\n",
       "Name: Priority, dtype: int64"
      ]
     },
     "execution_count": 507,
     "metadata": {},
     "output_type": "execute_result"
    }
   ],
   "source": [
    "## check alarms by priorities\n",
    "alarms_2.Priority.value_counts()"
   ]
  },
  {
   "cell_type": "code",
   "execution_count": 508,
   "id": "473dee64",
   "metadata": {},
   "outputs": [
    {
     "name": "stdout",
     "output_type": "stream",
     "text": [
      "Alarms count: 1672212,\n",
      "      Journal alarms count: 1572164,\n",
      "      Low Priority alarms count: 8105,\n",
      "      High Priority alarms count: 48503,\n",
      "      Urgent Priority alarms count: 34785,\n",
      "      \n"
     ]
    }
   ],
   "source": [
    "# /** [Priority] 0 - JOURNAL, 15 - system, 16 - Low, 32 - HIGH, 48 - URGENT, 96 - OP **/\n",
    "## divide alarms to only with journal and alarms with low, high and urgent priorities and system alarms\n",
    "journal_alarms_2 = alarms_2[alarms_2['Priority'] == 0]\n",
    "low_alarms_2 = alarms_2[alarms_2['Priority'] == 16]\n",
    "high_alarms_2 = alarms_2[alarms_2['Priority'] == 32]\n",
    "urgent_alarms_2 = alarms_2[alarms_2['Priority'] == 48]\n",
    "print(f'Alarms count: {alarms_2.shape[0]},\\n\\\n",
    "      Journal alarms count: {journal_alarms_2.shape[0]},\\n\\\n",
    "      Low Priority alarms count: {low_alarms_2.shape[0]},\\n\\\n",
    "      High Priority alarms count: {high_alarms_2.shape[0]},\\n\\\n",
    "      Urgent Priority alarms count: {urgent_alarms_2.shape[0]},\\n\\\n",
    "      ')"
   ]
  },
  {
   "cell_type": "markdown",
   "id": "0bd3b0a9",
   "metadata": {},
   "source": [
    "#### Extract BAD BP alarms"
   ]
  },
  {
   "cell_type": "code",
   "execution_count": 509,
   "id": "ef8fbd2e",
   "metadata": {},
   "outputs": [
    {
     "name": "stdout",
     "output_type": "stream",
     "text": [
      "BAD PV alarms count: 10344\n"
     ]
    }
   ],
   "source": [
    "badpv_alarms_2 = alarms_2[alarms_2['ConditionName'] == 'BAD PV']\n",
    "print(f'BAD PV alarms count: {badpv_alarms_2.shape[0]}')"
   ]
  },
  {
   "cell_type": "markdown",
   "id": "69665c7b",
   "metadata": {},
   "source": [
    "#### Check consistensy of dfs"
   ]
  },
  {
   "cell_type": "code",
   "execution_count": 510,
   "id": "abaf6171",
   "metadata": {},
   "outputs": [
    {
     "data": {
      "text/html": [
       "<div>\n",
       "<style scoped>\n",
       "    .dataframe tbody tr th:only-of-type {\n",
       "        vertical-align: middle;\n",
       "    }\n",
       "\n",
       "    .dataframe tbody tr th {\n",
       "        vertical-align: top;\n",
       "    }\n",
       "\n",
       "    .dataframe thead th {\n",
       "        text-align: right;\n",
       "    }\n",
       "</style>\n",
       "<table border=\"1\" class=\"dataframe\">\n",
       "  <thead>\n",
       "    <tr style=\"text-align: right;\">\n",
       "      <th></th>\n",
       "      <th>Time</th>\n",
       "      <th>Action</th>\n",
       "      <th>ConditionName</th>\n",
       "      <th>Priority</th>\n",
       "      <th>Actor</th>\n",
       "      <th>AreaName</th>\n",
       "      <th>Unit</th>\n",
       "    </tr>\n",
       "  </thead>\n",
       "  <tbody>\n",
       "    <tr>\n",
       "      <th>9181825</th>\n",
       "      <td>2023-06-10 11:00:00</td>\n",
       "      <td>None</td>\n",
       "      <td>COMMS</td>\n",
       "      <td>48.0</td>\n",
       "      <td>None</td>\n",
       "      <td>F&amp;G</td>\n",
       "      <td>NaN</td>\n",
       "    </tr>\n",
       "    <tr>\n",
       "      <th>6790918</th>\n",
       "      <td>2023-05-23 09:30:00</td>\n",
       "      <td>None</td>\n",
       "      <td>COMMS</td>\n",
       "      <td>48.0</td>\n",
       "      <td>None</td>\n",
       "      <td>F&amp;G_120</td>\n",
       "      <td>GS</td>\n",
       "    </tr>\n",
       "    <tr>\n",
       "      <th>7192940</th>\n",
       "      <td>2023-05-28 11:30:00</td>\n",
       "      <td>None</td>\n",
       "      <td>COMMS</td>\n",
       "      <td>32.0</td>\n",
       "      <td>None</td>\n",
       "      <td>610</td>\n",
       "      <td>GS</td>\n",
       "    </tr>\n",
       "    <tr>\n",
       "      <th>5292704</th>\n",
       "      <td>2023-05-23 16:00:00</td>\n",
       "      <td>None</td>\n",
       "      <td>COMMS</td>\n",
       "      <td>48.0</td>\n",
       "      <td>None</td>\n",
       "      <td>430</td>\n",
       "      <td>NaN</td>\n",
       "    </tr>\n",
       "    <tr>\n",
       "      <th>4553927</th>\n",
       "      <td>2023-04-17 12:00:00</td>\n",
       "      <td>None</td>\n",
       "      <td>COMMS</td>\n",
       "      <td>48.0</td>\n",
       "      <td>None</td>\n",
       "      <td>$SRV430SRV0002</td>\n",
       "      <td>NaN</td>\n",
       "    </tr>\n",
       "  </tbody>\n",
       "</table>\n",
       "</div>"
      ],
      "text/plain": [
       "                       Time Action ConditionName  Priority Actor  \\\n",
       "9181825 2023-06-10 11:00:00   None         COMMS      48.0  None   \n",
       "6790918 2023-05-23 09:30:00   None         COMMS      48.0  None   \n",
       "7192940 2023-05-28 11:30:00   None         COMMS      32.0  None   \n",
       "5292704 2023-05-23 16:00:00   None         COMMS      48.0  None   \n",
       "4553927 2023-04-17 12:00:00   None         COMMS      48.0  None   \n",
       "\n",
       "               AreaName Unit  \n",
       "9181825             F&G  NaN  \n",
       "6790918         F&G_120   GS  \n",
       "7192940             610   GS  \n",
       "5292704             430  NaN  \n",
       "4553927  $SRV430SRV0002  NaN  "
      ]
     },
     "execution_count": 510,
     "metadata": {},
     "output_type": "execute_result"
    }
   ],
   "source": [
    "system_alarms.sample(5)"
   ]
  },
  {
   "cell_type": "code",
   "execution_count": 511,
   "id": "3c271acd",
   "metadata": {},
   "outputs": [
    {
     "data": {
      "text/html": [
       "<div>\n",
       "<style scoped>\n",
       "    .dataframe tbody tr th:only-of-type {\n",
       "        vertical-align: middle;\n",
       "    }\n",
       "\n",
       "    .dataframe tbody tr th {\n",
       "        vertical-align: top;\n",
       "    }\n",
       "\n",
       "    .dataframe thead th {\n",
       "        text-align: right;\n",
       "    }\n",
       "</style>\n",
       "<table border=\"1\" class=\"dataframe\">\n",
       "  <thead>\n",
       "    <tr style=\"text-align: right;\">\n",
       "      <th></th>\n",
       "      <th>Time</th>\n",
       "      <th>ConditionName</th>\n",
       "      <th>Priority</th>\n",
       "      <th>Unit</th>\n",
       "    </tr>\n",
       "  </thead>\n",
       "  <tbody>\n",
       "    <tr>\n",
       "      <th>7030910</th>\n",
       "      <td>2023-05-13 21:00:00</td>\n",
       "      <td>PVHIGH</td>\n",
       "      <td>0.0</td>\n",
       "      <td>GS</td>\n",
       "    </tr>\n",
       "    <tr>\n",
       "      <th>6795561</th>\n",
       "      <td>2023-05-28 17:30:00</td>\n",
       "      <td>DISABL</td>\n",
       "      <td>0.0</td>\n",
       "      <td>GS</td>\n",
       "    </tr>\n",
       "    <tr>\n",
       "      <th>13227114</th>\n",
       "      <td>2023-09-13 16:00:00</td>\n",
       "      <td>PVHIGH</td>\n",
       "      <td>0.0</td>\n",
       "      <td>GS</td>\n",
       "    </tr>\n",
       "    <tr>\n",
       "      <th>7216630</th>\n",
       "      <td>2023-05-30 23:00:00</td>\n",
       "      <td>PVLOW</td>\n",
       "      <td>0.0</td>\n",
       "      <td>GS</td>\n",
       "    </tr>\n",
       "    <tr>\n",
       "      <th>6873855</th>\n",
       "      <td>2023-05-03 00:00:00</td>\n",
       "      <td>PVHIGH</td>\n",
       "      <td>0.0</td>\n",
       "      <td>GS</td>\n",
       "    </tr>\n",
       "  </tbody>\n",
       "</table>\n",
       "</div>"
      ],
      "text/plain": [
       "                        Time ConditionName  Priority Unit\n",
       "7030910  2023-05-13 21:00:00        PVHIGH       0.0   GS\n",
       "6795561  2023-05-28 17:30:00        DISABL       0.0   GS\n",
       "13227114 2023-09-13 16:00:00        PVHIGH       0.0   GS\n",
       "7216630  2023-05-30 23:00:00         PVLOW       0.0   GS\n",
       "6873855  2023-05-03 00:00:00        PVHIGH       0.0   GS"
      ]
     },
     "execution_count": 511,
     "metadata": {},
     "output_type": "execute_result"
    }
   ],
   "source": [
    "journal_alarms_2.sample(5)"
   ]
  },
  {
   "cell_type": "code",
   "execution_count": 512,
   "id": "1435e261",
   "metadata": {
    "scrolled": true
   },
   "outputs": [
    {
     "data": {
      "text/html": [
       "<div>\n",
       "<style scoped>\n",
       "    .dataframe tbody tr th:only-of-type {\n",
       "        vertical-align: middle;\n",
       "    }\n",
       "\n",
       "    .dataframe tbody tr th {\n",
       "        vertical-align: top;\n",
       "    }\n",
       "\n",
       "    .dataframe thead th {\n",
       "        text-align: right;\n",
       "    }\n",
       "</style>\n",
       "<table border=\"1\" class=\"dataframe\">\n",
       "  <thead>\n",
       "    <tr style=\"text-align: right;\">\n",
       "      <th></th>\n",
       "      <th>Time</th>\n",
       "      <th>ConditionName</th>\n",
       "      <th>Priority</th>\n",
       "      <th>Unit</th>\n",
       "    </tr>\n",
       "  </thead>\n",
       "  <tbody>\n",
       "    <tr>\n",
       "      <th>3465516</th>\n",
       "      <td>2023-03-23 10:30:00</td>\n",
       "      <td>ALARM</td>\n",
       "      <td>16.0</td>\n",
       "      <td>GS</td>\n",
       "    </tr>\n",
       "    <tr>\n",
       "      <th>10914973</th>\n",
       "      <td>2023-07-15 10:30:00</td>\n",
       "      <td>COMMS</td>\n",
       "      <td>16.0</td>\n",
       "      <td>GS</td>\n",
       "    </tr>\n",
       "    <tr>\n",
       "      <th>7256195</th>\n",
       "      <td>2023-05-16 10:30:00</td>\n",
       "      <td>ALARM</td>\n",
       "      <td>16.0</td>\n",
       "      <td>GS</td>\n",
       "    </tr>\n",
       "    <tr>\n",
       "      <th>2429258</th>\n",
       "      <td>2023-02-04 10:00:00</td>\n",
       "      <td>ALARM</td>\n",
       "      <td>16.0</td>\n",
       "      <td>GS</td>\n",
       "    </tr>\n",
       "    <tr>\n",
       "      <th>6751779</th>\n",
       "      <td>2023-05-06 10:30:00</td>\n",
       "      <td>OFFNRM</td>\n",
       "      <td>16.0</td>\n",
       "      <td>GS</td>\n",
       "    </tr>\n",
       "  </tbody>\n",
       "</table>\n",
       "</div>"
      ],
      "text/plain": [
       "                        Time ConditionName  Priority Unit\n",
       "3465516  2023-03-23 10:30:00         ALARM      16.0   GS\n",
       "10914973 2023-07-15 10:30:00         COMMS      16.0   GS\n",
       "7256195  2023-05-16 10:30:00         ALARM      16.0   GS\n",
       "2429258  2023-02-04 10:00:00         ALARM      16.0   GS\n",
       "6751779  2023-05-06 10:30:00        OFFNRM      16.0   GS"
      ]
     },
     "execution_count": 512,
     "metadata": {},
     "output_type": "execute_result"
    }
   ],
   "source": [
    "low_alarms_2.sample(5)"
   ]
  },
  {
   "cell_type": "code",
   "execution_count": 513,
   "id": "7fd23fb1",
   "metadata": {
    "scrolled": true
   },
   "outputs": [
    {
     "data": {
      "text/html": [
       "<div>\n",
       "<style scoped>\n",
       "    .dataframe tbody tr th:only-of-type {\n",
       "        vertical-align: middle;\n",
       "    }\n",
       "\n",
       "    .dataframe tbody tr th {\n",
       "        vertical-align: top;\n",
       "    }\n",
       "\n",
       "    .dataframe thead th {\n",
       "        text-align: right;\n",
       "    }\n",
       "</style>\n",
       "<table border=\"1\" class=\"dataframe\">\n",
       "  <thead>\n",
       "    <tr style=\"text-align: right;\">\n",
       "      <th></th>\n",
       "      <th>Time</th>\n",
       "      <th>ConditionName</th>\n",
       "      <th>Priority</th>\n",
       "      <th>Unit</th>\n",
       "    </tr>\n",
       "  </thead>\n",
       "  <tbody>\n",
       "    <tr>\n",
       "      <th>6904711</th>\n",
       "      <td>2023-05-20 15:30:00</td>\n",
       "      <td>PVHI</td>\n",
       "      <td>32.0</td>\n",
       "      <td>GS</td>\n",
       "    </tr>\n",
       "    <tr>\n",
       "      <th>3445953</th>\n",
       "      <td>2023-03-17 13:30:00</td>\n",
       "      <td>PVHI</td>\n",
       "      <td>32.0</td>\n",
       "      <td>GS</td>\n",
       "    </tr>\n",
       "    <tr>\n",
       "      <th>7504617</th>\n",
       "      <td>2023-06-22 17:30:00</td>\n",
       "      <td>ALARM</td>\n",
       "      <td>32.0</td>\n",
       "      <td>GS</td>\n",
       "    </tr>\n",
       "    <tr>\n",
       "      <th>7955610</th>\n",
       "      <td>2023-06-10 15:30:00</td>\n",
       "      <td>PVLO</td>\n",
       "      <td>32.0</td>\n",
       "      <td>GS</td>\n",
       "    </tr>\n",
       "    <tr>\n",
       "      <th>13491887</th>\n",
       "      <td>2023-09-18 06:00:00</td>\n",
       "      <td>OFFNRM</td>\n",
       "      <td>32.0</td>\n",
       "      <td>GS</td>\n",
       "    </tr>\n",
       "  </tbody>\n",
       "</table>\n",
       "</div>"
      ],
      "text/plain": [
       "                        Time ConditionName  Priority Unit\n",
       "6904711  2023-05-20 15:30:00          PVHI      32.0   GS\n",
       "3445953  2023-03-17 13:30:00          PVHI      32.0   GS\n",
       "7504617  2023-06-22 17:30:00         ALARM      32.0   GS\n",
       "7955610  2023-06-10 15:30:00          PVLO      32.0   GS\n",
       "13491887 2023-09-18 06:00:00        OFFNRM      32.0   GS"
      ]
     },
     "execution_count": 513,
     "metadata": {},
     "output_type": "execute_result"
    }
   ],
   "source": [
    "high_alarms_2.sample(5)"
   ]
  },
  {
   "cell_type": "code",
   "execution_count": 514,
   "id": "5ac49642",
   "metadata": {
    "scrolled": true
   },
   "outputs": [
    {
     "data": {
      "text/html": [
       "<div>\n",
       "<style scoped>\n",
       "    .dataframe tbody tr th:only-of-type {\n",
       "        vertical-align: middle;\n",
       "    }\n",
       "\n",
       "    .dataframe tbody tr th {\n",
       "        vertical-align: top;\n",
       "    }\n",
       "\n",
       "    .dataframe thead th {\n",
       "        text-align: right;\n",
       "    }\n",
       "</style>\n",
       "<table border=\"1\" class=\"dataframe\">\n",
       "  <thead>\n",
       "    <tr style=\"text-align: right;\">\n",
       "      <th></th>\n",
       "      <th>Time</th>\n",
       "      <th>ConditionName</th>\n",
       "      <th>Priority</th>\n",
       "      <th>Unit</th>\n",
       "    </tr>\n",
       "  </thead>\n",
       "  <tbody>\n",
       "    <tr>\n",
       "      <th>7540522</th>\n",
       "      <td>2023-06-05 22:00:00</td>\n",
       "      <td>ALARM</td>\n",
       "      <td>48.0</td>\n",
       "      <td>GS</td>\n",
       "    </tr>\n",
       "    <tr>\n",
       "      <th>3923207</th>\n",
       "      <td>2023-04-28 20:00:00</td>\n",
       "      <td>ALARM</td>\n",
       "      <td>48.0</td>\n",
       "      <td>GS</td>\n",
       "    </tr>\n",
       "    <tr>\n",
       "      <th>3574644</th>\n",
       "      <td>2023-03-13 14:00:00</td>\n",
       "      <td>PVHH</td>\n",
       "      <td>48.0</td>\n",
       "      <td>GS</td>\n",
       "    </tr>\n",
       "    <tr>\n",
       "      <th>8053931</th>\n",
       "      <td>2023-06-15 23:00:00</td>\n",
       "      <td>OFFNRM</td>\n",
       "      <td>48.0</td>\n",
       "      <td>GS</td>\n",
       "    </tr>\n",
       "    <tr>\n",
       "      <th>5106828</th>\n",
       "      <td>2023-05-04 15:00:00</td>\n",
       "      <td>PVHI</td>\n",
       "      <td>48.0</td>\n",
       "      <td>GS</td>\n",
       "    </tr>\n",
       "  </tbody>\n",
       "</table>\n",
       "</div>"
      ],
      "text/plain": [
       "                       Time ConditionName  Priority Unit\n",
       "7540522 2023-06-05 22:00:00         ALARM      48.0   GS\n",
       "3923207 2023-04-28 20:00:00         ALARM      48.0   GS\n",
       "3574644 2023-03-13 14:00:00          PVHH      48.0   GS\n",
       "8053931 2023-06-15 23:00:00        OFFNRM      48.0   GS\n",
       "5106828 2023-05-04 15:00:00          PVHI      48.0   GS"
      ]
     },
     "execution_count": 514,
     "metadata": {},
     "output_type": "execute_result"
    }
   ],
   "source": [
    "urgent_alarms_2.sample(5)"
   ]
  },
  {
   "cell_type": "code",
   "execution_count": 515,
   "id": "c9b0faf4",
   "metadata": {
    "scrolled": true
   },
   "outputs": [
    {
     "data": {
      "text/html": [
       "<div>\n",
       "<style scoped>\n",
       "    .dataframe tbody tr th:only-of-type {\n",
       "        vertical-align: middle;\n",
       "    }\n",
       "\n",
       "    .dataframe tbody tr th {\n",
       "        vertical-align: top;\n",
       "    }\n",
       "\n",
       "    .dataframe thead th {\n",
       "        text-align: right;\n",
       "    }\n",
       "</style>\n",
       "<table border=\"1\" class=\"dataframe\">\n",
       "  <thead>\n",
       "    <tr style=\"text-align: right;\">\n",
       "      <th></th>\n",
       "      <th>Time</th>\n",
       "      <th>ConditionName</th>\n",
       "      <th>Priority</th>\n",
       "      <th>Unit</th>\n",
       "    </tr>\n",
       "  </thead>\n",
       "  <tbody>\n",
       "    <tr>\n",
       "      <th>93201</th>\n",
       "      <td>2023-01-10 21:00:00</td>\n",
       "      <td>BAD PV</td>\n",
       "      <td>32.0</td>\n",
       "      <td>GS</td>\n",
       "    </tr>\n",
       "    <tr>\n",
       "      <th>129562</th>\n",
       "      <td>2023-01-10 14:00:00</td>\n",
       "      <td>BAD PV</td>\n",
       "      <td>32.0</td>\n",
       "      <td>GS</td>\n",
       "    </tr>\n",
       "    <tr>\n",
       "      <th>11044975</th>\n",
       "      <td>2023-08-23 19:30:00</td>\n",
       "      <td>BAD PV</td>\n",
       "      <td>32.0</td>\n",
       "      <td>GS</td>\n",
       "    </tr>\n",
       "    <tr>\n",
       "      <th>7914004</th>\n",
       "      <td>2023-06-12 01:30:00</td>\n",
       "      <td>BAD PV</td>\n",
       "      <td>32.0</td>\n",
       "      <td>GS</td>\n",
       "    </tr>\n",
       "    <tr>\n",
       "      <th>7275015</th>\n",
       "      <td>2023-05-17 20:30:00</td>\n",
       "      <td>BAD PV</td>\n",
       "      <td>16.0</td>\n",
       "      <td>GS</td>\n",
       "    </tr>\n",
       "  </tbody>\n",
       "</table>\n",
       "</div>"
      ],
      "text/plain": [
       "                        Time ConditionName  Priority Unit\n",
       "93201    2023-01-10 21:00:00        BAD PV      32.0   GS\n",
       "129562   2023-01-10 14:00:00        BAD PV      32.0   GS\n",
       "11044975 2023-08-23 19:30:00        BAD PV      32.0   GS\n",
       "7914004  2023-06-12 01:30:00        BAD PV      32.0   GS\n",
       "7275015  2023-05-17 20:30:00        BAD PV      16.0   GS"
      ]
     },
     "execution_count": 515,
     "metadata": {},
     "output_type": "execute_result"
    }
   ],
   "source": [
    "badpv_alarms_2.sample(5)"
   ]
  },
  {
   "cell_type": "markdown",
   "id": "b8d226ff",
   "metadata": {},
   "source": [
    "### Groupby alarm dfs by halfhour"
   ]
  },
  {
   "cell_type": "code",
   "execution_count": 516,
   "id": "9a0c3efa",
   "metadata": {},
   "outputs": [],
   "source": [
    "journal_alarms_grouped_2 = journal_alarms_2.groupby('Time')['Unit'].agg('count').reset_index().rename(columns={'Unit': 'JournalAlarmCount'})\n",
    "low_alarms_grouped_2 = low_alarms_2.groupby('Time')['Unit'].agg('count').reset_index().rename(columns={'Unit': 'LowAlarmCount'})\n",
    "high_alarms_grouped_2 = high_alarms_2.groupby('Time')['Unit'].agg('count').reset_index().rename(columns={'Unit': 'HighAlarmCount'})\n",
    "urgent_alarms_grouped_2 = urgent_alarms_2.groupby('Time')['Unit'].agg('count').reset_index().rename(columns={'Unit': 'UrgentAlarmCount'})\n",
    "badpv_alarms_grouped_2 = badpv_alarms_2.groupby('Time')['Unit'].agg('count').reset_index().rename(columns={'Unit': 'BADPVCount'})\n",
    "alarms_grouped_2 = alarms_2.groupby('Time')['Unit'].agg('count').reset_index().rename(columns={'Unit': 'AllAlarmCount'})"
   ]
  },
  {
   "cell_type": "code",
   "execution_count": 517,
   "id": "4db76751",
   "metadata": {
    "scrolled": true
   },
   "outputs": [
    {
     "data": {
      "text/html": [
       "<div>\n",
       "<style scoped>\n",
       "    .dataframe tbody tr th:only-of-type {\n",
       "        vertical-align: middle;\n",
       "    }\n",
       "\n",
       "    .dataframe tbody tr th {\n",
       "        vertical-align: top;\n",
       "    }\n",
       "\n",
       "    .dataframe thead th {\n",
       "        text-align: right;\n",
       "    }\n",
       "</style>\n",
       "<table border=\"1\" class=\"dataframe\">\n",
       "  <thead>\n",
       "    <tr style=\"text-align: right;\">\n",
       "      <th></th>\n",
       "      <th>Time</th>\n",
       "      <th>JournalAlarmCount</th>\n",
       "      <th>LowAlarmCount</th>\n",
       "      <th>HighAlarmCount</th>\n",
       "      <th>UrgentAlarmCount</th>\n",
       "      <th>BADPVCount</th>\n",
       "      <th>AllAlarmCount</th>\n",
       "    </tr>\n",
       "  </thead>\n",
       "  <tbody>\n",
       "    <tr>\n",
       "      <th>7231</th>\n",
       "      <td>2023-06-26 01:00:00</td>\n",
       "      <td>63</td>\n",
       "      <td>0.0</td>\n",
       "      <td>0.0</td>\n",
       "      <td>1.0</td>\n",
       "      <td>0.0</td>\n",
       "      <td>64</td>\n",
       "    </tr>\n",
       "    <tr>\n",
       "      <th>6847</th>\n",
       "      <td>2023-06-18 01:00:00</td>\n",
       "      <td>140</td>\n",
       "      <td>0.0</td>\n",
       "      <td>1.0</td>\n",
       "      <td>0.0</td>\n",
       "      <td>0.0</td>\n",
       "      <td>144</td>\n",
       "    </tr>\n",
       "    <tr>\n",
       "      <th>6734</th>\n",
       "      <td>2023-06-15 16:30:00</td>\n",
       "      <td>143</td>\n",
       "      <td>5.0</td>\n",
       "      <td>7.0</td>\n",
       "      <td>1.0</td>\n",
       "      <td>0.0</td>\n",
       "      <td>157</td>\n",
       "    </tr>\n",
       "    <tr>\n",
       "      <th>5040</th>\n",
       "      <td>2023-05-11 09:30:00</td>\n",
       "      <td>182</td>\n",
       "      <td>0.0</td>\n",
       "      <td>10.0</td>\n",
       "      <td>26.0</td>\n",
       "      <td>0.0</td>\n",
       "      <td>218</td>\n",
       "    </tr>\n",
       "    <tr>\n",
       "      <th>8824</th>\n",
       "      <td>2023-07-29 05:30:00</td>\n",
       "      <td>105</td>\n",
       "      <td>0.0</td>\n",
       "      <td>1.0</td>\n",
       "      <td>0.0</td>\n",
       "      <td>0.0</td>\n",
       "      <td>106</td>\n",
       "    </tr>\n",
       "  </tbody>\n",
       "</table>\n",
       "</div>"
      ],
      "text/plain": [
       "                    Time  JournalAlarmCount  LowAlarmCount  HighAlarmCount  \\\n",
       "7231 2023-06-26 01:00:00                 63            0.0             0.0   \n",
       "6847 2023-06-18 01:00:00                140            0.0             1.0   \n",
       "6734 2023-06-15 16:30:00                143            5.0             7.0   \n",
       "5040 2023-05-11 09:30:00                182            0.0            10.0   \n",
       "8824 2023-07-29 05:30:00                105            0.0             1.0   \n",
       "\n",
       "      UrgentAlarmCount  BADPVCount  AllAlarmCount  \n",
       "7231               1.0         0.0             64  \n",
       "6847               0.0         0.0            144  \n",
       "6734               1.0         0.0            157  \n",
       "5040              26.0         0.0            218  \n",
       "8824               0.0         0.0            106  "
      ]
     },
     "execution_count": 517,
     "metadata": {},
     "output_type": "execute_result"
    }
   ],
   "source": [
    "# create final alarm df\n",
    "dummy_df_2 = journal_alarms_grouped_2.merge(low_alarms_grouped_2, how='left', on='Time')\n",
    "dummy_df_2 = dummy_df_2.merge(high_alarms_grouped_2, how='left', on='Time')\n",
    "dummy_df_2 = dummy_df_2.merge(urgent_alarms_grouped_2, how='left', on='Time')\n",
    "dummy_df_2 = dummy_df_2.merge(badpv_alarms_grouped_2, how='left', on='Time')\n",
    "dummy_df_2 = dummy_df_2.merge(alarms_grouped_2, how='left', on='Time')\n",
    "alarm_count_2 = dummy_df_2.fillna(0).reset_index(drop=True)\n",
    "alarm_count_2.sample(5)"
   ]
  },
  {
   "cell_type": "markdown",
   "id": "0ab8c17e",
   "metadata": {},
   "source": [
    "## Group changes and acks by half hour"
   ]
  },
  {
   "cell_type": "code",
   "execution_count": 518,
   "id": "e7ec8f1f",
   "metadata": {},
   "outputs": [
    {
     "data": {
      "text/html": [
       "<div>\n",
       "<style scoped>\n",
       "    .dataframe tbody tr th:only-of-type {\n",
       "        vertical-align: middle;\n",
       "    }\n",
       "\n",
       "    .dataframe tbody tr th {\n",
       "        vertical-align: top;\n",
       "    }\n",
       "\n",
       "    .dataframe thead th {\n",
       "        text-align: right;\n",
       "    }\n",
       "</style>\n",
       "<table border=\"1\" class=\"dataframe\">\n",
       "  <thead>\n",
       "    <tr style=\"text-align: right;\">\n",
       "      <th></th>\n",
       "      <th>Time</th>\n",
       "      <th>AcksCount</th>\n",
       "    </tr>\n",
       "  </thead>\n",
       "  <tbody>\n",
       "    <tr>\n",
       "      <th>0</th>\n",
       "      <td>2023-01-01 00:00:00</td>\n",
       "      <td>2</td>\n",
       "    </tr>\n",
       "    <tr>\n",
       "      <th>1</th>\n",
       "      <td>2023-01-01 01:00:00</td>\n",
       "      <td>2</td>\n",
       "    </tr>\n",
       "    <tr>\n",
       "      <th>2</th>\n",
       "      <td>2023-01-01 02:30:00</td>\n",
       "      <td>1</td>\n",
       "    </tr>\n",
       "    <tr>\n",
       "      <th>3</th>\n",
       "      <td>2023-01-01 03:00:00</td>\n",
       "      <td>8</td>\n",
       "    </tr>\n",
       "    <tr>\n",
       "      <th>4</th>\n",
       "      <td>2023-01-01 06:00:00</td>\n",
       "      <td>5</td>\n",
       "    </tr>\n",
       "  </tbody>\n",
       "</table>\n",
       "</div>"
      ],
      "text/plain": [
       "                 Time  AcksCount\n",
       "0 2023-01-01 00:00:00          2\n",
       "1 2023-01-01 01:00:00          2\n",
       "2 2023-01-01 02:30:00          1\n",
       "3 2023-01-01 03:00:00          8\n",
       "4 2023-01-01 06:00:00          5"
      ]
     },
     "execution_count": 518,
     "metadata": {},
     "output_type": "execute_result"
    }
   ],
   "source": [
    "acks_grouped_2 = acks_2.groupby('Time').size().reset_index().rename(columns={0: 'AcksCount'}).fillna(0)\n",
    "acks_grouped_2.head(5)"
   ]
  },
  {
   "cell_type": "code",
   "execution_count": 519,
   "id": "b70a2fff",
   "metadata": {
    "scrolled": true
   },
   "outputs": [
    {
     "data": {
      "text/html": [
       "<div>\n",
       "<style scoped>\n",
       "    .dataframe tbody tr th:only-of-type {\n",
       "        vertical-align: middle;\n",
       "    }\n",
       "\n",
       "    .dataframe tbody tr th {\n",
       "        vertical-align: top;\n",
       "    }\n",
       "\n",
       "    .dataframe thead th {\n",
       "        text-align: right;\n",
       "    }\n",
       "</style>\n",
       "<table border=\"1\" class=\"dataframe\">\n",
       "  <thead>\n",
       "    <tr style=\"text-align: right;\">\n",
       "      <th></th>\n",
       "      <th>Time</th>\n",
       "      <th>ChangesCount</th>\n",
       "    </tr>\n",
       "  </thead>\n",
       "  <tbody>\n",
       "    <tr>\n",
       "      <th>0</th>\n",
       "      <td>2023-01-01 00:00:00</td>\n",
       "      <td>41</td>\n",
       "    </tr>\n",
       "    <tr>\n",
       "      <th>1</th>\n",
       "      <td>2023-01-01 01:00:00</td>\n",
       "      <td>5</td>\n",
       "    </tr>\n",
       "    <tr>\n",
       "      <th>2</th>\n",
       "      <td>2023-01-01 01:30:00</td>\n",
       "      <td>1</td>\n",
       "    </tr>\n",
       "    <tr>\n",
       "      <th>3</th>\n",
       "      <td>2023-01-01 05:00:00</td>\n",
       "      <td>20</td>\n",
       "    </tr>\n",
       "    <tr>\n",
       "      <th>4</th>\n",
       "      <td>2023-01-01 07:00:00</td>\n",
       "      <td>1</td>\n",
       "    </tr>\n",
       "  </tbody>\n",
       "</table>\n",
       "</div>"
      ],
      "text/plain": [
       "                 Time  ChangesCount\n",
       "0 2023-01-01 00:00:00            41\n",
       "1 2023-01-01 01:00:00             5\n",
       "2 2023-01-01 01:30:00             1\n",
       "3 2023-01-01 05:00:00            20\n",
       "4 2023-01-01 07:00:00             1"
      ]
     },
     "execution_count": 519,
     "metadata": {},
     "output_type": "execute_result"
    }
   ],
   "source": [
    "changes_grouped_2 = changes_2.groupby('Time').size().reset_index().rename(columns={0: 'ChangesCount'}).fillna(0)\n",
    "changes_grouped_2.head(5)"
   ]
  },
  {
   "cell_type": "markdown",
   "id": "4334d931",
   "metadata": {},
   "source": [
    "## Create final df for GS"
   ]
  },
  {
   "cell_type": "code",
   "execution_count": 520,
   "id": "8747010f",
   "metadata": {
    "scrolled": true
   },
   "outputs": [
    {
     "data": {
      "text/html": [
       "<div>\n",
       "<style scoped>\n",
       "    .dataframe tbody tr th:only-of-type {\n",
       "        vertical-align: middle;\n",
       "    }\n",
       "\n",
       "    .dataframe tbody tr th {\n",
       "        vertical-align: top;\n",
       "    }\n",
       "\n",
       "    .dataframe thead th {\n",
       "        text-align: right;\n",
       "    }\n",
       "</style>\n",
       "<table border=\"1\" class=\"dataframe\">\n",
       "  <thead>\n",
       "    <tr style=\"text-align: right;\">\n",
       "      <th></th>\n",
       "      <th>Time</th>\n",
       "      <th>JournalAlarmCount</th>\n",
       "      <th>LowAlarmCount</th>\n",
       "      <th>HighAlarmCount</th>\n",
       "      <th>UrgentAlarmCount</th>\n",
       "      <th>BADPVCount</th>\n",
       "      <th>SystemAlarmCount</th>\n",
       "      <th>AllAlarmCount</th>\n",
       "      <th>AcksCount</th>\n",
       "      <th>ChangesCount</th>\n",
       "    </tr>\n",
       "  </thead>\n",
       "  <tbody>\n",
       "    <tr>\n",
       "      <th>7333</th>\n",
       "      <td>2023-01-01 00:00:00</td>\n",
       "      <td>0.0</td>\n",
       "      <td>0.0</td>\n",
       "      <td>0.0</td>\n",
       "      <td>0.0</td>\n",
       "      <td>0.0</td>\n",
       "      <td>0.0</td>\n",
       "      <td>0.0</td>\n",
       "      <td>2.0</td>\n",
       "      <td>41.0</td>\n",
       "    </tr>\n",
       "    <tr>\n",
       "      <th>7334</th>\n",
       "      <td>2023-01-01 01:00:00</td>\n",
       "      <td>0.0</td>\n",
       "      <td>0.0</td>\n",
       "      <td>0.0</td>\n",
       "      <td>0.0</td>\n",
       "      <td>0.0</td>\n",
       "      <td>0.0</td>\n",
       "      <td>0.0</td>\n",
       "      <td>2.0</td>\n",
       "      <td>5.0</td>\n",
       "    </tr>\n",
       "    <tr>\n",
       "      <th>9666</th>\n",
       "      <td>2023-01-01 01:30:00</td>\n",
       "      <td>0.0</td>\n",
       "      <td>0.0</td>\n",
       "      <td>0.0</td>\n",
       "      <td>0.0</td>\n",
       "      <td>0.0</td>\n",
       "      <td>0.0</td>\n",
       "      <td>0.0</td>\n",
       "      <td>0.0</td>\n",
       "      <td>1.0</td>\n",
       "    </tr>\n",
       "    <tr>\n",
       "      <th>0</th>\n",
       "      <td>2023-01-01 02:30:00</td>\n",
       "      <td>11.0</td>\n",
       "      <td>0.0</td>\n",
       "      <td>0.0</td>\n",
       "      <td>0.0</td>\n",
       "      <td>0.0</td>\n",
       "      <td>0.0</td>\n",
       "      <td>11.0</td>\n",
       "      <td>1.0</td>\n",
       "      <td>0.0</td>\n",
       "    </tr>\n",
       "    <tr>\n",
       "      <th>1</th>\n",
       "      <td>2023-01-01 03:00:00</td>\n",
       "      <td>2.0</td>\n",
       "      <td>0.0</td>\n",
       "      <td>0.0</td>\n",
       "      <td>0.0</td>\n",
       "      <td>0.0</td>\n",
       "      <td>0.0</td>\n",
       "      <td>2.0</td>\n",
       "      <td>8.0</td>\n",
       "      <td>0.0</td>\n",
       "    </tr>\n",
       "  </tbody>\n",
       "</table>\n",
       "</div>"
      ],
      "text/plain": [
       "                    Time  JournalAlarmCount  LowAlarmCount  HighAlarmCount  \\\n",
       "7333 2023-01-01 00:00:00                0.0            0.0             0.0   \n",
       "7334 2023-01-01 01:00:00                0.0            0.0             0.0   \n",
       "9666 2023-01-01 01:30:00                0.0            0.0             0.0   \n",
       "0    2023-01-01 02:30:00               11.0            0.0             0.0   \n",
       "1    2023-01-01 03:00:00                2.0            0.0             0.0   \n",
       "\n",
       "      UrgentAlarmCount  BADPVCount  SystemAlarmCount  AllAlarmCount  \\\n",
       "7333               0.0         0.0               0.0            0.0   \n",
       "7334               0.0         0.0               0.0            0.0   \n",
       "9666               0.0         0.0               0.0            0.0   \n",
       "0                  0.0         0.0               0.0           11.0   \n",
       "1                  0.0         0.0               0.0            2.0   \n",
       "\n",
       "      AcksCount  ChangesCount  \n",
       "7333        2.0          41.0  \n",
       "7334        2.0           5.0  \n",
       "9666        0.0           1.0  \n",
       "0           1.0           0.0  \n",
       "1           8.0           0.0  "
      ]
     },
     "execution_count": 520,
     "metadata": {},
     "output_type": "execute_result"
    }
   ],
   "source": [
    "merged_acks_changes_2 = acks_grouped_2.merge(changes_grouped_2, how='outer', on='Time').reset_index(drop=True).fillna(0)\n",
    "final_df_2 = alarm_count_1.merge(merged_acks_changes_2, how='outer', on='Time').fillna(0).sort_values(by='Time')\n",
    "final_df_2.head()"
   ]
  },
  {
   "cell_type": "code",
   "execution_count": 521,
   "id": "9599ea9f",
   "metadata": {},
   "outputs": [
    {
     "name": "stdout",
     "output_type": "stream",
     "text": [
      "(12404, 20)\n"
     ]
    },
    {
     "data": {
      "text/html": [
       "<div>\n",
       "<style scoped>\n",
       "    .dataframe tbody tr th:only-of-type {\n",
       "        vertical-align: middle;\n",
       "    }\n",
       "\n",
       "    .dataframe tbody tr th {\n",
       "        vertical-align: top;\n",
       "    }\n",
       "\n",
       "    .dataframe thead th {\n",
       "        text-align: right;\n",
       "    }\n",
       "</style>\n",
       "<table border=\"1\" class=\"dataframe\">\n",
       "  <thead>\n",
       "    <tr style=\"text-align: right;\">\n",
       "      <th></th>\n",
       "      <th>Time</th>\n",
       "      <th>JournalAlarmCount_1</th>\n",
       "      <th>LowAlarmCount_1</th>\n",
       "      <th>HighAlarmCount_1</th>\n",
       "      <th>UrgentAlarmCount_1</th>\n",
       "      <th>BADPVCount_1</th>\n",
       "      <th>SystemAlarmCount_1</th>\n",
       "      <th>AllAlarmCount_1</th>\n",
       "      <th>AcksCount_1</th>\n",
       "      <th>ChangesCount_1</th>\n",
       "      <th>AfterhhLoading</th>\n",
       "      <th>JournalAlarmCount_GS</th>\n",
       "      <th>LowAlarmCount_GS</th>\n",
       "      <th>HighAlarmCount_GS</th>\n",
       "      <th>UrgentAlarmCount_GS</th>\n",
       "      <th>BADPVCount_GS</th>\n",
       "      <th>SystemAlarmCount_GS</th>\n",
       "      <th>AllAlarmCount_GS</th>\n",
       "      <th>AcksCount_GS</th>\n",
       "      <th>ChangesCount_GS</th>\n",
       "    </tr>\n",
       "  </thead>\n",
       "  <tbody>\n",
       "    <tr>\n",
       "      <th>0</th>\n",
       "      <td>2023-01-01 03:00:00</td>\n",
       "      <td>2.0</td>\n",
       "      <td>0.0</td>\n",
       "      <td>0.0</td>\n",
       "      <td>0.0</td>\n",
       "      <td>0.0</td>\n",
       "      <td>0.0</td>\n",
       "      <td>2.0</td>\n",
       "      <td>0.0</td>\n",
       "      <td>0.0</td>\n",
       "      <td>5.0</td>\n",
       "      <td>2.0</td>\n",
       "      <td>0.0</td>\n",
       "      <td>0.0</td>\n",
       "      <td>0.0</td>\n",
       "      <td>0.0</td>\n",
       "      <td>0.0</td>\n",
       "      <td>2.0</td>\n",
       "      <td>8.0</td>\n",
       "      <td>0.0</td>\n",
       "    </tr>\n",
       "    <tr>\n",
       "      <th>1</th>\n",
       "      <td>2023-01-01 03:30:00</td>\n",
       "      <td>0.0</td>\n",
       "      <td>0.0</td>\n",
       "      <td>0.0</td>\n",
       "      <td>0.0</td>\n",
       "      <td>0.0</td>\n",
       "      <td>0.0</td>\n",
       "      <td>0.0</td>\n",
       "      <td>0.0</td>\n",
       "      <td>5.0</td>\n",
       "      <td>24.0</td>\n",
       "      <td>0.0</td>\n",
       "      <td>0.0</td>\n",
       "      <td>0.0</td>\n",
       "      <td>0.0</td>\n",
       "      <td>0.0</td>\n",
       "      <td>0.0</td>\n",
       "      <td>0.0</td>\n",
       "      <td>0.0</td>\n",
       "      <td>0.0</td>\n",
       "    </tr>\n",
       "    <tr>\n",
       "      <th>2</th>\n",
       "      <td>2023-01-01 04:00:00</td>\n",
       "      <td>0.0</td>\n",
       "      <td>0.0</td>\n",
       "      <td>0.0</td>\n",
       "      <td>0.0</td>\n",
       "      <td>0.0</td>\n",
       "      <td>0.0</td>\n",
       "      <td>0.0</td>\n",
       "      <td>10.0</td>\n",
       "      <td>14.0</td>\n",
       "      <td>3.0</td>\n",
       "      <td>0.0</td>\n",
       "      <td>0.0</td>\n",
       "      <td>0.0</td>\n",
       "      <td>0.0</td>\n",
       "      <td>0.0</td>\n",
       "      <td>0.0</td>\n",
       "      <td>0.0</td>\n",
       "      <td>0.0</td>\n",
       "      <td>0.0</td>\n",
       "    </tr>\n",
       "    <tr>\n",
       "      <th>3</th>\n",
       "      <td>2023-01-01 04:30:00</td>\n",
       "      <td>0.0</td>\n",
       "      <td>0.0</td>\n",
       "      <td>0.0</td>\n",
       "      <td>0.0</td>\n",
       "      <td>0.0</td>\n",
       "      <td>0.0</td>\n",
       "      <td>0.0</td>\n",
       "      <td>2.0</td>\n",
       "      <td>1.0</td>\n",
       "      <td>77.0</td>\n",
       "      <td>0.0</td>\n",
       "      <td>0.0</td>\n",
       "      <td>0.0</td>\n",
       "      <td>0.0</td>\n",
       "      <td>0.0</td>\n",
       "      <td>0.0</td>\n",
       "      <td>0.0</td>\n",
       "      <td>0.0</td>\n",
       "      <td>0.0</td>\n",
       "    </tr>\n",
       "    <tr>\n",
       "      <th>4</th>\n",
       "      <td>2023-01-01 05:00:00</td>\n",
       "      <td>0.0</td>\n",
       "      <td>0.0</td>\n",
       "      <td>0.0</td>\n",
       "      <td>0.0</td>\n",
       "      <td>0.0</td>\n",
       "      <td>0.0</td>\n",
       "      <td>0.0</td>\n",
       "      <td>3.0</td>\n",
       "      <td>74.0</td>\n",
       "      <td>33.0</td>\n",
       "      <td>0.0</td>\n",
       "      <td>0.0</td>\n",
       "      <td>0.0</td>\n",
       "      <td>0.0</td>\n",
       "      <td>0.0</td>\n",
       "      <td>0.0</td>\n",
       "      <td>0.0</td>\n",
       "      <td>0.0</td>\n",
       "      <td>20.0</td>\n",
       "    </tr>\n",
       "  </tbody>\n",
       "</table>\n",
       "</div>"
      ],
      "text/plain": [
       "                 Time  JournalAlarmCount_1  LowAlarmCount_1  HighAlarmCount_1  \\\n",
       "0 2023-01-01 03:00:00                  2.0              0.0               0.0   \n",
       "1 2023-01-01 03:30:00                  0.0              0.0               0.0   \n",
       "2 2023-01-01 04:00:00                  0.0              0.0               0.0   \n",
       "3 2023-01-01 04:30:00                  0.0              0.0               0.0   \n",
       "4 2023-01-01 05:00:00                  0.0              0.0               0.0   \n",
       "\n",
       "   UrgentAlarmCount_1  BADPVCount_1  SystemAlarmCount_1  AllAlarmCount_1  \\\n",
       "0                 0.0           0.0                 0.0              2.0   \n",
       "1                 0.0           0.0                 0.0              0.0   \n",
       "2                 0.0           0.0                 0.0              0.0   \n",
       "3                 0.0           0.0                 0.0              0.0   \n",
       "4                 0.0           0.0                 0.0              0.0   \n",
       "\n",
       "   AcksCount_1  ChangesCount_1  AfterhhLoading  JournalAlarmCount_GS  \\\n",
       "0          0.0             0.0             5.0                   2.0   \n",
       "1          0.0             5.0            24.0                   0.0   \n",
       "2         10.0            14.0             3.0                   0.0   \n",
       "3          2.0             1.0            77.0                   0.0   \n",
       "4          3.0            74.0            33.0                   0.0   \n",
       "\n",
       "   LowAlarmCount_GS  HighAlarmCount_GS  UrgentAlarmCount_GS  BADPVCount_GS  \\\n",
       "0               0.0                0.0                  0.0            0.0   \n",
       "1               0.0                0.0                  0.0            0.0   \n",
       "2               0.0                0.0                  0.0            0.0   \n",
       "3               0.0                0.0                  0.0            0.0   \n",
       "4               0.0                0.0                  0.0            0.0   \n",
       "\n",
       "   SystemAlarmCount_GS  AllAlarmCount_GS  AcksCount_GS  ChangesCount_GS  \n",
       "0                  0.0               2.0           8.0              0.0  \n",
       "1                  0.0               0.0           0.0              0.0  \n",
       "2                  0.0               0.0           0.0              0.0  \n",
       "3                  0.0               0.0           0.0              0.0  \n",
       "4                  0.0               0.0           0.0             20.0  "
      ]
     },
     "execution_count": 521,
     "metadata": {},
     "output_type": "execute_result"
    }
   ],
   "source": [
    "merged_final_df = final_df_1.merge(final_df_2, how='left', on='Time', suffixes = ('_1', '_GS')).fillna(0).sort_values(by='Time')\n",
    "print(merged_final_df.shape)\n",
    "merged_final_df.head()"
   ]
  },
  {
   "cell_type": "markdown",
   "id": "f9871ae5",
   "metadata": {},
   "source": [
    "## Work with Unit3"
   ]
  },
  {
   "cell_type": "code",
   "execution_count": 420,
   "id": "98508b14",
   "metadata": {},
   "outputs": [
    {
     "name": "stdout",
     "output_type": "stream",
     "text": [
      "Actions count: 595301, Alarms count: 1174930\n"
     ]
    }
   ],
   "source": [
    "all_actions_2 = unit2_df[unit2_df['Actor'].notna()]\n",
    "alarms_2 = unit2_df[unit2_df['Actor'].isna() & unit2_df['Action'].isna()]\n",
    "print(f'Actions count: {all_actions_2.shape[0]}, Alarms count: {alarms_2.shape[0]}')"
   ]
  },
  {
   "cell_type": "markdown",
   "id": "e06c7ae2",
   "metadata": {},
   "source": [
    "### Divide action to acknowledges and actions (Changes)"
   ]
  },
  {
   "cell_type": "code",
   "execution_count": 421,
   "id": "1aad936c",
   "metadata": {},
   "outputs": [
    {
     "name": "stdout",
     "output_type": "stream",
     "text": [
      "Changes count: 342618, Acknowldeges count: 247227\n"
     ]
    },
    {
     "data": {
      "text/html": [
       "<div>\n",
       "<style scoped>\n",
       "    .dataframe tbody tr th:only-of-type {\n",
       "        vertical-align: middle;\n",
       "    }\n",
       "\n",
       "    .dataframe tbody tr th {\n",
       "        vertical-align: top;\n",
       "    }\n",
       "\n",
       "    .dataframe thead th {\n",
       "        text-align: right;\n",
       "    }\n",
       "</style>\n",
       "<table border=\"1\" class=\"dataframe\">\n",
       "  <thead>\n",
       "    <tr style=\"text-align: right;\">\n",
       "      <th></th>\n",
       "      <th>Time</th>\n",
       "      <th>Action</th>\n",
       "      <th>ConditionName</th>\n",
       "      <th>Priority</th>\n",
       "      <th>Actor</th>\n",
       "      <th>AreaName</th>\n",
       "      <th>Unit</th>\n",
       "    </tr>\n",
       "  </thead>\n",
       "  <tbody>\n",
       "    <tr>\n",
       "      <th>9965212</th>\n",
       "      <td>2023-07-20 11:00:00</td>\n",
       "      <td>None</td>\n",
       "      <td>CHANGE</td>\n",
       "      <td>96.0</td>\n",
       "      <td>Денис Шеин</td>\n",
       "      <td>243_2_DCS</td>\n",
       "      <td>Unit_2</td>\n",
       "    </tr>\n",
       "    <tr>\n",
       "      <th>12982887</th>\n",
       "      <td>2023-09-30 07:00:00</td>\n",
       "      <td>None</td>\n",
       "      <td>CHANGE</td>\n",
       "      <td>96.0</td>\n",
       "      <td>Чебыкин Пётр Сергеевич</td>\n",
       "      <td>353_1_DCS</td>\n",
       "      <td>Unit_2</td>\n",
       "    </tr>\n",
       "    <tr>\n",
       "      <th>8359745</th>\n",
       "      <td>2023-06-20 00:00:00</td>\n",
       "      <td>None</td>\n",
       "      <td>CHANGE</td>\n",
       "      <td>96.0</td>\n",
       "      <td>Соколов Константин Викторович</td>\n",
       "      <td>241_1_DCS</td>\n",
       "      <td>Unit_2</td>\n",
       "    </tr>\n",
       "    <tr>\n",
       "      <th>5585787</th>\n",
       "      <td>2023-05-01 04:00:00</td>\n",
       "      <td>None</td>\n",
       "      <td>CHANGE</td>\n",
       "      <td>96.0</td>\n",
       "      <td>Соколов Константин Викторович</td>\n",
       "      <td>GAS_241</td>\n",
       "      <td>Unit_2</td>\n",
       "    </tr>\n",
       "    <tr>\n",
       "      <th>1303298</th>\n",
       "      <td>2023-02-15 02:30:00</td>\n",
       "      <td>None</td>\n",
       "      <td>CHANGE</td>\n",
       "      <td>96.0</td>\n",
       "      <td>Чебыкин Пётр Сергеевич</td>\n",
       "      <td>247_1_DCS</td>\n",
       "      <td>Unit_2</td>\n",
       "    </tr>\n",
       "  </tbody>\n",
       "</table>\n",
       "</div>"
      ],
      "text/plain": [
       "                        Time Action ConditionName  Priority  \\\n",
       "9965212  2023-07-20 11:00:00   None        CHANGE      96.0   \n",
       "12982887 2023-09-30 07:00:00   None        CHANGE      96.0   \n",
       "8359745  2023-06-20 00:00:00   None        CHANGE      96.0   \n",
       "5585787  2023-05-01 04:00:00   None        CHANGE      96.0   \n",
       "1303298  2023-02-15 02:30:00   None        CHANGE      96.0   \n",
       "\n",
       "                                  Actor   AreaName    Unit  \n",
       "9965212                      Денис Шеин  243_2_DCS  Unit_2  \n",
       "12982887         Чебыкин Пётр Сергеевич  353_1_DCS  Unit_2  \n",
       "8359745   Соколов Константин Викторович  241_1_DCS  Unit_2  \n",
       "5585787   Соколов Константин Викторович    GAS_241  Unit_2  \n",
       "1303298          Чебыкин Пётр Сергеевич  247_1_DCS  Unit_2  "
      ]
     },
     "execution_count": 421,
     "metadata": {},
     "output_type": "execute_result"
    }
   ],
   "source": [
    "acks_2 = all_actions_2[all_actions_2['Action'].fillna('No Action').str.contains('ACK')]\n",
    "changes_2 = all_actions_2[all_actions_2['ConditionName'] == 'CHANGE']\n",
    "print(f'Changes count: {changes_2.shape[0]}, Acknowldeges count: {acks_2.shape[0]}')\n",
    "all_actions_2.sample(5)"
   ]
  },
  {
   "cell_type": "markdown",
   "id": "1e8c6b11",
   "metadata": {},
   "source": [
    "### Delete not needed columns for Alarms and divide alarms"
   ]
  },
  {
   "cell_type": "code",
   "execution_count": 422,
   "id": "f59441da",
   "metadata": {},
   "outputs": [],
   "source": [
    "alarms_2 = alarms_2.drop(['Actor','Action', 'AreaName'], axis=1)"
   ]
  },
  {
   "cell_type": "code",
   "execution_count": 423,
   "id": "797443ec",
   "metadata": {},
   "outputs": [
    {
     "data": {
      "text/html": [
       "<div>\n",
       "<style scoped>\n",
       "    .dataframe tbody tr th:only-of-type {\n",
       "        vertical-align: middle;\n",
       "    }\n",
       "\n",
       "    .dataframe tbody tr th {\n",
       "        vertical-align: top;\n",
       "    }\n",
       "\n",
       "    .dataframe thead th {\n",
       "        text-align: right;\n",
       "    }\n",
       "</style>\n",
       "<table border=\"1\" class=\"dataframe\">\n",
       "  <thead>\n",
       "    <tr style=\"text-align: right;\">\n",
       "      <th></th>\n",
       "      <th>Time</th>\n",
       "      <th>ConditionName</th>\n",
       "      <th>Priority</th>\n",
       "      <th>Unit</th>\n",
       "    </tr>\n",
       "  </thead>\n",
       "  <tbody>\n",
       "    <tr>\n",
       "      <th>8497517</th>\n",
       "      <td>2023-06-25 09:00:00</td>\n",
       "      <td>OFFNRM</td>\n",
       "      <td>0.0</td>\n",
       "      <td>Unit_2</td>\n",
       "    </tr>\n",
       "    <tr>\n",
       "      <th>10210960</th>\n",
       "      <td>2023-07-30 10:00:00</td>\n",
       "      <td>DISABL</td>\n",
       "      <td>0.0</td>\n",
       "      <td>Unit_2</td>\n",
       "    </tr>\n",
       "    <tr>\n",
       "      <th>6597907</th>\n",
       "      <td>2023-05-07 08:30:00</td>\n",
       "      <td>OFFNRM</td>\n",
       "      <td>0.0</td>\n",
       "      <td>Unit_2</td>\n",
       "    </tr>\n",
       "    <tr>\n",
       "      <th>12936513</th>\n",
       "      <td>2023-09-23 00:00:00</td>\n",
       "      <td>OFFNRM</td>\n",
       "      <td>0.0</td>\n",
       "      <td>Unit_2</td>\n",
       "    </tr>\n",
       "    <tr>\n",
       "      <th>5769648</th>\n",
       "      <td>2023-05-24 16:00:00</td>\n",
       "      <td>DISABL</td>\n",
       "      <td>0.0</td>\n",
       "      <td>Unit_2</td>\n",
       "    </tr>\n",
       "  </tbody>\n",
       "</table>\n",
       "</div>"
      ],
      "text/plain": [
       "                        Time ConditionName  Priority    Unit\n",
       "8497517  2023-06-25 09:00:00        OFFNRM       0.0  Unit_2\n",
       "10210960 2023-07-30 10:00:00        DISABL       0.0  Unit_2\n",
       "6597907  2023-05-07 08:30:00        OFFNRM       0.0  Unit_2\n",
       "12936513 2023-09-23 00:00:00        OFFNRM       0.0  Unit_2\n",
       "5769648  2023-05-24 16:00:00        DISABL       0.0  Unit_2"
      ]
     },
     "execution_count": 423,
     "metadata": {},
     "output_type": "execute_result"
    }
   ],
   "source": [
    "alarms_2.sample(5)"
   ]
  },
  {
   "cell_type": "markdown",
   "id": "e08bcaf7",
   "metadata": {},
   "source": [
    "### Divide alarms to priorities"
   ]
  },
  {
   "cell_type": "code",
   "execution_count": 424,
   "id": "47e932b2",
   "metadata": {
    "scrolled": true
   },
   "outputs": [
    {
     "data": {
      "text/plain": [
       "0.0      772950\n",
       "32.0     222084\n",
       "48.0     159575\n",
       "128.0     16095\n",
       "16.0       4137\n",
       "Name: Priority, dtype: int64"
      ]
     },
     "execution_count": 424,
     "metadata": {},
     "output_type": "execute_result"
    }
   ],
   "source": [
    "## check alarms by priorities\n",
    "alarms_2.Priority.value_counts()"
   ]
  },
  {
   "cell_type": "code",
   "execution_count": 425,
   "id": "62c7d1a3",
   "metadata": {},
   "outputs": [
    {
     "name": "stdout",
     "output_type": "stream",
     "text": [
      "Alarms count: 1174930,\n",
      "      Journal alarms count: 772950,\n",
      "      Low Priority alarms count: 4137,\n",
      "      High Priority alarms count: 222084,\n",
      "      Urgent Priority alarms count: 159575,\n",
      "      \n"
     ]
    }
   ],
   "source": [
    "# /** [Priority] 0 - JOURNAL, 15 - system, 16 - Low, 32 - HIGH, 48 - URGENT, 96 - OP **/\n",
    "## divide alarms to only with journal and alarms with low, high and urgent priorities and system alarms\n",
    "journal_alarms_2 = alarms_2[alarms_2['Priority'] == 0]\n",
    "low_alarms_2 = alarms_2[alarms_2['Priority'] == 16]\n",
    "high_alarms_2 = alarms_2[alarms_2['Priority'] == 32]\n",
    "urgent_alarms_2 = alarms_2[alarms_2['Priority'] == 48]\n",
    "print(f'Alarms count: {alarms_2.shape[0]},\\n\\\n",
    "      Journal alarms count: {journal_alarms_2.shape[0]},\\n\\\n",
    "      Low Priority alarms count: {low_alarms_2.shape[0]},\\n\\\n",
    "      High Priority alarms count: {high_alarms_2.shape[0]},\\n\\\n",
    "      Urgent Priority alarms count: {urgent_alarms_2.shape[0]},\\n\\\n",
    "      ')"
   ]
  },
  {
   "cell_type": "markdown",
   "id": "2c5eda8b",
   "metadata": {},
   "source": [
    "#### Extract BAD BP alarms"
   ]
  },
  {
   "cell_type": "code",
   "execution_count": 426,
   "id": "a6fff15b",
   "metadata": {},
   "outputs": [
    {
     "name": "stdout",
     "output_type": "stream",
     "text": [
      "BAD PV alarms count: 47199\n"
     ]
    }
   ],
   "source": [
    "badpv_alarms_2 = alarms_2[alarms_2['ConditionName'] == 'BAD PV']\n",
    "print(f'BAD PV alarms count: {badpv_alarms_2.shape[0]}')"
   ]
  },
  {
   "cell_type": "markdown",
   "id": "b239d40d",
   "metadata": {},
   "source": [
    "#### Check consistensy of dfs"
   ]
  },
  {
   "cell_type": "code",
   "execution_count": 427,
   "id": "8a0eeb7b",
   "metadata": {},
   "outputs": [
    {
     "data": {
      "text/html": [
       "<div>\n",
       "<style scoped>\n",
       "    .dataframe tbody tr th:only-of-type {\n",
       "        vertical-align: middle;\n",
       "    }\n",
       "\n",
       "    .dataframe tbody tr th {\n",
       "        vertical-align: top;\n",
       "    }\n",
       "\n",
       "    .dataframe thead th {\n",
       "        text-align: right;\n",
       "    }\n",
       "</style>\n",
       "<table border=\"1\" class=\"dataframe\">\n",
       "  <thead>\n",
       "    <tr style=\"text-align: right;\">\n",
       "      <th></th>\n",
       "      <th>Time</th>\n",
       "      <th>Action</th>\n",
       "      <th>ConditionName</th>\n",
       "      <th>Priority</th>\n",
       "      <th>Actor</th>\n",
       "      <th>AreaName</th>\n",
       "      <th>Unit</th>\n",
       "    </tr>\n",
       "  </thead>\n",
       "  <tbody>\n",
       "    <tr>\n",
       "      <th>322706</th>\n",
       "      <td>2023-01-17 16:30:00</td>\n",
       "      <td>None</td>\n",
       "      <td>REPLICATION</td>\n",
       "      <td>16.0</td>\n",
       "      <td>None</td>\n",
       "      <td>$SRV430SRV0001</td>\n",
       "      <td>NaN</td>\n",
       "    </tr>\n",
       "    <tr>\n",
       "      <th>6147569</th>\n",
       "      <td>2023-05-30 18:00:00</td>\n",
       "      <td>None</td>\n",
       "      <td>COMMS</td>\n",
       "      <td>32.0</td>\n",
       "      <td>None</td>\n",
       "      <td>410</td>\n",
       "      <td>Unit_3</td>\n",
       "    </tr>\n",
       "    <tr>\n",
       "      <th>4749465</th>\n",
       "      <td>2023-04-25 21:00:00</td>\n",
       "      <td>None</td>\n",
       "      <td>REPLICATION</td>\n",
       "      <td>16.0</td>\n",
       "      <td>None</td>\n",
       "      <td>$SRV430SRV0002</td>\n",
       "      <td>NaN</td>\n",
       "    </tr>\n",
       "    <tr>\n",
       "      <th>3460569</th>\n",
       "      <td>2023-03-11 11:30:00</td>\n",
       "      <td>None</td>\n",
       "      <td>COMMS</td>\n",
       "      <td>32.0</td>\n",
       "      <td>None</td>\n",
       "      <td>610</td>\n",
       "      <td>GS</td>\n",
       "    </tr>\n",
       "    <tr>\n",
       "      <th>4475558</th>\n",
       "      <td>2023-04-21 22:30:00</td>\n",
       "      <td>None</td>\n",
       "      <td>REPLICATION</td>\n",
       "      <td>16.0</td>\n",
       "      <td>None</td>\n",
       "      <td>$SRV430SRV0002</td>\n",
       "      <td>NaN</td>\n",
       "    </tr>\n",
       "  </tbody>\n",
       "</table>\n",
       "</div>"
      ],
      "text/plain": [
       "                       Time Action ConditionName  Priority Actor  \\\n",
       "322706  2023-01-17 16:30:00   None   REPLICATION      16.0  None   \n",
       "6147569 2023-05-30 18:00:00   None         COMMS      32.0  None   \n",
       "4749465 2023-04-25 21:00:00   None   REPLICATION      16.0  None   \n",
       "3460569 2023-03-11 11:30:00   None         COMMS      32.0  None   \n",
       "4475558 2023-04-21 22:30:00   None   REPLICATION      16.0  None   \n",
       "\n",
       "               AreaName    Unit  \n",
       "322706   $SRV430SRV0001     NaN  \n",
       "6147569             410  Unit_3  \n",
       "4749465  $SRV430SRV0002     NaN  \n",
       "3460569             610      GS  \n",
       "4475558  $SRV430SRV0002     NaN  "
      ]
     },
     "execution_count": 427,
     "metadata": {},
     "output_type": "execute_result"
    }
   ],
   "source": [
    "system_alarms.sample(5)"
   ]
  },
  {
   "cell_type": "code",
   "execution_count": 428,
   "id": "da1fe83e",
   "metadata": {},
   "outputs": [
    {
     "data": {
      "text/html": [
       "<div>\n",
       "<style scoped>\n",
       "    .dataframe tbody tr th:only-of-type {\n",
       "        vertical-align: middle;\n",
       "    }\n",
       "\n",
       "    .dataframe tbody tr th {\n",
       "        vertical-align: top;\n",
       "    }\n",
       "\n",
       "    .dataframe thead th {\n",
       "        text-align: right;\n",
       "    }\n",
       "</style>\n",
       "<table border=\"1\" class=\"dataframe\">\n",
       "  <thead>\n",
       "    <tr style=\"text-align: right;\">\n",
       "      <th></th>\n",
       "      <th>Time</th>\n",
       "      <th>ConditionName</th>\n",
       "      <th>Priority</th>\n",
       "      <th>Unit</th>\n",
       "    </tr>\n",
       "  </thead>\n",
       "  <tbody>\n",
       "    <tr>\n",
       "      <th>273103</th>\n",
       "      <td>2023-01-23 19:00:00</td>\n",
       "      <td>DISABL</td>\n",
       "      <td>0.0</td>\n",
       "      <td>Unit_2</td>\n",
       "    </tr>\n",
       "    <tr>\n",
       "      <th>11805670</th>\n",
       "      <td>2023-08-11 04:00:00</td>\n",
       "      <td>OFFNRM</td>\n",
       "      <td>0.0</td>\n",
       "      <td>Unit_2</td>\n",
       "    </tr>\n",
       "    <tr>\n",
       "      <th>11793411</th>\n",
       "      <td>2023-08-02 18:00:00</td>\n",
       "      <td>OVRDI0</td>\n",
       "      <td>0.0</td>\n",
       "      <td>Unit_2</td>\n",
       "    </tr>\n",
       "    <tr>\n",
       "      <th>369777</th>\n",
       "      <td>2023-01-22 14:00:00</td>\n",
       "      <td>OVRDI0</td>\n",
       "      <td>0.0</td>\n",
       "      <td>Unit_2</td>\n",
       "    </tr>\n",
       "    <tr>\n",
       "      <th>8347840</th>\n",
       "      <td>2023-06-27 22:30:00</td>\n",
       "      <td>OVRDI0</td>\n",
       "      <td>0.0</td>\n",
       "      <td>Unit_2</td>\n",
       "    </tr>\n",
       "  </tbody>\n",
       "</table>\n",
       "</div>"
      ],
      "text/plain": [
       "                        Time ConditionName  Priority    Unit\n",
       "273103   2023-01-23 19:00:00        DISABL       0.0  Unit_2\n",
       "11805670 2023-08-11 04:00:00        OFFNRM       0.0  Unit_2\n",
       "11793411 2023-08-02 18:00:00        OVRDI0       0.0  Unit_2\n",
       "369777   2023-01-22 14:00:00        OVRDI0       0.0  Unit_2\n",
       "8347840  2023-06-27 22:30:00        OVRDI0       0.0  Unit_2"
      ]
     },
     "execution_count": 428,
     "metadata": {},
     "output_type": "execute_result"
    }
   ],
   "source": [
    "journal_alarms_2.sample(5)"
   ]
  },
  {
   "cell_type": "code",
   "execution_count": 429,
   "id": "a6d53555",
   "metadata": {
    "scrolled": true
   },
   "outputs": [
    {
     "data": {
      "text/html": [
       "<div>\n",
       "<style scoped>\n",
       "    .dataframe tbody tr th:only-of-type {\n",
       "        vertical-align: middle;\n",
       "    }\n",
       "\n",
       "    .dataframe tbody tr th {\n",
       "        vertical-align: top;\n",
       "    }\n",
       "\n",
       "    .dataframe thead th {\n",
       "        text-align: right;\n",
       "    }\n",
       "</style>\n",
       "<table border=\"1\" class=\"dataframe\">\n",
       "  <thead>\n",
       "    <tr style=\"text-align: right;\">\n",
       "      <th></th>\n",
       "      <th>Time</th>\n",
       "      <th>ConditionName</th>\n",
       "      <th>Priority</th>\n",
       "      <th>Unit</th>\n",
       "    </tr>\n",
       "  </thead>\n",
       "  <tbody>\n",
       "    <tr>\n",
       "      <th>6649019</th>\n",
       "      <td>2023-05-31 04:00:00</td>\n",
       "      <td>ALARM</td>\n",
       "      <td>16.0</td>\n",
       "      <td>Unit_2</td>\n",
       "    </tr>\n",
       "    <tr>\n",
       "      <th>4329505</th>\n",
       "      <td>2023-04-01 04:30:00</td>\n",
       "      <td>ALARM</td>\n",
       "      <td>16.0</td>\n",
       "      <td>Unit_2</td>\n",
       "    </tr>\n",
       "    <tr>\n",
       "      <th>6106403</th>\n",
       "      <td>2023-05-23 07:00:00</td>\n",
       "      <td>ALARM</td>\n",
       "      <td>16.0</td>\n",
       "      <td>Unit_2</td>\n",
       "    </tr>\n",
       "    <tr>\n",
       "      <th>6034318</th>\n",
       "      <td>2023-05-23 14:30:00</td>\n",
       "      <td>ALARM</td>\n",
       "      <td>16.0</td>\n",
       "      <td>Unit_2</td>\n",
       "    </tr>\n",
       "    <tr>\n",
       "      <th>6005174</th>\n",
       "      <td>2023-05-24 15:00:00</td>\n",
       "      <td>ALARM</td>\n",
       "      <td>16.0</td>\n",
       "      <td>Unit_2</td>\n",
       "    </tr>\n",
       "  </tbody>\n",
       "</table>\n",
       "</div>"
      ],
      "text/plain": [
       "                       Time ConditionName  Priority    Unit\n",
       "6649019 2023-05-31 04:00:00         ALARM      16.0  Unit_2\n",
       "4329505 2023-04-01 04:30:00         ALARM      16.0  Unit_2\n",
       "6106403 2023-05-23 07:00:00         ALARM      16.0  Unit_2\n",
       "6034318 2023-05-23 14:30:00         ALARM      16.0  Unit_2\n",
       "6005174 2023-05-24 15:00:00         ALARM      16.0  Unit_2"
      ]
     },
     "execution_count": 429,
     "metadata": {},
     "output_type": "execute_result"
    }
   ],
   "source": [
    "low_alarms_2.sample(5)"
   ]
  },
  {
   "cell_type": "code",
   "execution_count": 430,
   "id": "bed02850",
   "metadata": {
    "scrolled": true
   },
   "outputs": [
    {
     "data": {
      "text/html": [
       "<div>\n",
       "<style scoped>\n",
       "    .dataframe tbody tr th:only-of-type {\n",
       "        vertical-align: middle;\n",
       "    }\n",
       "\n",
       "    .dataframe tbody tr th {\n",
       "        vertical-align: top;\n",
       "    }\n",
       "\n",
       "    .dataframe thead th {\n",
       "        text-align: right;\n",
       "    }\n",
       "</style>\n",
       "<table border=\"1\" class=\"dataframe\">\n",
       "  <thead>\n",
       "    <tr style=\"text-align: right;\">\n",
       "      <th></th>\n",
       "      <th>Time</th>\n",
       "      <th>ConditionName</th>\n",
       "      <th>Priority</th>\n",
       "      <th>Unit</th>\n",
       "    </tr>\n",
       "  </thead>\n",
       "  <tbody>\n",
       "    <tr>\n",
       "      <th>451666</th>\n",
       "      <td>2023-01-13 10:00:00</td>\n",
       "      <td>BAD PV</td>\n",
       "      <td>32.0</td>\n",
       "      <td>Unit_2</td>\n",
       "    </tr>\n",
       "    <tr>\n",
       "      <th>8593861</th>\n",
       "      <td>2023-06-10 06:30:00</td>\n",
       "      <td>BAD PV</td>\n",
       "      <td>32.0</td>\n",
       "      <td>Unit_2</td>\n",
       "    </tr>\n",
       "    <tr>\n",
       "      <th>8569774</th>\n",
       "      <td>2023-06-11 17:00:00</td>\n",
       "      <td>PVHIGH</td>\n",
       "      <td>32.0</td>\n",
       "      <td>Unit_2</td>\n",
       "    </tr>\n",
       "    <tr>\n",
       "      <th>5764337</th>\n",
       "      <td>2023-05-24 11:00:00</td>\n",
       "      <td>PVHIGH</td>\n",
       "      <td>32.0</td>\n",
       "      <td>Unit_2</td>\n",
       "    </tr>\n",
       "    <tr>\n",
       "      <th>13142774</th>\n",
       "      <td>2023-09-21 23:30:00</td>\n",
       "      <td>PVHI</td>\n",
       "      <td>32.0</td>\n",
       "      <td>Unit_2</td>\n",
       "    </tr>\n",
       "  </tbody>\n",
       "</table>\n",
       "</div>"
      ],
      "text/plain": [
       "                        Time ConditionName  Priority    Unit\n",
       "451666   2023-01-13 10:00:00        BAD PV      32.0  Unit_2\n",
       "8593861  2023-06-10 06:30:00        BAD PV      32.0  Unit_2\n",
       "8569774  2023-06-11 17:00:00        PVHIGH      32.0  Unit_2\n",
       "5764337  2023-05-24 11:00:00        PVHIGH      32.0  Unit_2\n",
       "13142774 2023-09-21 23:30:00          PVHI      32.0  Unit_2"
      ]
     },
     "execution_count": 430,
     "metadata": {},
     "output_type": "execute_result"
    }
   ],
   "source": [
    "high_alarms_2.sample(5)"
   ]
  },
  {
   "cell_type": "code",
   "execution_count": 431,
   "id": "82789a6c",
   "metadata": {
    "scrolled": true
   },
   "outputs": [
    {
     "data": {
      "text/html": [
       "<div>\n",
       "<style scoped>\n",
       "    .dataframe tbody tr th:only-of-type {\n",
       "        vertical-align: middle;\n",
       "    }\n",
       "\n",
       "    .dataframe tbody tr th {\n",
       "        vertical-align: top;\n",
       "    }\n",
       "\n",
       "    .dataframe thead th {\n",
       "        text-align: right;\n",
       "    }\n",
       "</style>\n",
       "<table border=\"1\" class=\"dataframe\">\n",
       "  <thead>\n",
       "    <tr style=\"text-align: right;\">\n",
       "      <th></th>\n",
       "      <th>Time</th>\n",
       "      <th>ConditionName</th>\n",
       "      <th>Priority</th>\n",
       "      <th>Unit</th>\n",
       "    </tr>\n",
       "  </thead>\n",
       "  <tbody>\n",
       "    <tr>\n",
       "      <th>5822877</th>\n",
       "      <td>2023-05-27 04:30:00</td>\n",
       "      <td>ALARM</td>\n",
       "      <td>48.0</td>\n",
       "      <td>Unit_2</td>\n",
       "    </tr>\n",
       "    <tr>\n",
       "      <th>5755161</th>\n",
       "      <td>2023-05-23 11:00:00</td>\n",
       "      <td>ALARM</td>\n",
       "      <td>48.0</td>\n",
       "      <td>Unit_2</td>\n",
       "    </tr>\n",
       "    <tr>\n",
       "      <th>5914628</th>\n",
       "      <td>2023-05-21 10:00:00</td>\n",
       "      <td>ALARM</td>\n",
       "      <td>48.0</td>\n",
       "      <td>Unit_2</td>\n",
       "    </tr>\n",
       "    <tr>\n",
       "      <th>5736265</th>\n",
       "      <td>2023-05-21 12:30:00</td>\n",
       "      <td>ALARM</td>\n",
       "      <td>48.0</td>\n",
       "      <td>Unit_2</td>\n",
       "    </tr>\n",
       "    <tr>\n",
       "      <th>11646453</th>\n",
       "      <td>2023-08-28 19:30:00</td>\n",
       "      <td>ALARM</td>\n",
       "      <td>48.0</td>\n",
       "      <td>Unit_2</td>\n",
       "    </tr>\n",
       "  </tbody>\n",
       "</table>\n",
       "</div>"
      ],
      "text/plain": [
       "                        Time ConditionName  Priority    Unit\n",
       "5822877  2023-05-27 04:30:00         ALARM      48.0  Unit_2\n",
       "5755161  2023-05-23 11:00:00         ALARM      48.0  Unit_2\n",
       "5914628  2023-05-21 10:00:00         ALARM      48.0  Unit_2\n",
       "5736265  2023-05-21 12:30:00         ALARM      48.0  Unit_2\n",
       "11646453 2023-08-28 19:30:00         ALARM      48.0  Unit_2"
      ]
     },
     "execution_count": 431,
     "metadata": {},
     "output_type": "execute_result"
    }
   ],
   "source": [
    "urgent_alarms_2.sample(5)"
   ]
  },
  {
   "cell_type": "code",
   "execution_count": 432,
   "id": "88eeb30f",
   "metadata": {
    "scrolled": true
   },
   "outputs": [
    {
     "data": {
      "text/html": [
       "<div>\n",
       "<style scoped>\n",
       "    .dataframe tbody tr th:only-of-type {\n",
       "        vertical-align: middle;\n",
       "    }\n",
       "\n",
       "    .dataframe tbody tr th {\n",
       "        vertical-align: top;\n",
       "    }\n",
       "\n",
       "    .dataframe thead th {\n",
       "        text-align: right;\n",
       "    }\n",
       "</style>\n",
       "<table border=\"1\" class=\"dataframe\">\n",
       "  <thead>\n",
       "    <tr style=\"text-align: right;\">\n",
       "      <th></th>\n",
       "      <th>Time</th>\n",
       "      <th>ConditionName</th>\n",
       "      <th>Priority</th>\n",
       "      <th>Unit</th>\n",
       "    </tr>\n",
       "  </thead>\n",
       "  <tbody>\n",
       "    <tr>\n",
       "      <th>2757819</th>\n",
       "      <td>2023-03-02 17:30:00</td>\n",
       "      <td>BAD PV</td>\n",
       "      <td>32.0</td>\n",
       "      <td>Unit_2</td>\n",
       "    </tr>\n",
       "    <tr>\n",
       "      <th>10101925</th>\n",
       "      <td>2023-07-21 09:30:00</td>\n",
       "      <td>BAD PV</td>\n",
       "      <td>32.0</td>\n",
       "      <td>Unit_2</td>\n",
       "    </tr>\n",
       "    <tr>\n",
       "      <th>11716918</th>\n",
       "      <td>2023-08-16 03:00:00</td>\n",
       "      <td>BAD PV</td>\n",
       "      <td>32.0</td>\n",
       "      <td>Unit_2</td>\n",
       "    </tr>\n",
       "    <tr>\n",
       "      <th>8272150</th>\n",
       "      <td>2023-06-09 05:30:00</td>\n",
       "      <td>BAD PV</td>\n",
       "      <td>32.0</td>\n",
       "      <td>Unit_2</td>\n",
       "    </tr>\n",
       "    <tr>\n",
       "      <th>424588</th>\n",
       "      <td>2023-01-11 18:00:00</td>\n",
       "      <td>BAD PV</td>\n",
       "      <td>32.0</td>\n",
       "      <td>Unit_2</td>\n",
       "    </tr>\n",
       "  </tbody>\n",
       "</table>\n",
       "</div>"
      ],
      "text/plain": [
       "                        Time ConditionName  Priority    Unit\n",
       "2757819  2023-03-02 17:30:00        BAD PV      32.0  Unit_2\n",
       "10101925 2023-07-21 09:30:00        BAD PV      32.0  Unit_2\n",
       "11716918 2023-08-16 03:00:00        BAD PV      32.0  Unit_2\n",
       "8272150  2023-06-09 05:30:00        BAD PV      32.0  Unit_2\n",
       "424588   2023-01-11 18:00:00        BAD PV      32.0  Unit_2"
      ]
     },
     "execution_count": 432,
     "metadata": {},
     "output_type": "execute_result"
    }
   ],
   "source": [
    "badpv_alarms_2.sample(5)"
   ]
  },
  {
   "cell_type": "markdown",
   "id": "828839b0",
   "metadata": {},
   "source": [
    "### Groupby alarm dfs by halfhour"
   ]
  },
  {
   "cell_type": "code",
   "execution_count": 433,
   "id": "3cd4b1a0",
   "metadata": {},
   "outputs": [],
   "source": [
    "journal_alarms_grouped_2 = journal_alarms_2.groupby('Time')['Unit'].agg('count').reset_index().rename(columns={'Unit': 'JournalAlarmCount'})\n",
    "low_alarms_grouped_2 = low_alarms_2.groupby('Time')['Unit'].agg('count').reset_index().rename(columns={'Unit': 'LowAlarmCount'})\n",
    "high_alarms_grouped_2 = high_alarms_2.groupby('Time')['Unit'].agg('count').reset_index().rename(columns={'Unit': 'HighAlarmCount'})\n",
    "urgent_alarms_grouped_2 = urgent_alarms_2.groupby('Time')['Unit'].agg('count').reset_index().rename(columns={'Unit': 'UrgentAlarmCount'})\n",
    "badpv_alarms_grouped_2 = badpv_alarms_2.groupby('Time')['Unit'].agg('count').reset_index().rename(columns={'Unit': 'BADPVCount'})\n",
    "alarms_grouped_2 = alarms_2.groupby('Time')['Unit'].agg('count').reset_index().rename(columns={'Unit': 'AllAlarmCount'})"
   ]
  },
  {
   "cell_type": "code",
   "execution_count": 434,
   "id": "8117d578",
   "metadata": {
    "scrolled": true
   },
   "outputs": [
    {
     "data": {
      "text/html": [
       "<div>\n",
       "<style scoped>\n",
       "    .dataframe tbody tr th:only-of-type {\n",
       "        vertical-align: middle;\n",
       "    }\n",
       "\n",
       "    .dataframe tbody tr th {\n",
       "        vertical-align: top;\n",
       "    }\n",
       "\n",
       "    .dataframe thead th {\n",
       "        text-align: right;\n",
       "    }\n",
       "</style>\n",
       "<table border=\"1\" class=\"dataframe\">\n",
       "  <thead>\n",
       "    <tr style=\"text-align: right;\">\n",
       "      <th></th>\n",
       "      <th>Time</th>\n",
       "      <th>JournalAlarmCount</th>\n",
       "      <th>LowAlarmCount</th>\n",
       "      <th>HighAlarmCount</th>\n",
       "      <th>UrgentAlarmCount</th>\n",
       "      <th>BADPVCount</th>\n",
       "      <th>AllAlarmCount</th>\n",
       "    </tr>\n",
       "  </thead>\n",
       "  <tbody>\n",
       "    <tr>\n",
       "      <th>12464</th>\n",
       "      <td>2023-09-22 11:00:00</td>\n",
       "      <td>52</td>\n",
       "      <td>0.0</td>\n",
       "      <td>21.0</td>\n",
       "      <td>19.0</td>\n",
       "      <td>5.0</td>\n",
       "      <td>95</td>\n",
       "    </tr>\n",
       "    <tr>\n",
       "      <th>6646</th>\n",
       "      <td>2023-05-20 15:00:00</td>\n",
       "      <td>182</td>\n",
       "      <td>4.0</td>\n",
       "      <td>30.0</td>\n",
       "      <td>220.0</td>\n",
       "      <td>7.0</td>\n",
       "      <td>436</td>\n",
       "    </tr>\n",
       "    <tr>\n",
       "      <th>6318</th>\n",
       "      <td>2023-05-13 15:30:00</td>\n",
       "      <td>41</td>\n",
       "      <td>0.0</td>\n",
       "      <td>2.0</td>\n",
       "      <td>0.0</td>\n",
       "      <td>1.0</td>\n",
       "      <td>44</td>\n",
       "    </tr>\n",
       "    <tr>\n",
       "      <th>2819</th>\n",
       "      <td>2023-03-01 02:00:00</td>\n",
       "      <td>21</td>\n",
       "      <td>0.0</td>\n",
       "      <td>1.0</td>\n",
       "      <td>2.0</td>\n",
       "      <td>1.0</td>\n",
       "      <td>25</td>\n",
       "    </tr>\n",
       "    <tr>\n",
       "      <th>1159</th>\n",
       "      <td>2023-01-25 06:30:00</td>\n",
       "      <td>46</td>\n",
       "      <td>0.0</td>\n",
       "      <td>11.0</td>\n",
       "      <td>5.0</td>\n",
       "      <td>4.0</td>\n",
       "      <td>63</td>\n",
       "    </tr>\n",
       "  </tbody>\n",
       "</table>\n",
       "</div>"
      ],
      "text/plain": [
       "                     Time  JournalAlarmCount  LowAlarmCount  HighAlarmCount  \\\n",
       "12464 2023-09-22 11:00:00                 52            0.0            21.0   \n",
       "6646  2023-05-20 15:00:00                182            4.0            30.0   \n",
       "6318  2023-05-13 15:30:00                 41            0.0             2.0   \n",
       "2819  2023-03-01 02:00:00                 21            0.0             1.0   \n",
       "1159  2023-01-25 06:30:00                 46            0.0            11.0   \n",
       "\n",
       "       UrgentAlarmCount  BADPVCount  AllAlarmCount  \n",
       "12464              19.0         5.0             95  \n",
       "6646              220.0         7.0            436  \n",
       "6318                0.0         1.0             44  \n",
       "2819                2.0         1.0             25  \n",
       "1159                5.0         4.0             63  "
      ]
     },
     "execution_count": 434,
     "metadata": {},
     "output_type": "execute_result"
    }
   ],
   "source": [
    "# create final alarm df\n",
    "dummy_df_2 = journal_alarms_grouped_2.merge(low_alarms_grouped_2, how='left', on='Time')\n",
    "dummy_df_2 = dummy_df_2.merge(high_alarms_grouped_2, how='left', on='Time')\n",
    "dummy_df_2 = dummy_df_2.merge(urgent_alarms_grouped_2, how='left', on='Time')\n",
    "dummy_df_2 = dummy_df_2.merge(badpv_alarms_grouped_2, how='left', on='Time')\n",
    "dummy_df_2 = dummy_df_2.merge(alarms_grouped_2, how='left', on='Time')\n",
    "alarm_count_2 = dummy_df_2.fillna(0).reset_index(drop=True)\n",
    "alarm_count_2.sample(5)"
   ]
  },
  {
   "cell_type": "markdown",
   "id": "b97168cc",
   "metadata": {},
   "source": [
    "## Group changes and acks by half hour"
   ]
  },
  {
   "cell_type": "code",
   "execution_count": 435,
   "id": "d534526e",
   "metadata": {},
   "outputs": [
    {
     "data": {
      "text/html": [
       "<div>\n",
       "<style scoped>\n",
       "    .dataframe tbody tr th:only-of-type {\n",
       "        vertical-align: middle;\n",
       "    }\n",
       "\n",
       "    .dataframe tbody tr th {\n",
       "        vertical-align: top;\n",
       "    }\n",
       "\n",
       "    .dataframe thead th {\n",
       "        text-align: right;\n",
       "    }\n",
       "</style>\n",
       "<table border=\"1\" class=\"dataframe\">\n",
       "  <thead>\n",
       "    <tr style=\"text-align: right;\">\n",
       "      <th></th>\n",
       "      <th>Time</th>\n",
       "      <th>AcksCount</th>\n",
       "    </tr>\n",
       "  </thead>\n",
       "  <tbody>\n",
       "    <tr>\n",
       "      <th>0</th>\n",
       "      <td>2023-01-01 00:00:00</td>\n",
       "      <td>34</td>\n",
       "    </tr>\n",
       "    <tr>\n",
       "      <th>1</th>\n",
       "      <td>2023-01-01 00:30:00</td>\n",
       "      <td>6</td>\n",
       "    </tr>\n",
       "    <tr>\n",
       "      <th>2</th>\n",
       "      <td>2023-01-01 01:00:00</td>\n",
       "      <td>2</td>\n",
       "    </tr>\n",
       "    <tr>\n",
       "      <th>3</th>\n",
       "      <td>2023-01-01 01:30:00</td>\n",
       "      <td>7</td>\n",
       "    </tr>\n",
       "    <tr>\n",
       "      <th>4</th>\n",
       "      <td>2023-01-01 02:00:00</td>\n",
       "      <td>40</td>\n",
       "    </tr>\n",
       "  </tbody>\n",
       "</table>\n",
       "</div>"
      ],
      "text/plain": [
       "                 Time  AcksCount\n",
       "0 2023-01-01 00:00:00         34\n",
       "1 2023-01-01 00:30:00          6\n",
       "2 2023-01-01 01:00:00          2\n",
       "3 2023-01-01 01:30:00          7\n",
       "4 2023-01-01 02:00:00         40"
      ]
     },
     "execution_count": 435,
     "metadata": {},
     "output_type": "execute_result"
    }
   ],
   "source": [
    "acks_grouped_2 = acks_2.groupby('Time').size().reset_index().rename(columns={0: 'AcksCount'}).fillna(0)\n",
    "acks_grouped_2.head(5)"
   ]
  },
  {
   "cell_type": "code",
   "execution_count": 436,
   "id": "271a468f",
   "metadata": {
    "scrolled": true
   },
   "outputs": [
    {
     "data": {
      "text/html": [
       "<div>\n",
       "<style scoped>\n",
       "    .dataframe tbody tr th:only-of-type {\n",
       "        vertical-align: middle;\n",
       "    }\n",
       "\n",
       "    .dataframe tbody tr th {\n",
       "        vertical-align: top;\n",
       "    }\n",
       "\n",
       "    .dataframe thead th {\n",
       "        text-align: right;\n",
       "    }\n",
       "</style>\n",
       "<table border=\"1\" class=\"dataframe\">\n",
       "  <thead>\n",
       "    <tr style=\"text-align: right;\">\n",
       "      <th></th>\n",
       "      <th>Time</th>\n",
       "      <th>ChangesCount</th>\n",
       "    </tr>\n",
       "  </thead>\n",
       "  <tbody>\n",
       "    <tr>\n",
       "      <th>0</th>\n",
       "      <td>2023-01-01 00:00:00</td>\n",
       "      <td>14</td>\n",
       "    </tr>\n",
       "    <tr>\n",
       "      <th>1</th>\n",
       "      <td>2023-01-01 00:30:00</td>\n",
       "      <td>3</td>\n",
       "    </tr>\n",
       "    <tr>\n",
       "      <th>2</th>\n",
       "      <td>2023-01-01 01:00:00</td>\n",
       "      <td>24</td>\n",
       "    </tr>\n",
       "    <tr>\n",
       "      <th>3</th>\n",
       "      <td>2023-01-01 01:30:00</td>\n",
       "      <td>1</td>\n",
       "    </tr>\n",
       "    <tr>\n",
       "      <th>4</th>\n",
       "      <td>2023-01-01 02:00:00</td>\n",
       "      <td>6</td>\n",
       "    </tr>\n",
       "  </tbody>\n",
       "</table>\n",
       "</div>"
      ],
      "text/plain": [
       "                 Time  ChangesCount\n",
       "0 2023-01-01 00:00:00            14\n",
       "1 2023-01-01 00:30:00             3\n",
       "2 2023-01-01 01:00:00            24\n",
       "3 2023-01-01 01:30:00             1\n",
       "4 2023-01-01 02:00:00             6"
      ]
     },
     "execution_count": 436,
     "metadata": {},
     "output_type": "execute_result"
    }
   ],
   "source": [
    "changes_grouped_2 = changes_2.groupby('Time').size().reset_index().rename(columns={0: 'ChangesCount'}).fillna(0)\n",
    "changes_grouped_2.head(5)"
   ]
  },
  {
   "cell_type": "markdown",
   "id": "0081cf1e",
   "metadata": {},
   "source": [
    "## Create final df for Unit2"
   ]
  },
  {
   "cell_type": "code",
   "execution_count": 438,
   "id": "0024fe02",
   "metadata": {
    "scrolled": true
   },
   "outputs": [
    {
     "data": {
      "text/html": [
       "<div>\n",
       "<style scoped>\n",
       "    .dataframe tbody tr th:only-of-type {\n",
       "        vertical-align: middle;\n",
       "    }\n",
       "\n",
       "    .dataframe tbody tr th {\n",
       "        vertical-align: top;\n",
       "    }\n",
       "\n",
       "    .dataframe thead th {\n",
       "        text-align: right;\n",
       "    }\n",
       "</style>\n",
       "<table border=\"1\" class=\"dataframe\">\n",
       "  <thead>\n",
       "    <tr style=\"text-align: right;\">\n",
       "      <th></th>\n",
       "      <th>Time</th>\n",
       "      <th>JournalAlarmCount</th>\n",
       "      <th>LowAlarmCount</th>\n",
       "      <th>HighAlarmCount</th>\n",
       "      <th>UrgentAlarmCount</th>\n",
       "      <th>BADPVCount</th>\n",
       "      <th>SystemAlarmCount</th>\n",
       "      <th>AllAlarmCount</th>\n",
       "      <th>AcksCount</th>\n",
       "      <th>ChangesCount</th>\n",
       "    </tr>\n",
       "  </thead>\n",
       "  <tbody>\n",
       "    <tr>\n",
       "      <th>7333</th>\n",
       "      <td>2023-01-01 00:00:00</td>\n",
       "      <td>0.0</td>\n",
       "      <td>0.0</td>\n",
       "      <td>0.0</td>\n",
       "      <td>0.0</td>\n",
       "      <td>0.0</td>\n",
       "      <td>0.0</td>\n",
       "      <td>0.0</td>\n",
       "      <td>34.0</td>\n",
       "      <td>14.0</td>\n",
       "    </tr>\n",
       "    <tr>\n",
       "      <th>7334</th>\n",
       "      <td>2023-01-01 00:30:00</td>\n",
       "      <td>0.0</td>\n",
       "      <td>0.0</td>\n",
       "      <td>0.0</td>\n",
       "      <td>0.0</td>\n",
       "      <td>0.0</td>\n",
       "      <td>0.0</td>\n",
       "      <td>0.0</td>\n",
       "      <td>6.0</td>\n",
       "      <td>3.0</td>\n",
       "    </tr>\n",
       "    <tr>\n",
       "      <th>7335</th>\n",
       "      <td>2023-01-01 01:00:00</td>\n",
       "      <td>0.0</td>\n",
       "      <td>0.0</td>\n",
       "      <td>0.0</td>\n",
       "      <td>0.0</td>\n",
       "      <td>0.0</td>\n",
       "      <td>0.0</td>\n",
       "      <td>0.0</td>\n",
       "      <td>2.0</td>\n",
       "      <td>24.0</td>\n",
       "    </tr>\n",
       "    <tr>\n",
       "      <th>7336</th>\n",
       "      <td>2023-01-01 01:30:00</td>\n",
       "      <td>0.0</td>\n",
       "      <td>0.0</td>\n",
       "      <td>0.0</td>\n",
       "      <td>0.0</td>\n",
       "      <td>0.0</td>\n",
       "      <td>0.0</td>\n",
       "      <td>0.0</td>\n",
       "      <td>7.0</td>\n",
       "      <td>1.0</td>\n",
       "    </tr>\n",
       "    <tr>\n",
       "      <th>7337</th>\n",
       "      <td>2023-01-01 02:00:00</td>\n",
       "      <td>0.0</td>\n",
       "      <td>0.0</td>\n",
       "      <td>0.0</td>\n",
       "      <td>0.0</td>\n",
       "      <td>0.0</td>\n",
       "      <td>0.0</td>\n",
       "      <td>0.0</td>\n",
       "      <td>40.0</td>\n",
       "      <td>6.0</td>\n",
       "    </tr>\n",
       "  </tbody>\n",
       "</table>\n",
       "</div>"
      ],
      "text/plain": [
       "                    Time  JournalAlarmCount  LowAlarmCount  HighAlarmCount  \\\n",
       "7333 2023-01-01 00:00:00                0.0            0.0             0.0   \n",
       "7334 2023-01-01 00:30:00                0.0            0.0             0.0   \n",
       "7335 2023-01-01 01:00:00                0.0            0.0             0.0   \n",
       "7336 2023-01-01 01:30:00                0.0            0.0             0.0   \n",
       "7337 2023-01-01 02:00:00                0.0            0.0             0.0   \n",
       "\n",
       "      UrgentAlarmCount  BADPVCount  SystemAlarmCount  AllAlarmCount  \\\n",
       "7333               0.0         0.0               0.0            0.0   \n",
       "7334               0.0         0.0               0.0            0.0   \n",
       "7335               0.0         0.0               0.0            0.0   \n",
       "7336               0.0         0.0               0.0            0.0   \n",
       "7337               0.0         0.0               0.0            0.0   \n",
       "\n",
       "      AcksCount  ChangesCount  \n",
       "7333       34.0          14.0  \n",
       "7334        6.0           3.0  \n",
       "7335        2.0          24.0  \n",
       "7336        7.0           1.0  \n",
       "7337       40.0           6.0  "
      ]
     },
     "execution_count": 438,
     "metadata": {},
     "output_type": "execute_result"
    }
   ],
   "source": [
    "merged_acks_changes_2 = acks_grouped_2.merge(changes_grouped_2, how='outer', on='Time').reset_index(drop=True).fillna(0)\n",
    "final_df_2 = alarm_count_1.merge(merged_acks_changes_2, how='outer', on='Time').fillna(0).sort_values(by='Time')\n",
    "final_df_2.head()"
   ]
  },
  {
   "cell_type": "code",
   "execution_count": 443,
   "id": "8bb78f15",
   "metadata": {},
   "outputs": [
    {
     "data": {
      "text/html": [
       "<div>\n",
       "<style scoped>\n",
       "    .dataframe tbody tr th:only-of-type {\n",
       "        vertical-align: middle;\n",
       "    }\n",
       "\n",
       "    .dataframe tbody tr th {\n",
       "        vertical-align: top;\n",
       "    }\n",
       "\n",
       "    .dataframe thead th {\n",
       "        text-align: right;\n",
       "    }\n",
       "</style>\n",
       "<table border=\"1\" class=\"dataframe\">\n",
       "  <thead>\n",
       "    <tr style=\"text-align: right;\">\n",
       "      <th></th>\n",
       "      <th>Time</th>\n",
       "      <th>JournalAlarmCount_1</th>\n",
       "      <th>LowAlarmCount_1</th>\n",
       "      <th>HighAlarmCount_1</th>\n",
       "      <th>UrgentAlarmCount_1</th>\n",
       "      <th>BADPVCount_1</th>\n",
       "      <th>SystemAlarmCount_1</th>\n",
       "      <th>AllAlarmCount_1</th>\n",
       "      <th>AcksCount_1</th>\n",
       "      <th>ChangesCount_1</th>\n",
       "      <th>AfterhhLoading</th>\n",
       "      <th>JournalAlarmCount_2</th>\n",
       "      <th>LowAlarmCount_2</th>\n",
       "      <th>HighAlarmCount_2</th>\n",
       "      <th>UrgentAlarmCount_2</th>\n",
       "      <th>BADPVCount_2</th>\n",
       "      <th>SystemAlarmCount_2</th>\n",
       "      <th>AllAlarmCount_2</th>\n",
       "      <th>AcksCount_2</th>\n",
       "      <th>ChangesCount_2</th>\n",
       "    </tr>\n",
       "  </thead>\n",
       "  <tbody>\n",
       "    <tr>\n",
       "      <th>12446</th>\n",
       "      <td>2023-01-01 00:00:00</td>\n",
       "      <td>0.0</td>\n",
       "      <td>0.0</td>\n",
       "      <td>0.0</td>\n",
       "      <td>0.0</td>\n",
       "      <td>0.0</td>\n",
       "      <td>0.0</td>\n",
       "      <td>0.0</td>\n",
       "      <td>0.0</td>\n",
       "      <td>0.0</td>\n",
       "      <td>0.0</td>\n",
       "      <td>0.0</td>\n",
       "      <td>0.0</td>\n",
       "      <td>0.0</td>\n",
       "      <td>0.0</td>\n",
       "      <td>0.0</td>\n",
       "      <td>0.0</td>\n",
       "      <td>0.0</td>\n",
       "      <td>34.0</td>\n",
       "      <td>14.0</td>\n",
       "    </tr>\n",
       "    <tr>\n",
       "      <th>12447</th>\n",
       "      <td>2023-01-01 00:30:00</td>\n",
       "      <td>0.0</td>\n",
       "      <td>0.0</td>\n",
       "      <td>0.0</td>\n",
       "      <td>0.0</td>\n",
       "      <td>0.0</td>\n",
       "      <td>0.0</td>\n",
       "      <td>0.0</td>\n",
       "      <td>0.0</td>\n",
       "      <td>0.0</td>\n",
       "      <td>0.0</td>\n",
       "      <td>0.0</td>\n",
       "      <td>0.0</td>\n",
       "      <td>0.0</td>\n",
       "      <td>0.0</td>\n",
       "      <td>0.0</td>\n",
       "      <td>0.0</td>\n",
       "      <td>0.0</td>\n",
       "      <td>6.0</td>\n",
       "      <td>3.0</td>\n",
       "    </tr>\n",
       "    <tr>\n",
       "      <th>12448</th>\n",
       "      <td>2023-01-01 01:00:00</td>\n",
       "      <td>0.0</td>\n",
       "      <td>0.0</td>\n",
       "      <td>0.0</td>\n",
       "      <td>0.0</td>\n",
       "      <td>0.0</td>\n",
       "      <td>0.0</td>\n",
       "      <td>0.0</td>\n",
       "      <td>0.0</td>\n",
       "      <td>0.0</td>\n",
       "      <td>0.0</td>\n",
       "      <td>0.0</td>\n",
       "      <td>0.0</td>\n",
       "      <td>0.0</td>\n",
       "      <td>0.0</td>\n",
       "      <td>0.0</td>\n",
       "      <td>0.0</td>\n",
       "      <td>0.0</td>\n",
       "      <td>2.0</td>\n",
       "      <td>24.0</td>\n",
       "    </tr>\n",
       "    <tr>\n",
       "      <th>12449</th>\n",
       "      <td>2023-01-01 01:30:00</td>\n",
       "      <td>0.0</td>\n",
       "      <td>0.0</td>\n",
       "      <td>0.0</td>\n",
       "      <td>0.0</td>\n",
       "      <td>0.0</td>\n",
       "      <td>0.0</td>\n",
       "      <td>0.0</td>\n",
       "      <td>0.0</td>\n",
       "      <td>0.0</td>\n",
       "      <td>0.0</td>\n",
       "      <td>0.0</td>\n",
       "      <td>0.0</td>\n",
       "      <td>0.0</td>\n",
       "      <td>0.0</td>\n",
       "      <td>0.0</td>\n",
       "      <td>0.0</td>\n",
       "      <td>0.0</td>\n",
       "      <td>7.0</td>\n",
       "      <td>1.0</td>\n",
       "    </tr>\n",
       "    <tr>\n",
       "      <th>12450</th>\n",
       "      <td>2023-01-01 02:00:00</td>\n",
       "      <td>0.0</td>\n",
       "      <td>0.0</td>\n",
       "      <td>0.0</td>\n",
       "      <td>0.0</td>\n",
       "      <td>0.0</td>\n",
       "      <td>0.0</td>\n",
       "      <td>0.0</td>\n",
       "      <td>0.0</td>\n",
       "      <td>0.0</td>\n",
       "      <td>0.0</td>\n",
       "      <td>0.0</td>\n",
       "      <td>0.0</td>\n",
       "      <td>0.0</td>\n",
       "      <td>0.0</td>\n",
       "      <td>0.0</td>\n",
       "      <td>0.0</td>\n",
       "      <td>0.0</td>\n",
       "      <td>40.0</td>\n",
       "      <td>6.0</td>\n",
       "    </tr>\n",
       "  </tbody>\n",
       "</table>\n",
       "</div>"
      ],
      "text/plain": [
       "                     Time  JournalAlarmCount_1  LowAlarmCount_1  \\\n",
       "12446 2023-01-01 00:00:00                  0.0              0.0   \n",
       "12447 2023-01-01 00:30:00                  0.0              0.0   \n",
       "12448 2023-01-01 01:00:00                  0.0              0.0   \n",
       "12449 2023-01-01 01:30:00                  0.0              0.0   \n",
       "12450 2023-01-01 02:00:00                  0.0              0.0   \n",
       "\n",
       "       HighAlarmCount_1  UrgentAlarmCount_1  BADPVCount_1  SystemAlarmCount_1  \\\n",
       "12446               0.0                 0.0           0.0                 0.0   \n",
       "12447               0.0                 0.0           0.0                 0.0   \n",
       "12448               0.0                 0.0           0.0                 0.0   \n",
       "12449               0.0                 0.0           0.0                 0.0   \n",
       "12450               0.0                 0.0           0.0                 0.0   \n",
       "\n",
       "       AllAlarmCount_1  AcksCount_1  ChangesCount_1  AfterhhLoading  \\\n",
       "12446              0.0          0.0             0.0             0.0   \n",
       "12447              0.0          0.0             0.0             0.0   \n",
       "12448              0.0          0.0             0.0             0.0   \n",
       "12449              0.0          0.0             0.0             0.0   \n",
       "12450              0.0          0.0             0.0             0.0   \n",
       "\n",
       "       JournalAlarmCount_2  LowAlarmCount_2  HighAlarmCount_2  \\\n",
       "12446                  0.0              0.0               0.0   \n",
       "12447                  0.0              0.0               0.0   \n",
       "12448                  0.0              0.0               0.0   \n",
       "12449                  0.0              0.0               0.0   \n",
       "12450                  0.0              0.0               0.0   \n",
       "\n",
       "       UrgentAlarmCount_2  BADPVCount_2  SystemAlarmCount_2  AllAlarmCount_2  \\\n",
       "12446                 0.0           0.0                 0.0              0.0   \n",
       "12447                 0.0           0.0                 0.0              0.0   \n",
       "12448                 0.0           0.0                 0.0              0.0   \n",
       "12449                 0.0           0.0                 0.0              0.0   \n",
       "12450                 0.0           0.0                 0.0              0.0   \n",
       "\n",
       "       AcksCount_2  ChangesCount_2  \n",
       "12446         34.0            14.0  \n",
       "12447          6.0             3.0  \n",
       "12448          2.0            24.0  \n",
       "12449          7.0             1.0  \n",
       "12450         40.0             6.0  "
      ]
     },
     "execution_count": 443,
     "metadata": {},
     "output_type": "execute_result"
    }
   ],
   "source": [
    "merged_final_df = final_df_1.merge(final_df_2, how='outer', on='Time', suffixes = ('_1', '_2')).fillna(0).sort_values(by='Time')\n",
    "merged_final_df.head()"
   ]
  },
  {
   "cell_type": "markdown",
   "id": "7f0abf15",
   "metadata": {},
   "source": [
    "## Add month and hour feature"
   ]
  },
  {
   "cell_type": "code",
   "execution_count": 305,
   "id": "57530aa0",
   "metadata": {},
   "outputs": [],
   "source": [
    "final_df['Month'] = final_df['Time'].dt.month\n",
    "final_df['Hour'] = final_df['Time'].dt.hour"
   ]
  },
  {
   "cell_type": "code",
   "execution_count": 306,
   "id": "8a0cc756",
   "metadata": {},
   "outputs": [],
   "source": [
    "import seaborn as sns\n",
    "import matplotlib.pyplot as plt\n",
    "import numpy as np"
   ]
  },
  {
   "cell_type": "markdown",
   "id": "6df75ef0",
   "metadata": {},
   "source": [
    "## Visual analize"
   ]
  },
  {
   "cell_type": "code",
   "execution_count": 848,
   "id": "764fd27f",
   "metadata": {},
   "outputs": [
    {
     "data": {
      "text/plain": [
       "<seaborn.axisgrid.PairGrid at 0x493e39df40>"
      ]
     },
     "execution_count": 848,
     "metadata": {},
     "output_type": "execute_result"
    },
    {
     "data": {
      "image/png": "[encoded data removed]",
      "text/plain": [
       "<Figure size 1800x1800 with 110 Axes>"
      ]
     },
     "metadata": {
      "needs_background": "light"
     },
     "output_type": "display_data"
    }
   ],
   "source": [
    "visual_df = final_df_1\n",
    "sns.pairplot(visual_df)"
   ]
  },
  {
   "cell_type": "code",
   "execution_count": 124,
   "id": "da876c13",
   "metadata": {},
   "outputs": [
    {
     "name": "stdout",
     "output_type": "stream",
     "text": [
      "<class 'pandas.core.frame.DataFrame'>\n",
      "Int64Index: 12446 entries, 0 to 12445\n",
      "Data columns (total 13 columns):\n",
      " #   Column             Non-Null Count  Dtype         \n",
      "---  ------             --------------  -----         \n",
      " 0   Time               12446 non-null  datetime64[ns]\n",
      " 1   JournalAlarmCount  12446 non-null  float64       \n",
      " 2   LowAlarmCount      12446 non-null  float64       \n",
      " 3   HighAlarmCount     12446 non-null  float64       \n",
      " 4   UrgentAlarmCount   12446 non-null  float64       \n",
      " 5   BADPVCount         12446 non-null  float64       \n",
      " 6   SystemAlarmCount   12446 non-null  float64       \n",
      " 7   AllAlarmCount      12446 non-null  float64       \n",
      " 8   AcksCount          12446 non-null  float64       \n",
      " 9   ChangesCount       12446 non-null  float64       \n",
      " 10  AfterhhLoading     12446 non-null  float64       \n",
      " 11  Month              12446 non-null  int64         \n",
      " 12  Hour               12446 non-null  int64         \n",
      "dtypes: datetime64[ns](1), float64(10), int64(2)\n",
      "memory usage: 1.3 MB\n"
     ]
    }
   ],
   "source": [
    "visual_df.info()"
   ]
  },
  {
   "cell_type": "code",
   "execution_count": 307,
   "id": "9ac1e8ba",
   "metadata": {},
   "outputs": [
    {
     "data": {
      "text/html": [
       "<div>\n",
       "<style scoped>\n",
       "    .dataframe tbody tr th:only-of-type {\n",
       "        vertical-align: middle;\n",
       "    }\n",
       "\n",
       "    .dataframe tbody tr th {\n",
       "        vertical-align: top;\n",
       "    }\n",
       "\n",
       "    .dataframe thead th {\n",
       "        text-align: right;\n",
       "    }\n",
       "</style>\n",
       "<table border=\"1\" class=\"dataframe\">\n",
       "  <thead>\n",
       "    <tr style=\"text-align: right;\">\n",
       "      <th></th>\n",
       "      <th>JournalAlarmCount</th>\n",
       "      <th>LowAlarmCount</th>\n",
       "      <th>HighAlarmCount</th>\n",
       "      <th>UrgentAlarmCount</th>\n",
       "      <th>BADPVCount</th>\n",
       "      <th>SystemAlarmCount</th>\n",
       "      <th>AllAlarmCount</th>\n",
       "      <th>AcksCount</th>\n",
       "      <th>ChangesCount</th>\n",
       "      <th>AfterhhLoading</th>\n",
       "      <th>Month</th>\n",
       "      <th>Hour</th>\n",
       "    </tr>\n",
       "  </thead>\n",
       "  <tbody>\n",
       "    <tr>\n",
       "      <th>count</th>\n",
       "      <td>12446.00</td>\n",
       "      <td>12446.00</td>\n",
       "      <td>12446.00</td>\n",
       "      <td>12446.00</td>\n",
       "      <td>12446.00</td>\n",
       "      <td>12446.00</td>\n",
       "      <td>12446.00</td>\n",
       "      <td>12446.00</td>\n",
       "      <td>12446.00</td>\n",
       "      <td>12446.00</td>\n",
       "      <td>12446.00</td>\n",
       "      <td>12446.00</td>\n",
       "    </tr>\n",
       "    <tr>\n",
       "      <th>mean</th>\n",
       "      <td>10.30</td>\n",
       "      <td>0.24</td>\n",
       "      <td>9.26</td>\n",
       "      <td>1.76</td>\n",
       "      <td>5.22</td>\n",
       "      <td>0.56</td>\n",
       "      <td>21.56</td>\n",
       "      <td>10.38</td>\n",
       "      <td>35.14</td>\n",
       "      <td>45.51</td>\n",
       "      <td>5.02</td>\n",
       "      <td>11.51</td>\n",
       "    </tr>\n",
       "    <tr>\n",
       "      <th>std</th>\n",
       "      <td>61.34</td>\n",
       "      <td>1.36</td>\n",
       "      <td>23.14</td>\n",
       "      <td>12.23</td>\n",
       "      <td>17.98</td>\n",
       "      <td>3.81</td>\n",
       "      <td>74.23</td>\n",
       "      <td>19.08</td>\n",
       "      <td>35.34</td>\n",
       "      <td>44.46</td>\n",
       "      <td>2.55</td>\n",
       "      <td>6.92</td>\n",
       "    </tr>\n",
       "    <tr>\n",
       "      <th>min</th>\n",
       "      <td>0.00</td>\n",
       "      <td>0.00</td>\n",
       "      <td>0.00</td>\n",
       "      <td>0.00</td>\n",
       "      <td>0.00</td>\n",
       "      <td>0.00</td>\n",
       "      <td>0.00</td>\n",
       "      <td>0.00</td>\n",
       "      <td>0.00</td>\n",
       "      <td>0.00</td>\n",
       "      <td>1.00</td>\n",
       "      <td>0.00</td>\n",
       "    </tr>\n",
       "    <tr>\n",
       "      <th>25%</th>\n",
       "      <td>0.00</td>\n",
       "      <td>0.00</td>\n",
       "      <td>0.00</td>\n",
       "      <td>0.00</td>\n",
       "      <td>0.00</td>\n",
       "      <td>0.00</td>\n",
       "      <td>0.00</td>\n",
       "      <td>3.00</td>\n",
       "      <td>11.00</td>\n",
       "      <td>17.00</td>\n",
       "      <td>3.00</td>\n",
       "      <td>6.00</td>\n",
       "    </tr>\n",
       "    <tr>\n",
       "      <th>50%</th>\n",
       "      <td>1.00</td>\n",
       "      <td>0.00</td>\n",
       "      <td>2.00</td>\n",
       "      <td>0.00</td>\n",
       "      <td>0.00</td>\n",
       "      <td>0.00</td>\n",
       "      <td>6.00</td>\n",
       "      <td>6.00</td>\n",
       "      <td>25.00</td>\n",
       "      <td>33.00</td>\n",
       "      <td>5.00</td>\n",
       "      <td>11.50</td>\n",
       "    </tr>\n",
       "    <tr>\n",
       "      <th>75%</th>\n",
       "      <td>4.00</td>\n",
       "      <td>0.00</td>\n",
       "      <td>9.00</td>\n",
       "      <td>0.00</td>\n",
       "      <td>1.00</td>\n",
       "      <td>0.00</td>\n",
       "      <td>20.75</td>\n",
       "      <td>12.00</td>\n",
       "      <td>47.00</td>\n",
       "      <td>60.00</td>\n",
       "      <td>7.00</td>\n",
       "      <td>17.00</td>\n",
       "    </tr>\n",
       "    <tr>\n",
       "      <th>max</th>\n",
       "      <td>2483.00</td>\n",
       "      <td>73.00</td>\n",
       "      <td>516.00</td>\n",
       "      <td>641.00</td>\n",
       "      <td>431.00</td>\n",
       "      <td>163.00</td>\n",
       "      <td>3219.00</td>\n",
       "      <td>655.00</td>\n",
       "      <td>434.00</td>\n",
       "      <td>703.00</td>\n",
       "      <td>9.00</td>\n",
       "      <td>23.00</td>\n",
       "    </tr>\n",
       "  </tbody>\n",
       "</table>\n",
       "</div>"
      ],
      "text/plain": [
       "       JournalAlarmCount  LowAlarmCount  HighAlarmCount  UrgentAlarmCount  \\\n",
       "count           12446.00       12446.00        12446.00          12446.00   \n",
       "mean               10.30           0.24            9.26              1.76   \n",
       "std                61.34           1.36           23.14             12.23   \n",
       "min                 0.00           0.00            0.00              0.00   \n",
       "25%                 0.00           0.00            0.00              0.00   \n",
       "50%                 1.00           0.00            2.00              0.00   \n",
       "75%                 4.00           0.00            9.00              0.00   \n",
       "max              2483.00          73.00          516.00            641.00   \n",
       "\n",
       "       BADPVCount  SystemAlarmCount  AllAlarmCount  AcksCount  ChangesCount  \\\n",
       "count    12446.00          12446.00       12446.00   12446.00      12446.00   \n",
       "mean         5.22              0.56          21.56      10.38         35.14   \n",
       "std         17.98              3.81          74.23      19.08         35.34   \n",
       "min          0.00              0.00           0.00       0.00          0.00   \n",
       "25%          0.00              0.00           0.00       3.00         11.00   \n",
       "50%          0.00              0.00           6.00       6.00         25.00   \n",
       "75%          1.00              0.00          20.75      12.00         47.00   \n",
       "max        431.00            163.00        3219.00     655.00        434.00   \n",
       "\n",
       "       AfterhhLoading     Month      Hour  \n",
       "count        12446.00  12446.00  12446.00  \n",
       "mean            45.51      5.02     11.51  \n",
       "std             44.46      2.55      6.92  \n",
       "min              0.00      1.00      0.00  \n",
       "25%             17.00      3.00      6.00  \n",
       "50%             33.00      5.00     11.50  \n",
       "75%             60.00      7.00     17.00  \n",
       "max            703.00      9.00     23.00  "
      ]
     },
     "execution_count": 307,
     "metadata": {},
     "output_type": "execute_result"
    }
   ],
   "source": [
    "visual_df.describe().round(2)"
   ]
  },
  {
   "cell_type": "code",
   "execution_count": 126,
   "id": "3b4a5134",
   "metadata": {},
   "outputs": [],
   "source": [
    "def outliers_iqr_mod(data, feature, left=1.5, right=1.5):\n",
    "    x = data[feature]\n",
    "    quartile_1, quartile_3 = x.quantile(0.25), x.quantile(0.75)\n",
    "    iqr = quartile_3 - quartile_1\n",
    "    lower_bound = quartile_1 - (iqr*left)\n",
    "    upper_bound = quartile_3 + (iqr*right)\n",
    "    outliers = data[(x < lower_bound) | (x > upper_bound)]\n",
    "    cleaned = data[(x >= lower_bound) & (x <= upper_bound)]\n",
    "    return outliers, cleaned"
   ]
  },
  {
   "cell_type": "code",
   "execution_count": 127,
   "id": "dfe374f4",
   "metadata": {},
   "outputs": [
    {
     "name": "stdout",
     "output_type": "stream",
     "text": [
      "Count of outliers: 1524\n",
      "Count of cleaned: 10922\n"
     ]
    }
   ],
   "source": [
    "outliers, cleaned = outliers_iqr_mod(visual_df, 'AfterhhLoading', left=3, right=0.7)\n",
    "print(f'Count of outliers: {outliers.shape[0]}')\n",
    "print(f'Count of cleaned: {cleaned.shape[0]}')"
   ]
  },
  {
   "cell_type": "code",
   "execution_count": 128,
   "id": "757d467c",
   "metadata": {},
   "outputs": [
    {
     "data": {
      "image/png": "[encoded data removed]",
      "text/plain": [
       "<Figure size 1080x288 with 2 Axes>"
      ]
     },
     "metadata": {
      "needs_background": "light"
     },
     "output_type": "display_data"
    }
   ],
   "source": [
    "fig, axes = plt.subplots(nrows=1, ncols=2, figsize=(15,4))\n",
    "histplot = sns.histplot(data=cleaned, x='AfterhhLoading', ax=axes[0]);\n",
    "boxplot = sns.boxplot(data=cleaned, x='AfterhhLoading', ax=axes[1]);"
   ]
  },
  {
   "cell_type": "code",
   "execution_count": 129,
   "id": "76990674",
   "metadata": {},
   "outputs": [
    {
     "data": {
      "text/plain": [
       "Text(0.5, 1.0, 'Logged After half hour distribution')"
      ]
     },
     "execution_count": 129,
     "metadata": {},
     "output_type": "execute_result"
    },
    {
     "data": {
      "image/png": "[encoded data removed]",
      "text/plain": [
       "<Figure size 1080x288 with 2 Axes>"
      ]
     },
     "metadata": {
      "needs_background": "light"
     },
     "output_type": "display_data"
    }
   ],
   "source": [
    "## Histpltot for logged values\n",
    "fig, axes = plt.subplots(1,2, figsize=(15,4))\n",
    "# Histogram for init feature\n",
    "histplot = sns.histplot(cleaned['AfterhhLoading'], bins=30, ax=axes[0]);\n",
    "histplot.set_title('After half hour distribution')\n",
    "\n",
    "# Histogram for logged feature\n",
    "log_loading = np.log(cleaned['AfterhhLoading'] + 1)\n",
    "histplot = sns.histplot(log_loading, bins=30, ax=axes[1]);\n",
    "histplot.set_title('Logged After half hour distribution')"
   ]
  },
  {
   "cell_type": "code",
   "execution_count": 130,
   "id": "d940f9da",
   "metadata": {},
   "outputs": [
    {
     "data": {
      "text/plain": [
       "0.6550135520726145"
      ]
     },
     "execution_count": 130,
     "metadata": {},
     "output_type": "execute_result"
    }
   ],
   "source": [
    "cleaned['AfterhhLoading'].skew()"
   ]
  },
  {
   "cell_type": "code",
   "execution_count": 131,
   "id": "d0bbe5f0",
   "metadata": {},
   "outputs": [
    {
     "data": {
      "text/plain": [
       "-1.0446187801773201"
      ]
     },
     "execution_count": 131,
     "metadata": {},
     "output_type": "execute_result"
    }
   ],
   "source": [
    "log_loading.skew()"
   ]
  },
  {
   "cell_type": "code",
   "execution_count": 132,
   "id": "4fabdac4",
   "metadata": {},
   "outputs": [],
   "source": [
    "## outlier Z score\n",
    "\n",
    "def outliers_z_score_mod(data, feature, log_scale=False, left=3, right=3):\n",
    "    if log_scale:\n",
    "        x = np.log(data[feature] + 1)\n",
    "    else:\n",
    "        x = data[feature]\n",
    "    mu = x.mean()\n",
    "    sigma = x.std()\n",
    "    lower_bound = mu - left * sigma\n",
    "    upper_bound = mu + right * sigma\n",
    "    outliers = data[(x < lower_bound) | (x > upper_bound)]\n",
    "    cleaned = data[(x >= lower_bound) & (x <= upper_bound)]\n",
    "    return outliers, cleaned"
   ]
  },
  {
   "cell_type": "code",
   "execution_count": 133,
   "id": "4123dcf0",
   "metadata": {},
   "outputs": [
    {
     "name": "stdout",
     "output_type": "stream",
     "text": [
      "Count of outliers: 81\n",
      "Count of cleaned: 12365\n"
     ]
    }
   ],
   "source": [
    "outliers, cleaned = outliers_z_score_mod(final_df, 'AfterhhLoading', right=4, left=4, log_scale=False)\n",
    "print(f'Count of outliers: {outliers.shape[0]}')\n",
    "print(f'Count of cleaned: {cleaned.shape[0]}')"
   ]
  },
  {
   "cell_type": "code",
   "execution_count": 134,
   "id": "06781f17",
   "metadata": {},
   "outputs": [
    {
     "data": {
      "image/png": "[encoded data removed]",
      "text/plain": [
       "<Figure size 1080x288 with 2 Axes>"
      ]
     },
     "metadata": {
      "needs_background": "light"
     },
     "output_type": "display_data"
    }
   ],
   "source": [
    "# Histogram for feature after z score\n",
    "fig, axes = plt.subplots(nrows=1, ncols=2, figsize=(15,4))\n",
    "histplot = sns.histplot(data=cleaned, x='AfterhhLoading', ax=axes[0]);\n",
    "boxplot = sns.boxplot(data=cleaned, x='AfterhhLoading', ax=axes[1]);"
   ]
  },
  {
   "cell_type": "code",
   "execution_count": 135,
   "id": "6d75b744",
   "metadata": {},
   "outputs": [
    {
     "name": "stdout",
     "output_type": "stream",
     "text": [
      "Correlation coefficient for column JournalAlarmCount: 0.03\n",
      "Correlation coefficient for column LowAlarmCount: 0.07\n",
      "Correlation coefficient for column HighAlarmCount: 0.13\n",
      "Correlation coefficient for column UrgentAlarmCount: 0.06\n",
      "Correlation coefficient for column BADPVCount: 0.07\n",
      "Correlation coefficient for column SystemAlarmCount: 0.01\n",
      "Correlation coefficient for column AllAlarmCount: 0.07\n",
      "Correlation coefficient for column AcksCount: 0.2\n",
      "Correlation coefficient for column ChangesCount: 0.41\n",
      "Correlation coefficient for column Month: -0.01\n",
      "Correlation coefficient for column Hour: -0.03\n"
     ]
    }
   ],
   "source": [
    "exclude_cols = ['Time', 'AfterhhLoading' ]\n",
    "for col in cleaned.columns:\n",
    "    if col not in exclude_cols:\n",
    "        coef = round(np.corrcoef(cleaned[col].values, cleaned['AfterhhLoading'].values)[0, 1],2)\n",
    "        print(f'Correlation coefficient for column {col}: {coef}')"
   ]
  },
  {
   "cell_type": "code",
   "execution_count": 117,
   "id": "3110f11c",
   "metadata": {},
   "outputs": [
    {
     "name": "stdout",
     "output_type": "stream",
     "text": [
      "Count of outliers: 334\n",
      "Count of cleaned: 12031\n"
     ]
    }
   ],
   "source": [
    "outliers, cleaned = outliers_z_score_mod(cleaned, 'HighAlarmCount', right=2, left=2, log_scale=False)\n",
    "print(f'Count of outliers: {outliers.shape[0]}')\n",
    "print(f'Count of cleaned: {cleaned.shape[0]}')"
   ]
  },
  {
   "cell_type": "code",
   "execution_count": 118,
   "id": "297d0679",
   "metadata": {},
   "outputs": [
    {
     "data": {
      "image/png": "[encoded data removed]",
      "text/plain": [
       "<Figure size 432x432 with 3 Axes>"
      ]
     },
     "metadata": {
      "needs_background": "light"
     },
     "output_type": "display_data"
    }
   ],
   "source": [
    "sns.jointplot(\n",
    "    data = cleaned,\n",
    "    x='HighAlarmCount',\n",
    "    y='AfterhhLoading',\n",
    "    );"
   ]
  },
  {
   "cell_type": "code",
   "execution_count": 119,
   "id": "fc81f483",
   "metadata": {},
   "outputs": [],
   "source": [
    "final_df.to_csv('unit1_2023_df.csv')"
   ]
  },
  {
   "cell_type": "code",
   "execution_count": 137,
   "id": "64b3a3bc",
   "metadata": {},
   "outputs": [
    {
     "data": {
      "text/html": [
       "<div>\n",
       "<style scoped>\n",
       "    .dataframe tbody tr th:only-of-type {\n",
       "        vertical-align: middle;\n",
       "    }\n",
       "\n",
       "    .dataframe tbody tr th {\n",
       "        vertical-align: top;\n",
       "    }\n",
       "\n",
       "    .dataframe thead th {\n",
       "        text-align: right;\n",
       "    }\n",
       "</style>\n",
       "<table border=\"1\" class=\"dataframe\">\n",
       "  <thead>\n",
       "    <tr style=\"text-align: right;\">\n",
       "      <th>Time</th>\n",
       "      <th>2023-01-01 02:30:00</th>\n",
       "      <th>2023-01-01 03:00:00</th>\n",
       "      <th>2023-01-01 03:30:00</th>\n",
       "      <th>2023-01-01 04:00:00</th>\n",
       "      <th>2023-01-01 04:30:00</th>\n",
       "      <th>2023-01-01 05:00:00</th>\n",
       "      <th>2023-01-01 05:30:00</th>\n",
       "      <th>2023-01-01 06:00:00</th>\n",
       "      <th>2023-01-01 06:30:00</th>\n",
       "      <th>2023-01-01 07:00:00</th>\n",
       "      <th>...</th>\n",
       "      <th>2023-09-30 19:00:00</th>\n",
       "      <th>2023-09-30 19:30:00</th>\n",
       "      <th>2023-09-30 20:00:00</th>\n",
       "      <th>2023-09-30 20:30:00</th>\n",
       "      <th>2023-09-30 21:00:00</th>\n",
       "      <th>2023-09-30 21:30:00</th>\n",
       "      <th>2023-09-30 22:00:00</th>\n",
       "      <th>2023-09-30 22:30:00</th>\n",
       "      <th>2023-09-30 23:00:00</th>\n",
       "      <th>2023-09-30 23:30:00</th>\n",
       "    </tr>\n",
       "    <tr>\n",
       "      <th>Month</th>\n",
       "      <th></th>\n",
       "      <th></th>\n",
       "      <th></th>\n",
       "      <th></th>\n",
       "      <th></th>\n",
       "      <th></th>\n",
       "      <th></th>\n",
       "      <th></th>\n",
       "      <th></th>\n",
       "      <th></th>\n",
       "      <th></th>\n",
       "      <th></th>\n",
       "      <th></th>\n",
       "      <th></th>\n",
       "      <th></th>\n",
       "      <th></th>\n",
       "      <th></th>\n",
       "      <th></th>\n",
       "      <th></th>\n",
       "      <th></th>\n",
       "      <th></th>\n",
       "    </tr>\n",
       "  </thead>\n",
       "  <tbody>\n",
       "    <tr>\n",
       "      <th>1</th>\n",
       "      <td>0.0</td>\n",
       "      <td>5.0</td>\n",
       "      <td>19.0</td>\n",
       "      <td>2.0</td>\n",
       "      <td>75.5</td>\n",
       "      <td>30.5</td>\n",
       "      <td>96.0</td>\n",
       "      <td>20.0</td>\n",
       "      <td>60.5</td>\n",
       "      <td>30.5</td>\n",
       "      <td>...</td>\n",
       "      <td>NaN</td>\n",
       "      <td>NaN</td>\n",
       "      <td>NaN</td>\n",
       "      <td>NaN</td>\n",
       "      <td>NaN</td>\n",
       "      <td>NaN</td>\n",
       "      <td>NaN</td>\n",
       "      <td>NaN</td>\n",
       "      <td>NaN</td>\n",
       "      <td>NaN</td>\n",
       "    </tr>\n",
       "    <tr>\n",
       "      <th>2</th>\n",
       "      <td>NaN</td>\n",
       "      <td>NaN</td>\n",
       "      <td>NaN</td>\n",
       "      <td>NaN</td>\n",
       "      <td>NaN</td>\n",
       "      <td>NaN</td>\n",
       "      <td>NaN</td>\n",
       "      <td>NaN</td>\n",
       "      <td>NaN</td>\n",
       "      <td>NaN</td>\n",
       "      <td>...</td>\n",
       "      <td>NaN</td>\n",
       "      <td>NaN</td>\n",
       "      <td>NaN</td>\n",
       "      <td>NaN</td>\n",
       "      <td>NaN</td>\n",
       "      <td>NaN</td>\n",
       "      <td>NaN</td>\n",
       "      <td>NaN</td>\n",
       "      <td>NaN</td>\n",
       "      <td>NaN</td>\n",
       "    </tr>\n",
       "    <tr>\n",
       "      <th>3</th>\n",
       "      <td>NaN</td>\n",
       "      <td>NaN</td>\n",
       "      <td>NaN</td>\n",
       "      <td>NaN</td>\n",
       "      <td>NaN</td>\n",
       "      <td>NaN</td>\n",
       "      <td>NaN</td>\n",
       "      <td>NaN</td>\n",
       "      <td>NaN</td>\n",
       "      <td>NaN</td>\n",
       "      <td>...</td>\n",
       "      <td>NaN</td>\n",
       "      <td>NaN</td>\n",
       "      <td>NaN</td>\n",
       "      <td>NaN</td>\n",
       "      <td>NaN</td>\n",
       "      <td>NaN</td>\n",
       "      <td>NaN</td>\n",
       "      <td>NaN</td>\n",
       "      <td>NaN</td>\n",
       "      <td>NaN</td>\n",
       "    </tr>\n",
       "    <tr>\n",
       "      <th>4</th>\n",
       "      <td>NaN</td>\n",
       "      <td>NaN</td>\n",
       "      <td>NaN</td>\n",
       "      <td>NaN</td>\n",
       "      <td>NaN</td>\n",
       "      <td>NaN</td>\n",
       "      <td>NaN</td>\n",
       "      <td>NaN</td>\n",
       "      <td>NaN</td>\n",
       "      <td>NaN</td>\n",
       "      <td>...</td>\n",
       "      <td>NaN</td>\n",
       "      <td>NaN</td>\n",
       "      <td>NaN</td>\n",
       "      <td>NaN</td>\n",
       "      <td>NaN</td>\n",
       "      <td>NaN</td>\n",
       "      <td>NaN</td>\n",
       "      <td>NaN</td>\n",
       "      <td>NaN</td>\n",
       "      <td>NaN</td>\n",
       "    </tr>\n",
       "    <tr>\n",
       "      <th>5</th>\n",
       "      <td>NaN</td>\n",
       "      <td>NaN</td>\n",
       "      <td>NaN</td>\n",
       "      <td>NaN</td>\n",
       "      <td>NaN</td>\n",
       "      <td>NaN</td>\n",
       "      <td>NaN</td>\n",
       "      <td>NaN</td>\n",
       "      <td>NaN</td>\n",
       "      <td>NaN</td>\n",
       "      <td>...</td>\n",
       "      <td>NaN</td>\n",
       "      <td>NaN</td>\n",
       "      <td>NaN</td>\n",
       "      <td>NaN</td>\n",
       "      <td>NaN</td>\n",
       "      <td>NaN</td>\n",
       "      <td>NaN</td>\n",
       "      <td>NaN</td>\n",
       "      <td>NaN</td>\n",
       "      <td>NaN</td>\n",
       "    </tr>\n",
       "    <tr>\n",
       "      <th>6</th>\n",
       "      <td>NaN</td>\n",
       "      <td>NaN</td>\n",
       "      <td>NaN</td>\n",
       "      <td>NaN</td>\n",
       "      <td>NaN</td>\n",
       "      <td>NaN</td>\n",
       "      <td>NaN</td>\n",
       "      <td>NaN</td>\n",
       "      <td>NaN</td>\n",
       "      <td>NaN</td>\n",
       "      <td>...</td>\n",
       "      <td>NaN</td>\n",
       "      <td>NaN</td>\n",
       "      <td>NaN</td>\n",
       "      <td>NaN</td>\n",
       "      <td>NaN</td>\n",
       "      <td>NaN</td>\n",
       "      <td>NaN</td>\n",
       "      <td>NaN</td>\n",
       "      <td>NaN</td>\n",
       "      <td>NaN</td>\n",
       "    </tr>\n",
       "    <tr>\n",
       "      <th>7</th>\n",
       "      <td>NaN</td>\n",
       "      <td>NaN</td>\n",
       "      <td>NaN</td>\n",
       "      <td>NaN</td>\n",
       "      <td>NaN</td>\n",
       "      <td>NaN</td>\n",
       "      <td>NaN</td>\n",
       "      <td>NaN</td>\n",
       "      <td>NaN</td>\n",
       "      <td>NaN</td>\n",
       "      <td>...</td>\n",
       "      <td>NaN</td>\n",
       "      <td>NaN</td>\n",
       "      <td>NaN</td>\n",
       "      <td>NaN</td>\n",
       "      <td>NaN</td>\n",
       "      <td>NaN</td>\n",
       "      <td>NaN</td>\n",
       "      <td>NaN</td>\n",
       "      <td>NaN</td>\n",
       "      <td>NaN</td>\n",
       "    </tr>\n",
       "    <tr>\n",
       "      <th>8</th>\n",
       "      <td>NaN</td>\n",
       "      <td>NaN</td>\n",
       "      <td>NaN</td>\n",
       "      <td>NaN</td>\n",
       "      <td>NaN</td>\n",
       "      <td>NaN</td>\n",
       "      <td>NaN</td>\n",
       "      <td>NaN</td>\n",
       "      <td>NaN</td>\n",
       "      <td>NaN</td>\n",
       "      <td>...</td>\n",
       "      <td>NaN</td>\n",
       "      <td>NaN</td>\n",
       "      <td>NaN</td>\n",
       "      <td>NaN</td>\n",
       "      <td>NaN</td>\n",
       "      <td>NaN</td>\n",
       "      <td>NaN</td>\n",
       "      <td>NaN</td>\n",
       "      <td>NaN</td>\n",
       "      <td>NaN</td>\n",
       "    </tr>\n",
       "    <tr>\n",
       "      <th>9</th>\n",
       "      <td>NaN</td>\n",
       "      <td>NaN</td>\n",
       "      <td>NaN</td>\n",
       "      <td>NaN</td>\n",
       "      <td>NaN</td>\n",
       "      <td>NaN</td>\n",
       "      <td>NaN</td>\n",
       "      <td>NaN</td>\n",
       "      <td>NaN</td>\n",
       "      <td>NaN</td>\n",
       "      <td>...</td>\n",
       "      <td>47.5</td>\n",
       "      <td>29.0</td>\n",
       "      <td>51.0</td>\n",
       "      <td>60.0</td>\n",
       "      <td>127.0</td>\n",
       "      <td>57.5</td>\n",
       "      <td>66.0</td>\n",
       "      <td>15.0</td>\n",
       "      <td>22.5</td>\n",
       "      <td>0.0</td>\n",
       "    </tr>\n",
       "  </tbody>\n",
       "</table>\n",
       "<p>9 rows × 12446 columns</p>\n",
       "</div>"
      ],
      "text/plain": [
       "Time   2023-01-01 02:30:00  2023-01-01 03:00:00  2023-01-01 03:30:00  \\\n",
       "Month                                                                  \n",
       "1                      0.0                  5.0                 19.0   \n",
       "2                      NaN                  NaN                  NaN   \n",
       "3                      NaN                  NaN                  NaN   \n",
       "4                      NaN                  NaN                  NaN   \n",
       "5                      NaN                  NaN                  NaN   \n",
       "6                      NaN                  NaN                  NaN   \n",
       "7                      NaN                  NaN                  NaN   \n",
       "8                      NaN                  NaN                  NaN   \n",
       "9                      NaN                  NaN                  NaN   \n",
       "\n",
       "Time   2023-01-01 04:00:00  2023-01-01 04:30:00  2023-01-01 05:00:00  \\\n",
       "Month                                                                  \n",
       "1                      2.0                 75.5                 30.5   \n",
       "2                      NaN                  NaN                  NaN   \n",
       "3                      NaN                  NaN                  NaN   \n",
       "4                      NaN                  NaN                  NaN   \n",
       "5                      NaN                  NaN                  NaN   \n",
       "6                      NaN                  NaN                  NaN   \n",
       "7                      NaN                  NaN                  NaN   \n",
       "8                      NaN                  NaN                  NaN   \n",
       "9                      NaN                  NaN                  NaN   \n",
       "\n",
       "Time   2023-01-01 05:30:00  2023-01-01 06:00:00  2023-01-01 06:30:00  \\\n",
       "Month                                                                  \n",
       "1                     96.0                 20.0                 60.5   \n",
       "2                      NaN                  NaN                  NaN   \n",
       "3                      NaN                  NaN                  NaN   \n",
       "4                      NaN                  NaN                  NaN   \n",
       "5                      NaN                  NaN                  NaN   \n",
       "6                      NaN                  NaN                  NaN   \n",
       "7                      NaN                  NaN                  NaN   \n",
       "8                      NaN                  NaN                  NaN   \n",
       "9                      NaN                  NaN                  NaN   \n",
       "\n",
       "Time   2023-01-01 07:00:00  ...  2023-09-30 19:00:00  2023-09-30 19:30:00  \\\n",
       "Month                       ...                                             \n",
       "1                     30.5  ...                  NaN                  NaN   \n",
       "2                      NaN  ...                  NaN                  NaN   \n",
       "3                      NaN  ...                  NaN                  NaN   \n",
       "4                      NaN  ...                  NaN                  NaN   \n",
       "5                      NaN  ...                  NaN                  NaN   \n",
       "6                      NaN  ...                  NaN                  NaN   \n",
       "7                      NaN  ...                  NaN                  NaN   \n",
       "8                      NaN  ...                  NaN                  NaN   \n",
       "9                      NaN  ...                 47.5                 29.0   \n",
       "\n",
       "Time   2023-09-30 20:00:00  2023-09-30 20:30:00  2023-09-30 21:00:00  \\\n",
       "Month                                                                  \n",
       "1                      NaN                  NaN                  NaN   \n",
       "2                      NaN                  NaN                  NaN   \n",
       "3                      NaN                  NaN                  NaN   \n",
       "4                      NaN                  NaN                  NaN   \n",
       "5                      NaN                  NaN                  NaN   \n",
       "6                      NaN                  NaN                  NaN   \n",
       "7                      NaN                  NaN                  NaN   \n",
       "8                      NaN                  NaN                  NaN   \n",
       "9                     51.0                 60.0                127.0   \n",
       "\n",
       "Time   2023-09-30 21:30:00  2023-09-30 22:00:00  2023-09-30 22:30:00  \\\n",
       "Month                                                                  \n",
       "1                      NaN                  NaN                  NaN   \n",
       "2                      NaN                  NaN                  NaN   \n",
       "3                      NaN                  NaN                  NaN   \n",
       "4                      NaN                  NaN                  NaN   \n",
       "5                      NaN                  NaN                  NaN   \n",
       "6                      NaN                  NaN                  NaN   \n",
       "7                      NaN                  NaN                  NaN   \n",
       "8                      NaN                  NaN                  NaN   \n",
       "9                     57.5                 66.0                 15.0   \n",
       "\n",
       "Time   2023-09-30 23:00:00  2023-09-30 23:30:00  \n",
       "Month                                            \n",
       "1                      NaN                  NaN  \n",
       "2                      NaN                  NaN  \n",
       "3                      NaN                  NaN  \n",
       "4                      NaN                  NaN  \n",
       "5                      NaN                  NaN  \n",
       "6                      NaN                  NaN  \n",
       "7                      NaN                  NaN  \n",
       "8                      NaN                  NaN  \n",
       "9                     22.5                  0.0  \n",
       "\n",
       "[9 rows x 12446 columns]"
      ]
     },
     "execution_count": 137,
     "metadata": {},
     "output_type": "execute_result"
    }
   ],
   "source": [
    "pivot = final_df.pivot_table(\n",
    "    values='AfterhhLoading',\n",
    "    columns='Time',\n",
    "    index='Month',)\n",
    "pivot"
   ]
  },
  {
   "cell_type": "code",
   "execution_count": 139,
   "id": "130a784f",
   "metadata": {},
   "outputs": [
    {
     "data": {
      "text/plain": [
       "<AxesSubplot:xlabel='Time', ylabel='Month'>"
      ]
     },
     "execution_count": 139,
     "metadata": {},
     "output_type": "execute_result"
    },
    {
     "data": {
      "image/png": "[encoded data removed]",
      "text/plain": [
       "<Figure size 1440x288 with 2 Axes>"
      ]
     },
     "metadata": {
      "needs_background": "light"
     },
     "output_type": "display_data"
    }
   ],
   "source": [
    "fig = plt.figure(figsize=(20,4))\n",
    "sns.heatmap(data= pivot, cmap='YlGnBu')"
   ]
  },
  {
   "cell_type": "markdown",
   "id": "b9b8b799",
   "metadata": {},
   "source": [
    "## Обучаем и проверяем"
   ]
  },
  {
   "cell_type": "code",
   "execution_count": 791,
   "id": "f178707d",
   "metadata": {},
   "outputs": [],
   "source": [
    "test_df = final_df_1.copy()\n",
    "y = test_df['AfterhhLoading']\n",
    "X = test_df(['AfterhhLoading', 'Time'], axis=1)"
   ]
  },
  {
   "cell_type": "code",
   "execution_count": 792,
   "id": "404cc0cb",
   "metadata": {},
   "outputs": [],
   "source": [
    "from sklearn.model_selection import train_test_split\n",
    "from sklearn.ensemble import RandomForestRegressor\n",
    "from sklearn.metrics import r2_score"
   ]
  },
  {
   "cell_type": "code",
   "execution_count": 793,
   "id": "42b36dcb",
   "metadata": {},
   "outputs": [],
   "source": [
    "X_train, X_test, y_train, y_test = train_test_split(X, y, train_size=0.7)"
   ]
  },
  {
   "cell_type": "code",
   "execution_count": 794,
   "id": "a0fa7c90",
   "metadata": {},
   "outputs": [
    {
     "data": {
      "text/plain": [
       "(24075, 9)"
      ]
     },
     "execution_count": 794,
     "metadata": {},
     "output_type": "execute_result"
    }
   ],
   "source": [
    "X_train.shape"
   ]
  },
  {
   "cell_type": "code",
   "execution_count": 795,
   "id": "6678f9aa",
   "metadata": {},
   "outputs": [
    {
     "data": {
      "text/plain": [
       "(10318, 9)"
      ]
     },
     "execution_count": 795,
     "metadata": {},
     "output_type": "execute_result"
    }
   ],
   "source": [
    "X_test.shape"
   ]
  },
  {
   "cell_type": "markdown",
   "id": "f620f0b8",
   "metadata": {},
   "source": [
    "## RandomForest"
   ]
  },
  {
   "cell_type": "code",
   "execution_count": 796,
   "id": "45b6e585",
   "metadata": {},
   "outputs": [
    {
     "data": {
      "text/plain": [
       "RandomForestRegressor()"
      ]
     },
     "execution_count": 796,
     "metadata": {},
     "output_type": "execute_result"
    }
   ],
   "source": [
    "rf = RandomForestRegressor()\n",
    "rf.fit(X_train, y_train)"
   ]
  },
  {
   "cell_type": "code",
   "execution_count": 797,
   "id": "342bd544",
   "metadata": {},
   "outputs": [],
   "source": [
    "predict_test_rf = rf.predict(X_test)"
   ]
  },
  {
   "cell_type": "code",
   "execution_count": 798,
   "id": "42ff99c1",
   "metadata": {},
   "outputs": [
    {
     "data": {
      "text/plain": [
       "0.11282540760247983"
      ]
     },
     "execution_count": 798,
     "metadata": {},
     "output_type": "execute_result"
    }
   ],
   "source": [
    "r2_score(y_test, predict_test_rf)"
   ]
  },
  {
   "cell_type": "code",
   "execution_count": 724,
   "id": "704b5115",
   "metadata": {},
   "outputs": [
    {
     "data": {
      "text/plain": [
       "array([116.57      ,  48.37333333, 103.03      , ...,  46.17238095,\n",
       "        75.16      ,  83.13      ])"
      ]
     },
     "execution_count": 724,
     "metadata": {},
     "output_type": "execute_result"
    }
   ],
   "source": [
    "predict_test_rf"
   ]
  },
  {
   "cell_type": "code",
   "execution_count": 725,
   "id": "4cf58d50",
   "metadata": {
    "scrolled": false
   },
   "outputs": [
    {
     "data": {
      "text/plain": [
       "4438     48.0\n",
       "3189     11.0\n",
       "1114     78.0\n",
       "6105     60.0\n",
       "4146     15.0\n",
       "        ...  \n",
       "4767     88.0\n",
       "2112      8.0\n",
       "2653     31.0\n",
       "4401    217.0\n",
       "3696     55.0\n",
       "Name: AfterhhLoading, Length: 1860, dtype: float64"
      ]
     },
     "execution_count": 725,
     "metadata": {},
     "output_type": "execute_result"
    }
   ],
   "source": [
    "y_test"
   ]
  },
  {
   "cell_type": "markdown",
   "id": "1f555c1d",
   "metadata": {},
   "source": [
    "## GradientBoostingRegressor"
   ]
  },
  {
   "cell_type": "code",
   "execution_count": 799,
   "id": "931beec0",
   "metadata": {},
   "outputs": [],
   "source": [
    "from sklearn.ensemble import GradientBoostingRegressor"
   ]
  },
  {
   "cell_type": "code",
   "execution_count": 800,
   "id": "d6ccf22c",
   "metadata": {},
   "outputs": [
    {
     "data": {
      "text/plain": [
       "GradientBoostingRegressor()"
      ]
     },
     "execution_count": 800,
     "metadata": {},
     "output_type": "execute_result"
    }
   ],
   "source": [
    "gbr = GradientBoostingRegressor()\n",
    "gbr.fit(X_train, y_train)"
   ]
  },
  {
   "cell_type": "code",
   "execution_count": 801,
   "id": "d804d33d",
   "metadata": {},
   "outputs": [],
   "source": [
    "predict_test_gdr = gbr.predict(X_test)"
   ]
  },
  {
   "cell_type": "code",
   "execution_count": 802,
   "id": "49a048eb",
   "metadata": {},
   "outputs": [
    {
     "data": {
      "text/plain": [
       "0.2023528828695288"
      ]
     },
     "execution_count": 802,
     "metadata": {},
     "output_type": "execute_result"
    }
   ],
   "source": [
    "r2_score(y_test, predict_test_gdr)"
   ]
  },
  {
   "cell_type": "code",
   "execution_count": 803,
   "id": "8880184c",
   "metadata": {},
   "outputs": [
    {
     "data": {
      "text/plain": [
       "array([37.4490987 , 15.0227073 ,  9.40982482, ..., 10.28836736,\n",
       "        9.40982482, 10.14242461])"
      ]
     },
     "execution_count": 803,
     "metadata": {},
     "output_type": "execute_result"
    }
   ],
   "source": [
    "predict_test_gdr"
   ]
  },
  {
   "cell_type": "code",
   "execution_count": 804,
   "id": "c1269011",
   "metadata": {},
   "outputs": [
    {
     "data": {
      "text/plain": [
       "26007    18.0\n",
       "33417     4.0\n",
       "11066     9.0\n",
       "5697      8.0\n",
       "3121     34.0\n",
       "         ... \n",
       "9638     28.0\n",
       "20688    37.0\n",
       "5866     18.0\n",
       "8489     12.0\n",
       "13913     3.0\n",
       "Name: AfterhhLoading, Length: 10318, dtype: float64"
      ]
     },
     "execution_count": 804,
     "metadata": {},
     "output_type": "execute_result"
    }
   ],
   "source": [
    "y_test"
   ]
  },
  {
   "cell_type": "markdown",
   "id": "1f0af0c4",
   "metadata": {},
   "source": [
    "### LinearRegression"
   ]
  },
  {
   "cell_type": "code",
   "execution_count": 805,
   "id": "a8611d7d",
   "metadata": {},
   "outputs": [],
   "source": [
    "from sklearn.linear_model import LinearRegression"
   ]
  },
  {
   "cell_type": "code",
   "execution_count": 818,
   "id": "6b51a6ce",
   "metadata": {},
   "outputs": [],
   "source": [
    "X_train, X_test, y_train, y_test = train_test_split(X, y, train_size=0.7)"
   ]
  },
  {
   "cell_type": "code",
   "execution_count": 819,
   "id": "5f1c1286",
   "metadata": {},
   "outputs": [
    {
     "data": {
      "text/plain": [
       "(24075, 9)"
      ]
     },
     "execution_count": 819,
     "metadata": {},
     "output_type": "execute_result"
    }
   ],
   "source": [
    "X_train.shape"
   ]
  },
  {
   "cell_type": "code",
   "execution_count": 820,
   "id": "d18241d6",
   "metadata": {},
   "outputs": [
    {
     "data": {
      "text/plain": [
       "(10318, 9)"
      ]
     },
     "execution_count": 820,
     "metadata": {},
     "output_type": "execute_result"
    }
   ],
   "source": [
    "X_test.shape"
   ]
  },
  {
   "cell_type": "code",
   "execution_count": 821,
   "id": "19bdc4a1",
   "metadata": {},
   "outputs": [
    {
     "data": {
      "text/plain": [
       "LinearRegression()"
      ]
     },
     "execution_count": 821,
     "metadata": {},
     "output_type": "execute_result"
    }
   ],
   "source": [
    "lr = LinearRegression()\n",
    "lr.fit(X_train, y_train)"
   ]
  },
  {
   "cell_type": "code",
   "execution_count": 822,
   "id": "8999dfd8",
   "metadata": {},
   "outputs": [],
   "source": [
    "predict_test_lr = lr.predict(X_test)"
   ]
  },
  {
   "cell_type": "code",
   "execution_count": 823,
   "id": "73e4a3e0",
   "metadata": {},
   "outputs": [
    {
     "data": {
      "text/plain": [
       "0.22753253978508614"
      ]
     },
     "execution_count": 823,
     "metadata": {},
     "output_type": "execute_result"
    }
   ],
   "source": [
    "r2_score(y_test, predict_test_lr)"
   ]
  },
  {
   "cell_type": "code",
   "execution_count": 824,
   "id": "ea30cf24",
   "metadata": {},
   "outputs": [
    {
     "data": {
      "text/plain": [
       "array([11.71113836, 21.55955155, 22.44964264, ..., 11.23077016,\n",
       "       12.03695308, 16.99022952])"
      ]
     },
     "execution_count": 824,
     "metadata": {},
     "output_type": "execute_result"
    }
   ],
   "source": [
    "predict_test_lr"
   ]
  },
  {
   "cell_type": "code",
   "execution_count": 825,
   "id": "2c3a71a2",
   "metadata": {},
   "outputs": [
    {
     "data": {
      "text/plain": [
       "19214     6.0\n",
       "22806    20.0\n",
       "12423     9.0\n",
       "32515     2.0\n",
       "34275    59.0\n",
       "         ... \n",
       "24006     5.0\n",
       "28818    10.0\n",
       "19424    19.0\n",
       "30737     4.0\n",
       "31845    13.0\n",
       "Name: AfterhhLoading, Length: 10318, dtype: float64"
      ]
     },
     "execution_count": 825,
     "metadata": {},
     "output_type": "execute_result"
    }
   ],
   "source": [
    "y_test"
   ]
  },
  {
   "cell_type": "code",
   "execution_count": null,
   "id": "0d9a8dec",
   "metadata": {},
   "outputs": [],
   "source": [
    "## Bad scores. Need to refactor table"
   ]
  },
  {
   "cell_type": "markdown",
   "id": "c12596c7",
   "metadata": {},
   "source": [
    "## Creature feature LoadingScore "
   ]
  },
  {
   "cell_type": "code",
   "execution_count": 826,
   "id": "6616aa00",
   "metadata": {},
   "outputs": [],
   "source": [
    "final_df = final_df_1.copy()"
   ]
  },
  {
   "cell_type": "code",
   "execution_count": 827,
   "id": "18068cb8",
   "metadata": {},
   "outputs": [
    {
     "name": "stdout",
     "output_type": "stream",
     "text": [
      "Loading 25 quantile: 5.0, Loading 50 quantile: 10.0, Loading 75 quantile: 21.0\n"
     ]
    }
   ],
   "source": [
    "loading_25 = final_df['AfterhhLoading'].quantile(0.25)\n",
    "loading_50 = final_df['AfterhhLoading'].quantile(0.50)\n",
    "loading_75 = final_df['AfterhhLoading'].quantile(0.75)\n",
    "print(f'Loading 25 quantile: {loading_25}, Loading 50 quantile: {loading_50}, Loading 75 quantile: {loading_75}')"
   ]
  },
  {
   "cell_type": "code",
   "execution_count": 828,
   "id": "9d06dc7a",
   "metadata": {},
   "outputs": [],
   "source": [
    "def get_loading_score(value):\n",
    "    if value < loading_25:\n",
    "        return 1\n",
    "    elif value < loading_50: \n",
    "        return 2\n",
    "    elif value < loading_75:\n",
    "        return 3\n",
    "    else:\n",
    "        return 4"
   ]
  },
  {
   "cell_type": "code",
   "execution_count": 830,
   "id": "605b7bc0",
   "metadata": {},
   "outputs": [
    {
     "data": {
      "text/html": [
       "<div>\n",
       "<style scoped>\n",
       "    .dataframe tbody tr th:only-of-type {\n",
       "        vertical-align: middle;\n",
       "    }\n",
       "\n",
       "    .dataframe tbody tr th {\n",
       "        vertical-align: top;\n",
       "    }\n",
       "\n",
       "    .dataframe thead th {\n",
       "        text-align: right;\n",
       "    }\n",
       "</style>\n",
       "<table border=\"1\" class=\"dataframe\">\n",
       "  <thead>\n",
       "    <tr style=\"text-align: right;\">\n",
       "      <th></th>\n",
       "      <th>Time</th>\n",
       "      <th>JournalAlarmCount</th>\n",
       "      <th>LowAlarmCount</th>\n",
       "      <th>HighAlarmCount</th>\n",
       "      <th>UrgentAlarmCount</th>\n",
       "      <th>BADPVCount</th>\n",
       "      <th>SystemAlarmCount</th>\n",
       "      <th>AllAlarmCount</th>\n",
       "      <th>AcksCount</th>\n",
       "      <th>ChangesCount</th>\n",
       "      <th>AfterhhLoading</th>\n",
       "    </tr>\n",
       "  </thead>\n",
       "  <tbody>\n",
       "    <tr>\n",
       "      <th>0</th>\n",
       "      <td>2023-01-01 03:40:00</td>\n",
       "      <td>0.0</td>\n",
       "      <td>0.0</td>\n",
       "      <td>0.0</td>\n",
       "      <td>0.0</td>\n",
       "      <td>0.0</td>\n",
       "      <td>0.0</td>\n",
       "      <td>0.0</td>\n",
       "      <td>0.0</td>\n",
       "      <td>0.0</td>\n",
       "      <td>5.0</td>\n",
       "    </tr>\n",
       "    <tr>\n",
       "      <th>1</th>\n",
       "      <td>2023-01-01 03:50:00</td>\n",
       "      <td>0.0</td>\n",
       "      <td>0.0</td>\n",
       "      <td>0.0</td>\n",
       "      <td>0.0</td>\n",
       "      <td>0.0</td>\n",
       "      <td>0.0</td>\n",
       "      <td>0.0</td>\n",
       "      <td>0.0</td>\n",
       "      <td>5.0</td>\n",
       "      <td>5.0</td>\n",
       "    </tr>\n",
       "    <tr>\n",
       "      <th>2</th>\n",
       "      <td>2023-01-01 04:00:00</td>\n",
       "      <td>0.0</td>\n",
       "      <td>0.0</td>\n",
       "      <td>0.0</td>\n",
       "      <td>0.0</td>\n",
       "      <td>0.0</td>\n",
       "      <td>0.0</td>\n",
       "      <td>0.0</td>\n",
       "      <td>2.0</td>\n",
       "      <td>3.0</td>\n",
       "      <td>5.0</td>\n",
       "    </tr>\n",
       "    <tr>\n",
       "      <th>3</th>\n",
       "      <td>2023-01-01 04:10:00</td>\n",
       "      <td>0.0</td>\n",
       "      <td>0.0</td>\n",
       "      <td>0.0</td>\n",
       "      <td>0.0</td>\n",
       "      <td>0.0</td>\n",
       "      <td>0.0</td>\n",
       "      <td>0.0</td>\n",
       "      <td>5.0</td>\n",
       "      <td>0.0</td>\n",
       "      <td>14.0</td>\n",
       "    </tr>\n",
       "    <tr>\n",
       "      <th>4</th>\n",
       "      <td>2023-01-01 04:30:00</td>\n",
       "      <td>0.0</td>\n",
       "      <td>0.0</td>\n",
       "      <td>0.0</td>\n",
       "      <td>0.0</td>\n",
       "      <td>0.0</td>\n",
       "      <td>0.0</td>\n",
       "      <td>0.0</td>\n",
       "      <td>0.0</td>\n",
       "      <td>0.0</td>\n",
       "      <td>1.0</td>\n",
       "    </tr>\n",
       "  </tbody>\n",
       "</table>\n",
       "</div>"
      ],
      "text/plain": [
       "                 Time  JournalAlarmCount  LowAlarmCount  HighAlarmCount  \\\n",
       "0 2023-01-01 03:40:00                0.0            0.0             0.0   \n",
       "1 2023-01-01 03:50:00                0.0            0.0             0.0   \n",
       "2 2023-01-01 04:00:00                0.0            0.0             0.0   \n",
       "3 2023-01-01 04:10:00                0.0            0.0             0.0   \n",
       "4 2023-01-01 04:30:00                0.0            0.0             0.0   \n",
       "\n",
       "   UrgentAlarmCount  BADPVCount  SystemAlarmCount  AllAlarmCount  AcksCount  \\\n",
       "0               0.0         0.0               0.0            0.0        0.0   \n",
       "1               0.0         0.0               0.0            0.0        0.0   \n",
       "2               0.0         0.0               0.0            0.0        2.0   \n",
       "3               0.0         0.0               0.0            0.0        5.0   \n",
       "4               0.0         0.0               0.0            0.0        0.0   \n",
       "\n",
       "   ChangesCount  AfterhhLoading  \n",
       "0           0.0             5.0  \n",
       "1           5.0             5.0  \n",
       "2           3.0             5.0  \n",
       "3           0.0            14.0  \n",
       "4           0.0             1.0  "
      ]
     },
     "execution_count": 830,
     "metadata": {},
     "output_type": "execute_result"
    }
   ],
   "source": [
    "final_df.head()"
   ]
  },
  {
   "cell_type": "code",
   "execution_count": 834,
   "id": "7bce8836",
   "metadata": {},
   "outputs": [
    {
     "data": {
      "text/plain": [
       "0    2\n",
       "1    2\n",
       "2    2\n",
       "3    3\n",
       "4    1\n",
       "Name: LoadingScore, dtype: int64"
      ]
     },
     "execution_count": 834,
     "metadata": {},
     "output_type": "execute_result"
    }
   ],
   "source": [
    "final_df['LoadingScore'] = final_df_1['AfterhhLoading'].apply(get_loading_score)\n",
    "final_df['LoadingScore'].head()"
   ]
  },
  {
   "cell_type": "markdown",
   "id": "9c6a8c55",
   "metadata": {},
   "source": [
    "## Check regression with new target feature"
   ]
  },
  {
   "cell_type": "markdown",
   "id": "67603063",
   "metadata": {},
   "source": [
    "## RandomForest"
   ]
  },
  {
   "cell_type": "code",
   "execution_count": 835,
   "id": "aa65355e",
   "metadata": {},
   "outputs": [],
   "source": [
    "y = final_df['LoadingScore']\n",
    "X = final_df.drop(['LoadingScore', 'Time', 'AfterhhLoading' ], axis=1)"
   ]
  },
  {
   "cell_type": "code",
   "execution_count": 836,
   "id": "6a603b89",
   "metadata": {},
   "outputs": [],
   "source": [
    "X_train, X_test, y_train, y_test = train_test_split(X, y, train_size=0.7)"
   ]
  },
  {
   "cell_type": "code",
   "execution_count": 837,
   "id": "c78008f5",
   "metadata": {},
   "outputs": [
    {
     "data": {
      "text/plain": [
       "(24075, 9)"
      ]
     },
     "execution_count": 837,
     "metadata": {},
     "output_type": "execute_result"
    }
   ],
   "source": [
    "X_train.shape"
   ]
  },
  {
   "cell_type": "code",
   "execution_count": 838,
   "id": "b854db5a",
   "metadata": {},
   "outputs": [
    {
     "data": {
      "text/plain": [
       "(10318, 9)"
      ]
     },
     "execution_count": 838,
     "metadata": {},
     "output_type": "execute_result"
    }
   ],
   "source": [
    "X_test.shape"
   ]
  },
  {
   "cell_type": "code",
   "execution_count": 839,
   "id": "922a86de",
   "metadata": {},
   "outputs": [
    {
     "data": {
      "text/plain": [
       "RandomForestRegressor()"
      ]
     },
     "execution_count": 839,
     "metadata": {},
     "output_type": "execute_result"
    }
   ],
   "source": [
    "rf = RandomForestRegressor()\n",
    "rf.fit(X_train, y_train)"
   ]
  },
  {
   "cell_type": "code",
   "execution_count": 840,
   "id": "b07c8ef9",
   "metadata": {},
   "outputs": [],
   "source": [
    "predict_test_rf = rf.predict(X_test)"
   ]
  },
  {
   "cell_type": "code",
   "execution_count": 844,
   "id": "c50e7664",
   "metadata": {},
   "outputs": [
    {
     "data": {
      "text/plain": [
       "-0.14466505653123196"
      ]
     },
     "execution_count": 844,
     "metadata": {},
     "output_type": "execute_result"
    }
   ],
   "source": [
    "r2_score(y_test, np.trunc(predict_test_rf))"
   ]
  },
  {
   "cell_type": "code",
   "execution_count": 842,
   "id": "8944ecb8",
   "metadata": {},
   "outputs": [
    {
     "data": {
      "text/plain": [
       "array([3., 3., 4., ..., 3., 4., 2.])"
      ]
     },
     "execution_count": 842,
     "metadata": {},
     "output_type": "execute_result"
    }
   ],
   "source": [
    "np.round(predict_test_rf)"
   ]
  },
  {
   "cell_type": "code",
   "execution_count": 843,
   "id": "7076bcc8",
   "metadata": {
    "scrolled": false
   },
   "outputs": [
    {
     "data": {
      "text/plain": [
       "8892     3\n",
       "31805    2\n",
       "2378     4\n",
       "4189     3\n",
       "4829     4\n",
       "        ..\n",
       "837      4\n",
       "24506    4\n",
       "33359    4\n",
       "18016    3\n",
       "12327    1\n",
       "Name: LoadingScore, Length: 10318, dtype: int64"
      ]
     },
     "execution_count": 843,
     "metadata": {},
     "output_type": "execute_result"
    }
   ],
   "source": [
    "y_test"
   ]
  },
  {
   "cell_type": "code",
   "execution_count": null,
   "id": "ec8f4e8f",
   "metadata": {},
   "outputs": [],
   "source": []
  }
 ],
 "metadata": {
  "kernelspec": {
   "display_name": "Python 3",
   "language": "python",
   "name": "python3"
  },
  "language_info": {
   "codemirror_mode": {
    "name": "ipython",
    "version": 3
   },
   "file_extension": ".py",
   "mimetype": "text/x-python",
   "name": "python",
   "nbconvert_exporter": "python",
   "pygments_lexer": "ipython3",
   "version": "3.8.8"
  }
 },
 "nbformat": 4,
 "nbformat_minor": 5
}
